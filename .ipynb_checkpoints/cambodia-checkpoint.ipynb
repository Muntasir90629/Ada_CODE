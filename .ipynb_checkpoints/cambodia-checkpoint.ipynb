{
 "cells": [
  {
   "cell_type": "code",
   "execution_count": 2,
   "id": "880b89b6-1191-42bb-8bcd-ab49b9f53640",
   "metadata": {
    "execution": {
     "iopub.execute_input": "2024-01-28T07:34:15.019358Z",
     "iopub.status.busy": "2024-01-28T07:34:15.017517Z",
     "iopub.status.idle": "2024-01-28T07:34:15.379376Z",
     "shell.execute_reply": "2024-01-28T07:34:15.378161Z",
     "shell.execute_reply.started": "2024-01-28T07:34:15.019304Z"
    },
    "tags": []
   },
   "outputs": [
    {
     "data": {
      "application/vnd.jupyter.widget-view+json": {
       "model_id": "b5a606fbdf03442d8a67aa588208c9e3",
       "version_major": 2,
       "version_minor": 0
      },
      "text/plain": [
       "VBox()"
      ]
     },
     "metadata": {},
     "output_type": "display_data"
    },
    {
     "data": {
      "application/vnd.jupyter.widget-view+json": {
       "model_id": "",
       "version_major": 2,
       "version_minor": 0
      },
      "text/plain": [
       "FloatProgress(value=0.0, bar_style='info', description='Progress:', layout=Layout(height='25px', width='50%'),…"
      ]
     },
     "metadata": {},
     "output_type": "display_data"
    }
   ],
   "source": [
    "from pyspark import SparkContext, SparkConf, HiveContext\n",
    "from pyspark.sql.functions import *\n",
    "from pyspark.sql.types import *\n",
    "import pyspark.sql.functions as F\n",
    "import pyspark.sql.types as T\n",
    "import csv\n",
    "# import pandas as pd\n",
    "# import numpy as np\n",
    "import sys\n",
    "from pyspark.sql import Window\n",
    "from pyspark.sql.functions import rank, col\n",
    "# import geohash2 as geohash\n",
    "# import pygeohash as pgh\n",
    "from functools import reduce\n",
    "from pyspark.sql import *"
   ]
  },
  {
   "cell_type": "code",
   "execution_count": null,
   "id": "761cf262-628c-4434-9d06-de32ecc6f628",
   "metadata": {},
   "outputs": [],
   "source": []
  },
  {
   "cell_type": "code",
   "execution_count": null,
   "id": "61b189ed-8916-462e-90fe-07042ef09322",
   "metadata": {},
   "outputs": [],
   "source": []
  },
  {
   "cell_type": "code",
   "execution_count": 3,
   "id": "c95481af-835d-4ee2-8d87-54302d23ee9c",
   "metadata": {
    "execution": {
     "iopub.execute_input": "2024-01-28T07:34:15.381404Z",
     "iopub.status.busy": "2024-01-28T07:34:15.381025Z",
     "iopub.status.idle": "2024-01-28T07:34:18.202396Z",
     "shell.execute_reply": "2024-01-28T07:34:18.201394Z",
     "shell.execute_reply.started": "2024-01-28T07:34:15.381363Z"
    },
    "tags": []
   },
   "outputs": [
    {
     "data": {
      "application/vnd.jupyter.widget-view+json": {
       "model_id": "b0cf9b9af19440e2ba4b660a37d1cf75",
       "version_major": 2,
       "version_minor": 0
      },
      "text/plain": [
       "VBox()"
      ]
     },
     "metadata": {},
     "output_type": "display_data"
    },
    {
     "data": {
      "application/vnd.jupyter.widget-view+json": {
       "model_id": "",
       "version_major": 2,
       "version_minor": 0
      },
      "text/plain": [
       "FloatProgress(value=0.0, bar_style='info', description='Progress:', layout=Layout(height='25px', width='50%'),…"
      ]
     },
     "metadata": {},
     "output_type": "display_data"
    }
   ],
   "source": [
    "brq = spark.read.parquet('s3a://ada-prod-data/etl/data/brq/agg/agg_brq/monthly/KH/2023{11,10,09}/*.parquet')"
   ]
  },
  {
   "cell_type": "code",
   "execution_count": 5,
   "id": "afc4d50f-772f-4c7d-ab16-b06d9f74af00",
   "metadata": {
    "execution": {
     "iopub.execute_input": "2023-12-17T08:58:55.315933Z",
     "iopub.status.busy": "2023-12-17T08:58:55.315745Z",
     "iopub.status.idle": "2023-12-17T08:58:55.368896Z",
     "shell.execute_reply": "2023-12-17T08:58:55.368293Z",
     "shell.execute_reply.started": "2023-12-17T08:58:55.315907Z"
    },
    "tags": []
   },
   "outputs": [
    {
     "data": {
      "application/vnd.jupyter.widget-view+json": {
       "model_id": "2b2874b502674718a89a72cd980afc2e",
       "version_major": 2,
       "version_minor": 0
      },
      "text/plain": [
       "VBox()"
      ]
     },
     "metadata": {},
     "output_type": "display_data"
    },
    {
     "data": {
      "application/vnd.jupyter.widget-view+json": {
       "model_id": "",
       "version_major": 2,
       "version_minor": 0
      },
      "text/plain": [
       "FloatProgress(value=0.0, bar_style='info', description='Progress:', layout=Layout(height='25px', width='50%'),…"
      ]
     },
     "metadata": {},
     "output_type": "display_data"
    },
    {
     "name": "stdout",
     "output_type": "stream",
     "text": [
      "root\n",
      " |-- ifa: string (nullable = true)\n",
      " |-- device: struct (nullable = true)\n",
      " |    |-- device_vendor: string (nullable = true)\n",
      " |    |-- device_name: string (nullable = true)\n",
      " |    |-- device_manufacturer: string (nullable = true)\n",
      " |    |-- device_model: string (nullable = true)\n",
      " |    |-- device_year_of_release: string (nullable = true)\n",
      " |    |-- platform: string (nullable = true)\n",
      " |    |-- major_os: string (nullable = true)\n",
      " |    |-- device_category: string (nullable = true)\n",
      " |-- connection: array (nullable = true)\n",
      " |    |-- element: struct (containsNull = true)\n",
      " |    |    |-- mm_con_type_desc: string (nullable = true)\n",
      " |    |    |-- mm_carrier_name: string (nullable = true)\n",
      " |    |    |-- req_con_type: integer (nullable = true)\n",
      " |    |    |-- req_carrier_mnc: string (nullable = true)\n",
      " |    |    |-- req_carrier_name: string (nullable = true)\n",
      " |    |    |-- req_carrier_code: string (nullable = true)\n",
      " |    |    |-- req_carrier_mcc: string (nullable = true)\n",
      " |    |    |-- brq_count: long (nullable = true)\n",
      " |    |    |-- first_seen: timestamp (nullable = true)\n",
      " |    |    |-- last_seen: timestamp (nullable = true)\n",
      " |    |    |-- user_agent: string (nullable = true)\n",
      " |    |    |-- req_con_type_desc: string (nullable = true)\n",
      " |    |    |-- ndays: long (nullable = true)\n",
      " |-- app: array (nullable = true)\n",
      " |    |-- element: struct (containsNull = true)\n",
      " |    |    |-- bundle: string (nullable = true)\n",
      " |    |    |-- brq_count: long (nullable = true)\n",
      " |    |    |-- first_seen: timestamp (nullable = true)\n",
      " |    |    |-- last_seen: timestamp (nullable = true)\n",
      " |    |    |-- platform: string (nullable = true)\n",
      " |    |    |-- asn: string (nullable = true)\n",
      " |    |    |-- ndays: long (nullable = true)\n",
      " |-- maxmind: array (nullable = true)\n",
      " |    |-- element: struct (containsNull = true)\n",
      " |    |    |-- geohash: string (nullable = true)\n",
      " |    |    |-- brq_count: long (nullable = true)\n",
      " |    |    |-- first_seen: timestamp (nullable = true)\n",
      " |    |    |-- last_seen: timestamp (nullable = true)\n",
      " |    |    |-- longitude: float (nullable = true)\n",
      " |    |    |-- state_name: string (nullable = true)\n",
      " |    |    |-- city: string (nullable = true)\n",
      " |    |    |-- state: string (nullable = true)\n",
      " |    |    |-- latitude: float (nullable = true)\n",
      " |    |    |-- country: string (nullable = true)\n",
      " |    |    |-- ndays: long (nullable = true)\n",
      " |-- gps: array (nullable = true)\n",
      " |    |-- element: struct (containsNull = true)\n",
      " |    |    |-- geohash: string (nullable = true)\n",
      " |    |    |-- brq_count: long (nullable = true)\n",
      " |    |    |-- first_seen: timestamp (nullable = true)\n",
      " |    |    |-- last_seen: timestamp (nullable = true)\n",
      " |    |    |-- longitude: float (nullable = true)\n",
      " |    |    |-- state_name: string (nullable = true)\n",
      " |    |    |-- city: string (nullable = true)\n",
      " |    |    |-- state: string (nullable = true)\n",
      " |    |    |-- latitude: float (nullable = true)\n",
      " |    |    |-- country: string (nullable = true)\n",
      " |    |    |-- ndays: long (nullable = true)\n",
      " |-- user: struct (nullable = true)\n",
      " |    |-- gender: string (nullable = true)\n",
      " |    |-- yob: integer (nullable = true)\n",
      " |    |-- age: integer (nullable = true)\n",
      " |-- brq_count: long (nullable = true)"
     ]
    }
   ],
   "source": [
    "brq.printSchema()"
   ]
  },
  {
   "cell_type": "code",
   "execution_count": null,
   "id": "cf2e0097-d985-4887-85c3-6a8b825d4b9b",
   "metadata": {},
   "outputs": [],
   "source": [
    "brq = spark.read.parquet('s3a://ada-prod-data/etl/data/brq/agg/agg_brq/monthly/KH/2023{11,10,09}/*.parquet')"
   ]
  }
 ],
 "metadata": {
  "kernelspec": {
   "display_name": "PySpark",
   "language": "python",
   "name": "pysparkkernel"
  },
  "language_info": {
   "codemirror_mode": {
    "name": "python",
    "version": 3
   },
   "file_extension": ".py",
   "mimetype": "text/x-python",
   "name": "pyspark",
   "pygments_lexer": "python3"
  }
 },
 "nbformat": 4,
 "nbformat_minor": 5
}
