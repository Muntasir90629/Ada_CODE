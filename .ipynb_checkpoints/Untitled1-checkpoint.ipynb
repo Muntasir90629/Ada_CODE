{
 "cells": [
  {
   "cell_type": "code",
   "execution_count": 1,
   "metadata": {
    "execution": {
     "iopub.execute_input": "2023-12-17T12:54:31.887131Z",
     "iopub.status.busy": "2023-12-17T12:54:31.886795Z",
     "iopub.status.idle": "2023-12-17T12:55:17.797450Z",
     "shell.execute_reply": "2023-12-17T12:55:17.796708Z",
     "shell.execute_reply.started": "2023-12-17T12:54:31.887100Z"
    },
    "tags": []
   },
   "outputs": [
    {
     "data": {
      "application/vnd.jupyter.widget-view+json": {
       "model_id": "e9a17d04b5f747c89d1598fbeb220bff",
       "version_major": 2,
       "version_minor": 0
      },
      "text/plain": [
       "VBox()"
      ]
     },
     "metadata": {},
     "output_type": "display_data"
    },
    {
     "name": "stdout",
     "output_type": "stream",
     "text": [
      "Starting Spark application\n"
     ]
    },
    {
     "data": {
      "text/html": [
       "<table>\n<tbody><tr><th>ID</th><th>YARN Application ID</th><th>Kind</th><th>State</th><th>Spark UI</th><th>Driver log</th><th>User</th><th>Current session?</th></tr><tr><td>3</td><td>application_1702816449166_0004</td><td>pyspark</td><td>idle</td><td><a target=\"_blank\" href=\"http://ip-172-22-101-112.ec2.internal:20888/proxy/application_1702816449166_0004/\" class=\"emr-proxy-link j-17EUNZDXBKZFB application_1702816449166_0004\" emr-resource=\"j-17EUNZDXBKZFB\n\" application-id=\"application_1702816449166_0004\">Link</a></td><td><a target=\"_blank\" href=\"http://ip-172-22-101-117.ec2.internal:8042/node/containerlogs/container_1702816449166_0004_01_000001/livy\">Link</a></td><td>None</td><td>✔</td></tr></tbody></table>"
      ],
      "text/plain": [
       "<IPython.core.display.HTML object>"
      ]
     },
     "metadata": {},
     "output_type": "display_data"
    },
    {
     "data": {
      "application/vnd.jupyter.widget-view+json": {
       "model_id": "",
       "version_major": 2,
       "version_minor": 0
      },
      "text/plain": [
       "FloatProgress(value=0.0, bar_style='info', description='Progress:', layout=Layout(height='25px', width='50%'),…"
      ]
     },
     "metadata": {},
     "output_type": "display_data"
    },
    {
     "name": "stdout",
     "output_type": "stream",
     "text": [
      "SparkSession available as 'spark'.\n"
     ]
    },
    {
     "data": {
      "application/vnd.jupyter.widget-view+json": {
       "model_id": "",
       "version_major": 2,
       "version_minor": 0
      },
      "text/plain": [
       "FloatProgress(value=0.0, bar_style='info', description='Progress:', layout=Layout(height='25px', width='50%'),…"
      ]
     },
     "metadata": {},
     "output_type": "display_data"
    },
    {
     "name": "stdout",
     "output_type": "stream",
     "text": [
      "5058412"
     ]
    }
   ],
   "source": [
    "from pyspark import SparkContext, SparkConf, HiveContext\n",
    "from pyspark.sql.functions import *\n",
    "from pyspark.sql.types import *\n",
    "import pyspark.sql.functions as F\n",
    "import pyspark.sql.types as T\n",
    "import csv\n",
    "# import pandas as pd\n",
    "# import numpy as np\n",
    "import sys\n",
    "from pyspark.sql import Window\n",
    "from pyspark.sql.functions import rank, col\n",
    "# import geohash2 as geohash\n",
    "# import pygeohash as pgh\n",
    "from functools import reduce\n",
    "from pyspark.sql import *\n",
    "\n",
    "\n",
    "\n",
    "\n",
    "mobile= spark.read.csv('s3a://ada-dev/BD-DataScience/muntasir/cambodia/millenium/*.csv',header=True)\n",
    "mobile=mobile.select('ifa')\n",
    "mob=mobile.distinct()\n",
    "mob.count()\n",
    "\n",
    "\n",
    "\n",
    "\n",
    "\n"
   ]
  },
  {
   "cell_type": "code",
   "execution_count": 2,
   "metadata": {
    "execution": {
     "iopub.execute_input": "2023-12-17T12:55:17.798843Z",
     "iopub.status.busy": "2023-12-17T12:55:17.798650Z",
     "iopub.status.idle": "2023-12-17T12:55:33.128236Z",
     "shell.execute_reply": "2023-12-17T12:55:33.127585Z",
     "shell.execute_reply.started": "2023-12-17T12:55:17.798818Z"
    }
   },
   "outputs": [
    {
     "data": {
      "application/vnd.jupyter.widget-view+json": {
       "model_id": "fb4b2a5b1ab74fa1925b5429fcd297ef",
       "version_major": 2,
       "version_minor": 0
      },
      "text/plain": [
       "VBox()"
      ]
     },
     "metadata": {},
     "output_type": "display_data"
    },
    {
     "data": {
      "application/vnd.jupyter.widget-view+json": {
       "model_id": "",
       "version_major": 2,
       "version_minor": 0
      },
      "text/plain": [
       "FloatProgress(value=0.0, bar_style='info', description='Progress:', layout=Layout(height='25px', width='50%'),…"
      ]
     },
     "metadata": {},
     "output_type": "display_data"
    }
   ],
   "source": [
    "brq = spark.read.parquet('s3a://ada-prod-data/etl/data/brq/agg/agg_brq/monthly/KH/2023{11,10,09}/*.parquet')\n",
    "# brq = spark.read.parquet('s3a://ada-prod-data/etl/data/brq/agg/agg_brq/daily/BD/20210301/*.parquet')\n",
    "brq2 = brq.select('ifa', F.explode('app')).select('ifa', 'col.*')\n",
    "brq2 = brq2.select('ifa','bundle','asn',)\n",
    "mobile=mob.join(brq2,\"ifa\",\"left\")\n",
    "\n",
    "\n",
    "brq = spark.read.parquet('s3a://ada-prod-data/etl/data/brq/agg/agg_brq/monthly/KH/2023{11,10,09}/*.parquet')\n",
    "brq2 = brq.select('ifa', F.explode('gps')).select('ifa', 'col.*')\n",
    "brq2=brq2.select('ifa','state','city','geohash','latitude','longitude','last_seen')\n",
    "brq2=brq2.withColumn(\"geohash_new\", substring(col(\"geohash\"),1,7))\n",
    "brq2=brq2.drop(brq2.geohash)\n",
    "brq2=brq2.withColumnRenamed(\"geohash_new\",\"geohash\")\n",
    "mobile=mobile.join(brq2,\"ifa\",\"left\")"
   ]
  },
  {
   "cell_type": "code",
   "execution_count": 3,
   "metadata": {
    "execution": {
     "iopub.execute_input": "2023-12-17T12:55:33.129878Z",
     "iopub.status.busy": "2023-12-17T12:55:33.129683Z",
     "iopub.status.idle": "2023-12-17T12:56:12.574180Z",
     "shell.execute_reply": "2023-12-17T12:56:12.573528Z",
     "shell.execute_reply.started": "2023-12-17T12:55:33.129852Z"
    }
   },
   "outputs": [
    {
     "data": {
      "application/vnd.jupyter.widget-view+json": {
       "model_id": "e9aadd680f774e98aba04b75150e2690",
       "version_major": 2,
       "version_minor": 0
      },
      "text/plain": [
       "VBox()"
      ]
     },
     "metadata": {},
     "output_type": "display_data"
    },
    {
     "data": {
      "application/vnd.jupyter.widget-view+json": {
       "model_id": "",
       "version_major": 2,
       "version_minor": 0
      },
      "text/plain": [
       "FloatProgress(value=0.0, bar_style='info', description='Progress:', layout=Layout(height='25px', width='50%'),…"
      ]
     },
     "metadata": {},
     "output_type": "display_data"
    },
    {
     "name": "stdout",
     "output_type": "stream",
     "text": [
      "+-------------+\n",
      "|     level_id|\n",
      "+-------------+\n",
      "|AUT_02_01_052|\n",
      "|AUT_02_01_028|\n",
      "|FIN_01_01_002|\n",
      "|RET_02_01_001|\n",
      "|HLT_01_03_046|\n",
      "|FNB_05_01_019|\n",
      "|REL_03_01_001|\n",
      "|HLT_01_03_021|\n",
      "|RET_09_03_169|\n",
      "|AUT_02_01_063|\n",
      "|ENT_02_01_034|\n",
      "|FIN_01_01_035|\n",
      "|RET_05_03_004|\n",
      "|EDU_01_09_041|\n",
      "|FNB_01_01_027|\n",
      "|FNB_03_01_017|\n",
      "|RET_01_01_045|\n",
      "|FIN_02_01_021|\n",
      "|RET_05_03_006|\n",
      "|ADV_03_04_001|\n",
      "+-------------+\n",
      "only showing top 20 rows\n",
      "\n",
      "+-------------+\n",
      "|     level_id|\n",
      "+-------------+\n",
      "|ADV_03_02_001|\n",
      "|ADV_03_04_001|\n",
      "|ADV_03_07_003|\n",
      "|ADV_04_01_001|\n",
      "|APT_01_01_011|\n",
      "|APT_01_01_020|\n",
      "|APT_01_01_021|\n",
      "|APT_01_01_022|\n",
      "|APT_01_01_023|\n",
      "|APT_01_01_028|\n",
      "|APT_01_01_029|\n",
      "|APT_01_01_033|\n",
      "|APT_01_01_041|\n",
      "|APT_01_01_048|\n",
      "|APT_01_01_055|\n",
      "|APT_01_01_060|\n",
      "|APT_02_01_046|\n",
      "|APT_02_01_053|\n",
      "|APT_02_01_054|\n",
      "|AUT_01_01_001|\n",
      "+-------------+\n",
      "only showing top 20 rows\n",
      "\n",
      "root\n",
      " |-- level_id: string (nullable = true)\n",
      " |-- l1_name: string (nullable = true)\n",
      " |-- l2_name: string (nullable = true)\n",
      " |-- l3_name: string (nullable = true)\n",
      " |-- l4_name: string (nullable = true)\n",
      " |-- name: string (nullable = true)\n",
      " |-- geohash: string (nullable = true)\n",
      "\n",
      "+-----------------+-----------+\n",
      "|l2_name          |ifa_numbers|\n",
      "+-----------------+-----------+\n",
      "|Showroom         |4749200    |\n",
      "|Market           |4746427    |\n",
      "|Restaurant       |1124921    |\n",
      "|Hotel            |1123798    |\n",
      "|Electronics      |162466     |\n",
      "|Private Education|145291     |\n",
      "|Fashion          |125711     |\n",
      "|Home Living      |92308      |\n",
      "|Retail Pharmacy  |88637      |\n",
      "|Gym And Fitness  |72493      |\n",
      "|Foreign Exchange |67204      |\n",
      "|Cafe             |60883      |\n",
      "|Bar              |59870      |\n",
      "|Beauty Retailer  |58940      |\n",
      "|Nightclub        |49843      |\n",
      "|Fast Food        |46727      |\n",
      "|White Collar     |42710      |\n",
      "|Bakery           |40933      |\n",
      "|Bank             |39228      |\n",
      "|Telco Dealers    |37918      |\n",
      "+-----------------+-----------+\n",
      "only showing top 20 rows"
     ]
    }
   ],
   "source": [
    "master=spark.read.csv('s3a://ada-dev/BD-DataScience/muntasir/Data Process/2023/cam/kh_poi_master_v5_GEO2.csv',header=True)\n",
    "master=master.select(\"level_id\",\"name\",\"geohash7\")\n",
    "master=master.withColumnRenamed(\"geohash7\",\"geohash\")\n",
    "master=master.withColumn(\"new_level_id\", substring(col(\"level_id\"),1,13))\n",
    "master=master.drop(master.level_id)\n",
    "master=master.withColumnRenamed(\"new_level_id\",\"level_id\")\n",
    "master.select('level_id').distinct().show()\n",
    "\n",
    "\n",
    "\n",
    "tax=spark.read.csv('s3a://ada-dev/BD-DataScience/muntasir/Data Process/2023/cam/kh_poi_taxonomy_v5.0.csv',header=True)\n",
    "tax=tax.select('level_id','l1_name','l2_name','l3_name','l4_name')\n",
    "tax_df=tax.withColumn(\"new_level_id\", substring(col(\"level_id\"),1,13))\n",
    "tax_df=tax_df.drop(tax_df.level_id)\n",
    "tax_df=tax_df.withColumnRenamed(\"new_level_id\",\"level_id\")\n",
    "tax_df.select('level_id').show()\n",
    "\n",
    "\n",
    "POI_TAX=tax.join(master,\"level_id\",\"inner\")\n",
    "\n",
    "POI_TAX.printSchema()\n",
    "POI_df=POI_TAX.join(mobile,\"geohash\",\"inner\")\n",
    "\n",
    "\n",
    "l1 =POI_df.groupBy(\"l2_name\").agg(F.countDistinct('ifa').alias('ifa_numbers')).sort('ifa_numbers', ascending=False)\n",
    "\n",
    "l1=l1.filter(l1.l2_name !='others')\n",
    "\n",
    "l1.show(20,truncate=False)\n"
   ]
  },
  {
   "cell_type": "code",
   "execution_count": null,
   "metadata": {},
   "outputs": [],
   "source": []
  }
 ],
 "metadata": {
  "kernelspec": {
   "display_name": "PySpark",
   "language": "python",
   "name": "pysparkkernel"
  },
  "language_info": {
   "codemirror_mode": {
    "name": "python",
    "version": 3
   },
   "file_extension": ".py",
   "mimetype": "text/x-python",
   "name": "pyspark",
   "pygments_lexer": "python3"
  }
 },
 "nbformat": 4,
 "nbformat_minor": 4
}
