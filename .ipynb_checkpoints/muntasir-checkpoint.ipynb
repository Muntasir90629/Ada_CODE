{
 "cells": [
  {
   "cell_type": "code",
   "execution_count": 51,
   "id": "085fe9f0-73e0-470d-a846-76cb5b50f4a7",
   "metadata": {
    "execution": {
     "iopub.execute_input": "2023-11-19T11:11:42.374379Z",
     "iopub.status.busy": "2023-11-19T11:11:42.373474Z",
     "iopub.status.idle": "2023-11-19T11:11:43.128363Z",
     "shell.execute_reply": "2023-11-19T11:11:43.127310Z",
     "shell.execute_reply.started": "2023-11-19T11:11:42.374333Z"
    },
    "tags": []
   },
   "outputs": [
    {
     "data": {
      "application/vnd.jupyter.widget-view+json": {
       "model_id": "c1bc19fdb0d7463d8bd6d937cc04ac8b",
       "version_major": 2,
       "version_minor": 0
      },
      "text/plain": [
       "VBox()"
      ]
     },
     "metadata": {},
     "output_type": "display_data"
    },
    {
     "data": {
      "application/vnd.jupyter.widget-view+json": {
       "model_id": "",
       "version_major": 2,
       "version_minor": 0
      },
      "text/plain": [
       "FloatProgress(value=0.0, bar_style='info', description='Progress:', layout=Layout(height='25px', width='50%'),…"
      ]
     },
     "metadata": {},
     "output_type": "display_data"
    },
    {
     "name": "stderr",
     "output_type": "stream",
     "text": [
      "No module named 'pandas'\n",
      "Traceback (most recent call last):\n",
      "ModuleNotFoundError: No module named 'pandas'\n",
      "\n"
     ]
    }
   ],
   "source": [
    "from pyspark import SparkContext, SparkConf, HiveContext\n",
    "from pyspark.sql.functions import *\n",
    "from pyspark.sql.types import *\n",
    "import pyspark.sql.functions as F\n",
    "import pyspark.sql.types as T\n",
    "import csv\n",
    "import pandas as pd\n",
    "import numpy as np\n",
    "import sys\n",
    "from pyspark.sql import Window\n",
    "from pyspark.sql.functions import rank, col\n",
    "import geohash2 as geohash\n",
    "import pygeohash as pgh\n",
    "from functools import reduce\n",
    "from pyspark.sql import *\n"
   ]
  },
  {
   "cell_type": "code",
   "execution_count": 52,
   "id": "b298ec7f-d124-47c5-98e1-494de6625b9b",
   "metadata": {
    "execution": {
     "iopub.execute_input": "2023-11-19T11:11:43.131737Z",
     "iopub.status.busy": "2023-11-19T11:11:43.131257Z",
     "iopub.status.idle": "2023-11-19T11:11:46.824499Z",
     "shell.execute_reply": "2023-11-19T11:11:46.822320Z",
     "shell.execute_reply.started": "2023-11-19T11:11:43.131695Z"
    },
    "tags": []
   },
   "outputs": [
    {
     "data": {
      "application/vnd.jupyter.widget-view+json": {
       "model_id": "32f0e927df674bb69e91d6ac9fdd8281",
       "version_major": 2,
       "version_minor": 0
      },
      "text/plain": [
       "VBox()"
      ]
     },
     "metadata": {},
     "output_type": "display_data"
    },
    {
     "data": {
      "application/vnd.jupyter.widget-view+json": {
       "model_id": "",
       "version_major": 2,
       "version_minor": 0
      },
      "text/plain": [
       "FloatProgress(value=0.0, bar_style='info', description='Progress:', layout=Layout(height='25px', width='50%'),…"
      ]
     },
     "metadata": {},
     "output_type": "display_data"
    },
    {
     "name": "stdout",
     "output_type": "stream",
     "text": [
      "1278687"
     ]
    }
   ],
   "source": [
    "mobile= spark.read.csv('s3a://ada-dev/BD-DataScience/muntasir/Data Process/2023/Samsung_Cambodia/Samsung_device/*.csv',header=True)\n",
    "mobile=mobile.select('ifa')\n",
    "mob=mobile.distinct()\n",
    "mob.count()\n"
   ]
  },
  {
   "cell_type": "code",
   "execution_count": 53,
   "id": "e3e554bc-8ff5-47a6-9996-de4ad1e78cdc",
   "metadata": {
    "execution": {
     "iopub.execute_input": "2023-11-19T11:11:46.830155Z",
     "iopub.status.busy": "2023-11-19T11:11:46.827572Z",
     "iopub.status.idle": "2023-11-19T11:11:48.637886Z",
     "shell.execute_reply": "2023-11-19T11:11:48.635929Z",
     "shell.execute_reply.started": "2023-11-19T11:11:46.830107Z"
    },
    "tags": []
   },
   "outputs": [
    {
     "data": {
      "application/vnd.jupyter.widget-view+json": {
       "model_id": "7325f983f15a4a389729174a2baaf33c",
       "version_major": 2,
       "version_minor": 0
      },
      "text/plain": [
       "VBox()"
      ]
     },
     "metadata": {},
     "output_type": "display_data"
    },
    {
     "data": {
      "application/vnd.jupyter.widget-view+json": {
       "model_id": "",
       "version_major": 2,
       "version_minor": 0
      },
      "text/plain": [
       "FloatProgress(value=0.0, bar_style='info', description='Progress:', layout=Layout(height='25px', width='50%'),…"
      ]
     },
     "metadata": {},
     "output_type": "display_data"
    }
   ],
   "source": [
    "rich= spark.read.csv('s3a://ada-dev/BD-DataScience/muntasir/Data Process/2023/Samsung_Cambodia/sports_df2/*.csv',header=True)"
   ]
  },
  {
   "cell_type": "code",
   "execution_count": 54,
   "id": "726aae37-737a-4525-b6bb-6b1e52033293",
   "metadata": {
    "execution": {
     "iopub.execute_input": "2023-11-19T11:11:48.645542Z",
     "iopub.status.busy": "2023-11-19T11:11:48.639867Z",
     "iopub.status.idle": "2023-11-19T11:11:49.848115Z",
     "shell.execute_reply": "2023-11-19T11:11:49.843421Z",
     "shell.execute_reply.started": "2023-11-19T11:11:48.645358Z"
    },
    "tags": []
   },
   "outputs": [
    {
     "data": {
      "application/vnd.jupyter.widget-view+json": {
       "model_id": "a1a219793a1a4ea39c5ea4475c8862c9",
       "version_major": 2,
       "version_minor": 0
      },
      "text/plain": [
       "VBox()"
      ]
     },
     "metadata": {},
     "output_type": "display_data"
    },
    {
     "data": {
      "application/vnd.jupyter.widget-view+json": {
       "model_id": "",
       "version_major": 2,
       "version_minor": 0
      },
      "text/plain": [
       "FloatProgress(value=0.0, bar_style='info', description='Progress:', layout=Layout(height='25px', width='50%'),…"
      ]
     },
     "metadata": {},
     "output_type": "display_data"
    },
    {
     "name": "stdout",
     "output_type": "stream",
     "text": [
      "41937"
     ]
    }
   ],
   "source": [
    "rich.count()"
   ]
  },
  {
   "cell_type": "code",
   "execution_count": 55,
   "id": "d46c3959-0e36-4b07-b92b-d37c43ae89ca",
   "metadata": {
    "execution": {
     "iopub.execute_input": "2023-11-19T11:11:49.921882Z",
     "iopub.status.busy": "2023-11-19T11:11:49.860197Z",
     "iopub.status.idle": "2023-11-19T11:11:54.148739Z",
     "shell.execute_reply": "2023-11-19T11:11:54.146705Z",
     "shell.execute_reply.started": "2023-11-19T11:11:49.921814Z"
    },
    "tags": []
   },
   "outputs": [
    {
     "data": {
      "application/vnd.jupyter.widget-view+json": {
       "model_id": "4745f6a0c1844a90a996c48d8c34957c",
       "version_major": 2,
       "version_minor": 0
      },
      "text/plain": [
       "VBox()"
      ]
     },
     "metadata": {},
     "output_type": "display_data"
    },
    {
     "data": {
      "application/vnd.jupyter.widget-view+json": {
       "model_id": "",
       "version_major": 2,
       "version_minor": 0
      },
      "text/plain": [
       "FloatProgress(value=0.0, bar_style='info', description='Progress:', layout=Layout(height='25px', width='50%'),…"
      ]
     },
     "metadata": {},
     "output_type": "display_data"
    }
   ],
   "source": [
    "brq = spark.read.parquet('s3a://ada-prod-data/etl/data/brq/agg/agg_brq/monthly/KH/2023{10,09,08,07,06,05}/*.parquet')\n",
    "# brq = spark.read.parquet('s3a://ada-prod-data/etl/data/brq/agg/agg_brq/daily/BD/20210301/*.parquet')\n",
    "brq2 = brq.select('ifa', F.explode('app')).select('ifa', 'col.*')\n",
    "brq2 = brq2.select('ifa','bundle','asn')"
   ]
  },
  {
   "cell_type": "code",
   "execution_count": 56,
   "id": "12a37f23-bc48-4bec-b3f0-db8e690e4c81",
   "metadata": {
    "execution": {
     "iopub.execute_input": "2023-11-19T11:11:54.152362Z",
     "iopub.status.busy": "2023-11-19T11:11:54.151179Z",
     "iopub.status.idle": "2023-11-19T11:11:55.547886Z",
     "shell.execute_reply": "2023-11-19T11:11:55.546833Z",
     "shell.execute_reply.started": "2023-11-19T11:11:54.152315Z"
    },
    "tags": []
   },
   "outputs": [
    {
     "data": {
      "application/vnd.jupyter.widget-view+json": {
       "model_id": "6aa4e88c42044ade876c1aed2913bfc6",
       "version_major": 2,
       "version_minor": 0
      },
      "text/plain": [
       "VBox()"
      ]
     },
     "metadata": {},
     "output_type": "display_data"
    },
    {
     "data": {
      "application/vnd.jupyter.widget-view+json": {
       "model_id": "",
       "version_major": 2,
       "version_minor": 0
      },
      "text/plain": [
       "FloatProgress(value=0.0, bar_style='info', description='Progress:', layout=Layout(height='25px', width='50%'),…"
      ]
     },
     "metadata": {},
     "output_type": "display_data"
    },
    {
     "name": "stdout",
     "output_type": "stream",
     "text": [
      "root\n",
      " |-- ifa: string (nullable = true)\n",
      " |-- bundle: string (nullable = true)\n",
      " |-- asn: string (nullable = true)"
     ]
    }
   ],
   "source": [
    "brq2.printSchema()"
   ]
  },
  {
   "cell_type": "code",
   "execution_count": 57,
   "id": "4689dc30-4fd0-4e72-8a38-134bf98d549e",
   "metadata": {
    "execution": {
     "iopub.execute_input": "2023-11-19T11:11:55.637820Z",
     "iopub.status.busy": "2023-11-19T11:11:55.632320Z",
     "iopub.status.idle": "2023-11-19T11:11:58.941119Z",
     "shell.execute_reply": "2023-11-19T11:11:58.940029Z",
     "shell.execute_reply.started": "2023-11-19T11:11:55.637772Z"
    },
    "tags": []
   },
   "outputs": [
    {
     "data": {
      "application/vnd.jupyter.widget-view+json": {
       "model_id": "c0056e9b8fd544bcb97eaedfb87bdd9a",
       "version_major": 2,
       "version_minor": 0
      },
      "text/plain": [
       "VBox()"
      ]
     },
     "metadata": {},
     "output_type": "display_data"
    },
    {
     "data": {
      "application/vnd.jupyter.widget-view+json": {
       "model_id": "",
       "version_major": 2,
       "version_minor": 0
      },
      "text/plain": [
       "FloatProgress(value=0.0, bar_style='info', description='Progress:', layout=Layout(height='25px', width='50%'),…"
      ]
     },
     "metadata": {},
     "output_type": "display_data"
    },
    {
     "name": "stdout",
     "output_type": "stream",
     "text": [
      "root\n",
      " |-- bundle: string (nullable = true)\n",
      " |-- app_level_id: string (nullable = true)\n",
      " |-- app_lifestage_id: string (nullable = true)\n",
      " |-- demographic_age: string (nullable = true)\n",
      " |-- demographic_gender: string (nullable = true)\n",
      " |-- language: string (nullable = true)\n",
      " |-- tags: string (nullable = true)\n",
      " |-- created_date: string (nullable = true)\n",
      " |-- updated_date: string (nullable = true)\n",
      " |-- user_id: string (nullable = true)\n",
      "\n",
      "root\n",
      " |-- app_level_id: string (nullable = true)\n",
      " |-- app_l1_name: string (nullable = true)\n",
      " |-- app_l2_name: string (nullable = true)\n",
      " |-- app_l3_name: string (nullable = true)\n",
      " |-- created_date: string (nullable = true)\n",
      " |-- updated_date: string (nullable = true)\n",
      " |-- user_id: string (nullable = true)\n",
      "\n",
      "root\n",
      " |-- app_lifestage_id: string (nullable = true)\n",
      " |-- lifestage_type: string (nullable = true)\n",
      " |-- lifestage_status: string (nullable = true)\n",
      " |-- lifestage_name: string (nullable = true)\n",
      " |-- created_date: string (nullable = true)\n",
      " |-- updated_date: string (nullable = true)\n",
      " |-- user_id: string (nullable = true)"
     ]
    }
   ],
   "source": [
    "#load app , life stage reffrence data\n",
    "master_df = spark.read.csv('s3a://ada-dev/BD-DataScience/app_ref/master_df/*', header=True)\n",
    "master_df.printSchema()\n",
    "level_df = spark.read.csv('s3a://ada-dev/BD-DataScience/app_ref/level_df*', header=True)\n",
    "level_df.printSchema()\n",
    "lifestage_df = spark.read.csv('s3a://ada-dev/BD-DataScience/app_ref/lifestage_df*', header=True)\n",
    "lifestage_df.printSchema()\n",
    "\n",
    "#joining table\n",
    "join_df1 = master_df.join(level_df, on='app_level_id', how='left').cache()\n",
    "join_df2 = join_df1.join(lifestage_df, on='app_lifestage_id', how='left').cache()\n",
    "select_columns = ['bundle', 'app_l1_name', 'app_l2_name', 'app_l3_name', 'lifestage_name']\n",
    "finalapp_df = join_df2.select(*select_columns)"
   ]
  },
  {
   "cell_type": "code",
   "execution_count": 58,
   "id": "9564c0aa-f716-4723-9539-ac46781d37ca",
   "metadata": {
    "execution": {
     "iopub.execute_input": "2023-11-19T11:11:58.946144Z",
     "iopub.status.busy": "2023-11-19T11:11:58.943200Z",
     "iopub.status.idle": "2023-11-19T11:12:00.327409Z",
     "shell.execute_reply": "2023-11-19T11:12:00.323200Z",
     "shell.execute_reply.started": "2023-11-19T11:11:58.946080Z"
    },
    "tags": []
   },
   "outputs": [
    {
     "data": {
      "application/vnd.jupyter.widget-view+json": {
       "model_id": "c5321ca4d61d489180dd3d8576475407",
       "version_major": 2,
       "version_minor": 0
      },
      "text/plain": [
       "VBox()"
      ]
     },
     "metadata": {},
     "output_type": "display_data"
    },
    {
     "data": {
      "application/vnd.jupyter.widget-view+json": {
       "model_id": "",
       "version_major": 2,
       "version_minor": 0
      },
      "text/plain": [
       "FloatProgress(value=0.0, bar_style='info', description='Progress:', layout=Layout(height='25px', width='50%'),…"
      ]
     },
     "metadata": {},
     "output_type": "display_data"
    },
    {
     "name": "stdout",
     "output_type": "stream",
     "text": [
      "+--------------------+-----------+--------------------+-----------+--------------------+\n",
      "|              bundle|app_l1_name|         app_l2_name|app_l3_name|      lifestage_name|\n",
      "+--------------------+-----------+--------------------+-----------+--------------------+\n",
      "|          1017938107|  Parenting|   Newborn Parenting|       null|Parents with Kids...|\n",
      "|          1017938107|  Parenting|   Newborn Parenting|       null|Parents with Kids...|\n",
      "|          1017938107|  Parenting|   Newborn Parenting|       null|Parents with Kids...|\n",
      "|          1017938107|  Parenting|   Newborn Parenting|       null|Parents with Kids...|\n",
      "|          1024728612|    Medical|Medical General Info|       null|                null|\n",
      "|          1024728612|    Medical|Medical General Info|       null|                null|\n",
      "|          1024728612|    Medical|Medical General Info|       null|                null|\n",
      "|          1024728612|    Medical|Medical General Info|       null|                null|\n",
      "|com.grand.robot.t...|      Games|    Simulation Games|       null|                null|\n",
      "|com.grand.robot.t...|      Games|    Simulation Games|       null|                null|\n",
      "|com.grand.robot.t...|      Games|    Simulation Games|       null|                null|\n",
      "|com.grand.robot.t...|      Games|    Simulation Games|       null|                null|\n",
      "| com.worldlivenewstv|       News|          World News|       null|                null|\n",
      "| com.worldlivenewstv|       News|          World News|       null|                null|\n",
      "| com.worldlivenewstv|       News|          World News|       null|                null|\n",
      "| com.worldlivenewstv|       News|          World News|       null|                null|\n",
      "|           625001689| Dating App|    Religious Dating|       null|              Single|\n",
      "|           625001689| Dating App|    Religious Dating|       null|              Single|\n",
      "|           625001689| Dating App|    Religious Dating|       null|              Single|\n",
      "|           625001689| Dating App|    Religious Dating|       null|              Single|\n",
      "+--------------------+-----------+--------------------+-----------+--------------------+\n",
      "only showing top 20 rows"
     ]
    }
   ],
   "source": [
    "finalapp_df.show()"
   ]
  },
  {
   "cell_type": "code",
   "execution_count": 59,
   "id": "818fe3b8-9106-4ac2-8474-d0894842d8c8",
   "metadata": {
    "execution": {
     "iopub.execute_input": "2023-11-19T11:12:00.331712Z",
     "iopub.status.busy": "2023-11-19T11:12:00.331305Z",
     "iopub.status.idle": "2023-11-19T11:12:02.030605Z",
     "shell.execute_reply": "2023-11-19T11:12:02.027601Z",
     "shell.execute_reply.started": "2023-11-19T11:12:00.331670Z"
    },
    "tags": []
   },
   "outputs": [
    {
     "data": {
      "application/vnd.jupyter.widget-view+json": {
       "model_id": "2a47f1b1b0194cd78152d214acc1702c",
       "version_major": 2,
       "version_minor": 0
      },
      "text/plain": [
       "VBox()"
      ]
     },
     "metadata": {},
     "output_type": "display_data"
    },
    {
     "data": {
      "application/vnd.jupyter.widget-view+json": {
       "model_id": "",
       "version_major": 2,
       "version_minor": 0
      },
      "text/plain": [
       "FloatProgress(value=0.0, bar_style='info', description='Progress:', layout=Layout(height='25px', width='50%'),…"
      ]
     },
     "metadata": {},
     "output_type": "display_data"
    }
   ],
   "source": [
    "app =brq2.join(finalapp_df,'bundle', 'inner')"
   ]
  },
  {
   "cell_type": "code",
   "execution_count": 60,
   "id": "70c8b13f-6d35-44a3-95d1-fc8d21834820",
   "metadata": {
    "execution": {
     "iopub.execute_input": "2023-11-19T11:12:02.037751Z",
     "iopub.status.busy": "2023-11-19T11:12:02.037048Z",
     "iopub.status.idle": "2023-11-19T11:12:03.420583Z",
     "shell.execute_reply": "2023-11-19T11:12:03.355701Z",
     "shell.execute_reply.started": "2023-11-19T11:12:02.037700Z"
    },
    "tags": []
   },
   "outputs": [
    {
     "data": {
      "application/vnd.jupyter.widget-view+json": {
       "model_id": "97c38289264942b583182294eff0f7b4",
       "version_major": 2,
       "version_minor": 0
      },
      "text/plain": [
       "VBox()"
      ]
     },
     "metadata": {},
     "output_type": "display_data"
    },
    {
     "data": {
      "application/vnd.jupyter.widget-view+json": {
       "model_id": "",
       "version_major": 2,
       "version_minor": 0
      },
      "text/plain": [
       "FloatProgress(value=0.0, bar_style='info', description='Progress:', layout=Layout(height='25px', width='50%'),…"
      ]
     },
     "metadata": {},
     "output_type": "display_data"
    },
    {
     "name": "stdout",
     "output_type": "stream",
     "text": [
      "root\n",
      " |-- bundle: string (nullable = true)\n",
      " |-- ifa: string (nullable = true)\n",
      " |-- asn: string (nullable = true)\n",
      " |-- app_l1_name: string (nullable = true)\n",
      " |-- app_l2_name: string (nullable = true)\n",
      " |-- app_l3_name: string (nullable = true)\n",
      " |-- lifestage_name: string (nullable = true)"
     ]
    }
   ],
   "source": [
    "app.printSchema()"
   ]
  },
  {
   "cell_type": "code",
   "execution_count": 61,
   "id": "9534c38c-3edc-46b8-bded-d7d705f4e472",
   "metadata": {
    "execution": {
     "iopub.execute_input": "2023-11-19T11:12:03.424254Z",
     "iopub.status.busy": "2023-11-19T11:12:03.423290Z",
     "iopub.status.idle": "2023-11-19T11:12:05.620564Z",
     "shell.execute_reply": "2023-11-19T11:12:05.619033Z",
     "shell.execute_reply.started": "2023-11-19T11:12:03.424208Z"
    },
    "tags": []
   },
   "outputs": [
    {
     "data": {
      "application/vnd.jupyter.widget-view+json": {
       "model_id": "87af0864f1ed4b4ba6d85a1b43044068",
       "version_major": 2,
       "version_minor": 0
      },
      "text/plain": [
       "VBox()"
      ]
     },
     "metadata": {},
     "output_type": "display_data"
    },
    {
     "data": {
      "application/vnd.jupyter.widget-view+json": {
       "model_id": "",
       "version_major": 2,
       "version_minor": 0
      },
      "text/plain": [
       "FloatProgress(value=0.0, bar_style='info', description='Progress:', layout=Layout(height='25px', width='50%'),…"
      ]
     },
     "metadata": {},
     "output_type": "display_data"
    },
    {
     "name": "stdout",
     "output_type": "stream",
     "text": [
      "+---------------------+------------------------------------+-------------------------------------------------+----------------------+---------------------+-----------+--------------+\n",
      "|bundle               |ifa                                 |asn                                              |app_l1_name           |app_l2_name          |app_l3_name|lifestage_name|\n",
      "+---------------------+------------------------------------+-------------------------------------------------+----------------------+---------------------+-----------+--------------+\n",
      "|com.grindrapp.android|0002930a-9c53-4439-8a36-93eea82b25d9|Grindr - Gay chat                                |Dating App            |LGBT Dating          |null       |Single        |\n",
      "|com.grindrapp.android|0002930a-9c53-4439-8a36-93eea82b25d9|Grindr - Gay chat                                |Dating App            |LGBT Dating          |null       |Single        |\n",
      "|com.grindrapp.android|0002930a-9c53-4439-8a36-93eea82b25d9|Grindr - Gay chat                                |Dating App            |LGBT Dating          |null       |Single        |\n",
      "|com.grindrapp.android|0002930a-9c53-4439-8a36-93eea82b25d9|Grindr - Gay chat                                |Dating App            |LGBT Dating          |null       |Single        |\n",
      "|com.miui.videoplayer |0018e9bd-2d69-467d-ac77-22b24a6511f7|Mi Video                                         |Video Streaming       |null                 |null       |null          |\n",
      "|com.miui.videoplayer |0018e9bd-2d69-467d-ac77-22b24a6511f7|Mi Video                                         |Video Streaming       |null                 |null       |null          |\n",
      "|com.miui.videoplayer |0018e9bd-2d69-467d-ac77-22b24a6511f7|Mi Video                                         |Video Streaming       |null                 |null       |null          |\n",
      "|com.miui.videoplayer |0018e9bd-2d69-467d-ac77-22b24a6511f7|Mi Video                                         |Video Streaming       |null                 |null       |null          |\n",
      "|wp.wattpad           |003d0d47-7cb8-46c4-a930-1bdaeca7e9c1|Wattpad – Books & Stories                        |Education             |Books                |Novels     |null          |\n",
      "|wp.wattpad           |003d0d47-7cb8-46c4-a930-1bdaeca7e9c1|Wattpad – Books & Stories                        |Education             |Books                |Novels     |null          |\n",
      "|wp.wattpad           |003d0d47-7cb8-46c4-a930-1bdaeca7e9c1|Wattpad – Books & Stories                        |Education             |Books                |Novels     |null          |\n",
      "|wp.wattpad           |003d0d47-7cb8-46c4-a930-1bdaeca7e9c1|Wattpad – Books & Stories                        |Education             |Books                |Novels     |null          |\n",
      "|com.intsig.camscanner|0040ba63-8a5a-4271-9339-be8dca2b59ae|CamScanner - Scanner to scan PDF                 |Career                |Productivity for Work|null       |Working Adults|\n",
      "|com.intsig.camscanner|0040ba63-8a5a-4271-9339-be8dca2b59ae|CamScanner - Scanner to scan PDF                 |Career                |Productivity for Work|null       |Working Adults|\n",
      "|com.intsig.camscanner|0040ba63-8a5a-4271-9339-be8dca2b59ae|CamScanner - Scanner to scan PDF                 |Career                |Productivity for Work|null       |Working Adults|\n",
      "|com.intsig.camscanner|0040ba63-8a5a-4271-9339-be8dca2b59ae|CamScanner - Scanner to scan PDF                 |Career                |Productivity for Work|null       |Working Adults|\n",
      "|com.drilens.wamr     |0058e890-877d-4dd5-8e00-a7c7843d12f6|WAMR - Recover deleted messages & status download|Social App Accessories|null                 |null       |null          |\n",
      "|com.drilens.wamr     |0058e890-877d-4dd5-8e00-a7c7843d12f6|WAMR - Recover deleted messages & status download|Social App Accessories|null                 |null       |null          |\n",
      "|com.drilens.wamr     |0058e890-877d-4dd5-8e00-a7c7843d12f6|WAMR - Recover deleted messages & status download|Social App Accessories|null                 |null       |null          |\n",
      "|com.drilens.wamr     |0058e890-877d-4dd5-8e00-a7c7843d12f6|WAMR - Recover deleted messages & status download|Social App Accessories|null                 |null       |null          |\n",
      "+---------------------+------------------------------------+-------------------------------------------------+----------------------+---------------------+-----------+--------------+\n",
      "only showing top 20 rows"
     ]
    }
   ],
   "source": [
    "app.show(truncate=False)"
   ]
  },
  {
   "cell_type": "code",
   "execution_count": 62,
   "id": "ab76035c-08e3-4442-951f-9f2ae0495e1e",
   "metadata": {
    "execution": {
     "iopub.execute_input": "2023-11-19T11:12:05.623450Z",
     "iopub.status.busy": "2023-11-19T11:12:05.622218Z",
     "iopub.status.idle": "2023-11-19T11:12:06.154658Z",
     "shell.execute_reply": "2023-11-19T11:12:06.152069Z",
     "shell.execute_reply.started": "2023-11-19T11:12:05.623406Z"
    },
    "tags": []
   },
   "outputs": [
    {
     "data": {
      "application/vnd.jupyter.widget-view+json": {
       "model_id": "2733a11c887843f4b42fa5e50fb3e645",
       "version_major": 2,
       "version_minor": 0
      },
      "text/plain": [
       "VBox()"
      ]
     },
     "metadata": {},
     "output_type": "display_data"
    },
    {
     "data": {
      "application/vnd.jupyter.widget-view+json": {
       "model_id": "",
       "version_major": 2,
       "version_minor": 0
      },
      "text/plain": [
       "FloatProgress(value=0.0, bar_style='info', description='Progress:', layout=Layout(height='25px', width='50%'),…"
      ]
     },
     "metadata": {},
     "output_type": "display_data"
    }
   ],
   "source": [
    "rich_df =rich.join(app,'ifa', 'inner')\n"
   ]
  },
  {
   "cell_type": "code",
   "execution_count": null,
   "id": "774cd0c9-5758-48d8-8fef-43de73e71bd4",
   "metadata": {
    "tags": []
   },
   "outputs": [],
   "source": []
  },
  {
   "cell_type": "code",
   "execution_count": null,
   "id": "55bac356-a060-44fe-aeae-3e7c76460a3b",
   "metadata": {
    "collapsed": true,
    "jupyter": {
     "outputs_hidden": true
    },
    "tags": []
   },
   "outputs": [],
   "source": []
  },
  {
   "cell_type": "code",
   "execution_count": 63,
   "id": "c0143b3a-9932-4e03-b712-b78c36e100bf",
   "metadata": {
    "execution": {
     "iopub.execute_input": "2023-11-19T11:12:06.156711Z",
     "iopub.status.busy": "2023-11-19T11:12:06.156411Z",
     "iopub.status.idle": "2023-11-19T11:12:23.157886Z",
     "shell.execute_reply": "2023-11-19T11:12:23.156839Z",
     "shell.execute_reply.started": "2023-11-19T11:12:06.156684Z"
    },
    "tags": []
   },
   "outputs": [
    {
     "data": {
      "application/vnd.jupyter.widget-view+json": {
       "model_id": "e9a109a39bf04d8c969e3ce7c8cbdbde",
       "version_major": 2,
       "version_minor": 0
      },
      "text/plain": [
       "VBox()"
      ]
     },
     "metadata": {},
     "output_type": "display_data"
    },
    {
     "data": {
      "application/vnd.jupyter.widget-view+json": {
       "model_id": "",
       "version_major": 2,
       "version_minor": 0
      },
      "text/plain": [
       "FloatProgress(value=0.0, bar_style='info', description='Progress:', layout=Layout(height='25px', width='50%'),…"
      ]
     },
     "metadata": {},
     "output_type": "display_data"
    },
    {
     "name": "stdout",
     "output_type": "stream",
     "text": [
      "+----------------------+-----+\n",
      "|app_l1_name           |freq |\n",
      "+----------------------+-----+\n",
      "|Sports and Fitness    |41937|\n",
      "|Games                 |12802|\n",
      "|Personal Productivity |11785|\n",
      "|Photo Video           |8827 |\n",
      "|Music                 |5430 |\n",
      "|Dating App            |4151 |\n",
      "|Video Streaming       |4043 |\n",
      "|Career                |4014 |\n",
      "|Finance               |3691 |\n",
      "|Education             |2603 |\n",
      "|Call and Chat         |2112 |\n",
      "|Social App Accessories|1721 |\n",
      "|Travel                |1502 |\n",
      "|News                  |1104 |\n",
      "|Couple App            |613  |\n",
      "|eCommerce             |274  |\n",
      "|Religious Apps        |253  |\n",
      "|Parenting             |100  |\n",
      "|Medical               |87   |\n",
      "|Beauty                |79   |\n",
      "|Auto Vehicles         |67   |\n",
      "|Food and Beverage     |22   |\n",
      "|Events                |2    |\n",
      "+----------------------+-----+"
     ]
    }
   ],
   "source": [
    "freq_ls =rich_df.groupBy('app_l1_name').agg(F.countDistinct('ifa').alias('freq')).sort('freq', ascending = False)\n",
    "freq_ls=freq_ls.filter(freq_ls.app_l1_name !='null')\n",
    "freq_ls.show(200, False)"
   ]
  },
  {
   "cell_type": "code",
   "execution_count": 64,
   "id": "07f11059-458e-4887-af41-e9edeef06e39",
   "metadata": {
    "execution": {
     "iopub.execute_input": "2023-11-19T11:12:23.160195Z",
     "iopub.status.busy": "2023-11-19T11:12:23.159458Z",
     "iopub.status.idle": "2023-11-19T11:12:39.358297Z",
     "shell.execute_reply": "2023-11-19T11:12:39.357289Z",
     "shell.execute_reply.started": "2023-11-19T11:12:23.160142Z"
    },
    "tags": []
   },
   "outputs": [
    {
     "data": {
      "application/vnd.jupyter.widget-view+json": {
       "model_id": "fdf55bf3767a46a1a56018a8f91d6987",
       "version_major": 2,
       "version_minor": 0
      },
      "text/plain": [
       "VBox()"
      ]
     },
     "metadata": {},
     "output_type": "display_data"
    },
    {
     "data": {
      "application/vnd.jupyter.widget-view+json": {
       "model_id": "",
       "version_major": 2,
       "version_minor": 0
      },
      "text/plain": [
       "FloatProgress(value=0.0, bar_style='info', description='Progress:', layout=Layout(height='25px', width='50%'),…"
      ]
     },
     "metadata": {},
     "output_type": "display_data"
    },
    {
     "name": "stdout",
     "output_type": "stream",
     "text": [
      "+--------------------------------------------------+----+\n",
      "|asn                                               |freq|\n",
      "+--------------------------------------------------+----+\n",
      "|WAMR - Recover deleted messages & status download |329 |\n",
      "|Video Downloader                                  |282 |\n",
      "|Opera browser with free VPN                       |129 |\n",
      "|SHAREit - Transfer & Share                        |84  |\n",
      "|Web Explorer                                      |78  |\n",
      "|Khmer Phone Number Horoscope                      |73  |\n",
      "|MEEFF - Korean friends                            |60  |\n",
      "|Opera Mini - fast web browser                     |52  |\n",
      "|Tumblr                                            |46  |\n",
      "|Web Browser - Secure Explorer                     |39  |\n",
      "|Super Clone - App Cloner for Multiple Accounts    |36  |\n",
      "|Free Video Downloader                             |31  |\n",
      "|Downloader - Free Video Downloader App            |31  |\n",
      "|Kat Soben - Dream Meaning                         |30  |\n",
      "|HD Video Download for Facebook                    |25  |\n",
      "|BOX Video Downloader: Private Downloader Safe Free|25  |\n",
      "|All downloader 2019                               |23  |\n",
      "|Notisave                                          |18  |\n",
      "|2020 점신 : 오늘의 무료 운세, 사주의 완전판       |18  |\n",
      "|UC Browser- Free & Fast Video Downloader, News App|17  |\n",
      "+--------------------------------------------------+----+\n",
      "only showing top 20 rows"
     ]
    }
   ],
   "source": [
    "rich_df=rich_df.filter(rich_df.app_l1_name == 'Social App Accessories')\n",
    "freq_ls =rich_df.groupBy('asn').agg(F.countDistinct('ifa').alias('freq')).sort('freq', ascending = False)\n",
    "freq_ls.show(20, False)\n"
   ]
  },
  {
   "cell_type": "code",
   "execution_count": 65,
   "id": "dd992fa7-9ad2-45c7-ba0a-c2fa5893e1f6",
   "metadata": {
    "execution": {
     "iopub.execute_input": "2023-11-19T11:12:39.360301Z",
     "iopub.status.busy": "2023-11-19T11:12:39.359755Z",
     "iopub.status.idle": "2023-11-19T11:12:55.553048Z",
     "shell.execute_reply": "2023-11-19T11:12:55.549627Z",
     "shell.execute_reply.started": "2023-11-19T11:12:39.360262Z"
    },
    "tags": []
   },
   "outputs": [
    {
     "data": {
      "application/vnd.jupyter.widget-view+json": {
       "model_id": "256c908dff3149339054571493b402b2",
       "version_major": 2,
       "version_minor": 0
      },
      "text/plain": [
       "VBox()"
      ]
     },
     "metadata": {},
     "output_type": "display_data"
    },
    {
     "data": {
      "application/vnd.jupyter.widget-view+json": {
       "model_id": "",
       "version_major": 2,
       "version_minor": 0
      },
      "text/plain": [
       "FloatProgress(value=0.0, bar_style='info', description='Progress:', layout=Layout(height='25px', width='50%'),…"
      ]
     },
     "metadata": {},
     "output_type": "display_data"
    },
    {
     "name": "stdout",
     "output_type": "stream",
     "text": [
      "+----------------------+----+\n",
      "|app_l1_name           |freq|\n",
      "+----------------------+----+\n",
      "|Social App Accessories|1721|\n",
      "+----------------------+----+"
     ]
    }
   ],
   "source": [
    "freq_ls =rich_df.groupBy('app_l1_name').agg(F.countDistinct('ifa').alias('freq')).sort('freq', ascending = False)\n",
    "freq_ls=freq_ls.filter(freq_ls.app_l1_name !='null')\n",
    "freq_ls.show(200, False)"
   ]
  },
  {
   "cell_type": "code",
   "execution_count": null,
   "id": "44c20969-f65a-430e-9ee1-db93142c7f3a",
   "metadata": {},
   "outputs": [],
   "source": []
  }
 ],
 "metadata": {
  "kernelspec": {
   "display_name": "PySpark",
   "language": "",
   "name": "pysparkkernel"
  },
  "language_info": {
   "codemirror_mode": {
    "name": "python",
    "version": 2
   },
   "mimetype": "text/x-python",
   "name": "pyspark",
   "pygments_lexer": "python2"
  }
 },
 "nbformat": 4,
 "nbformat_minor": 5
}
