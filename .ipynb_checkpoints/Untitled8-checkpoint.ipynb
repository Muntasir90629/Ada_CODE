{
 "cells": [
  {
   "cell_type": "code",
   "execution_count": 16,
   "id": "640a885f-bd79-485a-bb73-3133a8f39c16",
   "metadata": {
    "execution": {
     "iopub.execute_input": "2024-02-11T10:47:31.735185Z",
     "iopub.status.busy": "2024-02-11T10:47:31.734841Z",
     "iopub.status.idle": "2024-02-11T10:47:31.791674Z",
     "shell.execute_reply": "2024-02-11T10:47:31.790910Z",
     "shell.execute_reply.started": "2024-02-11T10:47:31.735155Z"
    },
    "tags": []
   },
   "outputs": [
    {
     "data": {
      "application/vnd.jupyter.widget-view+json": {
       "model_id": "afa328e8790e4556b2f074f7a08cba8d",
       "version_major": 2,
       "version_minor": 0
      },
      "text/plain": [
       "VBox()"
      ]
     },
     "metadata": {},
     "output_type": "display_data"
    },
    {
     "data": {
      "application/vnd.jupyter.widget-view+json": {
       "model_id": "",
       "version_major": 2,
       "version_minor": 0
      },
      "text/plain": [
       "FloatProgress(value=0.0, bar_style='info', description='Progress:', layout=Layout(height='25px', width='50%'),…"
      ]
     },
     "metadata": {},
     "output_type": "display_data"
    }
   ],
   "source": [
    "from pyspark import SparkContext, SparkConf, HiveContext\n",
    "from pyspark.sql.functions import *\n",
    "from pyspark.sql.types import *\n",
    "import pyspark.sql.functions as F\n",
    "import pyspark.sql.types as T\n",
    "import csv\n",
    "# import pandas as pd\n",
    "# import numpy as np\n",
    "import sys\n",
    "from pyspark.sql import Window\n",
    "from pyspark.sql.functions import rank, col\n",
    "# import geohash2 as geohash\n",
    "# import pygeohash as pgh\n",
    "from functools import reduce\n",
    "from pyspark.sql import *"
   ]
  },
  {
   "cell_type": "code",
   "execution_count": 17,
   "id": "18d40204-db6a-4f1d-a149-aad5730aff30",
   "metadata": {
    "execution": {
     "iopub.execute_input": "2024-02-11T10:47:32.292555Z",
     "iopub.status.busy": "2024-02-11T10:47:32.292212Z",
     "iopub.status.idle": "2024-02-11T10:47:47.608970Z",
     "shell.execute_reply": "2024-02-11T10:47:47.608284Z",
     "shell.execute_reply.started": "2024-02-11T10:47:32.292525Z"
    },
    "tags": []
   },
   "outputs": [
    {
     "data": {
      "application/vnd.jupyter.widget-view+json": {
       "model_id": "e61f87c2aba948deac1e81b6e06264ef",
       "version_major": 2,
       "version_minor": 0
      },
      "text/plain": [
       "VBox()"
      ]
     },
     "metadata": {},
     "output_type": "display_data"
    },
    {
     "data": {
      "application/vnd.jupyter.widget-view+json": {
       "model_id": "",
       "version_major": 2,
       "version_minor": 0
      },
      "text/plain": [
       "FloatProgress(value=0.0, bar_style='info', description='Progress:', layout=Layout(height='25px', width='50%'),…"
      ]
     },
     "metadata": {},
     "output_type": "display_data"
    }
   ],
   "source": [
    "brq = spark.read.parquet('s3a://ada-prod-data/etl/data/brq/agg/agg_brq/monthly/BD/2024{01}/*.parquet')\n",
    "brq2 = brq.select('ifa', F.explode('gps')).select('ifa', 'col.*')\n",
    "gps_df=brq2.withColumn(\"day\", date_format('last_seen', 'dd'))\n",
    "gps_df=gps_df.withColumn(\"month\", date_format('last_seen', 'MM'))\n",
    "gps_df=gps_df.drop(gps_df.last_seen)\n",
    "gps_df=gps_df.withColumn(\"new_geohash\", substring(col(\"geohash\"),1,7))\n",
    "gps_df=gps_df.drop(gps_df.geohash)\n",
    "gps_df=gps_df.withColumnRenamed(\"new_geohash\",\"geohash\")"
   ]
  },
  {
   "cell_type": "code",
   "execution_count": 18,
   "id": "9b7074db-0a0a-45c0-928c-28c55152b384",
   "metadata": {
    "execution": {
     "iopub.execute_input": "2024-02-11T10:47:47.610359Z",
     "iopub.status.busy": "2024-02-11T10:47:47.610097Z",
     "iopub.status.idle": "2024-02-11T10:47:52.892689Z",
     "shell.execute_reply": "2024-02-11T10:47:52.892006Z",
     "shell.execute_reply.started": "2024-02-11T10:47:47.610332Z"
    },
    "tags": []
   },
   "outputs": [
    {
     "data": {
      "application/vnd.jupyter.widget-view+json": {
       "model_id": "742b13dc96104d5e96cd46d67a46a097",
       "version_major": 2,
       "version_minor": 0
      },
      "text/plain": [
       "VBox()"
      ]
     },
     "metadata": {},
     "output_type": "display_data"
    },
    {
     "data": {
      "application/vnd.jupyter.widget-view+json": {
       "model_id": "",
       "version_major": 2,
       "version_minor": 0
      },
      "text/plain": [
       "FloatProgress(value=0.0, bar_style='info', description='Progress:', layout=Layout(height='25px', width='50%'),…"
      ]
     },
     "metadata": {},
     "output_type": "display_data"
    },
    {
     "name": "stdout",
     "output_type": "stream",
     "text": [
      "+--------------------+---------+-------------------+---------+----------+-------------------+----------+--------+-------+-----+---+-----+-------+\n",
      "|                 ifa|brq_count|         first_seen|longitude|state_name|               city|     state|latitude|country|ndays|day|month|geohash|\n",
      "+--------------------+---------+-------------------+---------+----------+-------------------+----------+--------+-------+-----+---+-----+-------+\n",
      "|000024c2-750b-4c2...|        8|2024-01-29 08:22:10|    90.89|       NaN|           Bajitpur|     Dhaka|   24.32|     BD|    1| 29|   01|wh2dk72|\n",
      "|000024c2-750b-4c2...|       88|2024-01-24 08:32:40|  90.3742|       NaN|            Azimpur|     Dhaka| 23.7018|     BD|    6| 30|   01|wh0qbdb|\n",
      "|0000b54a-cf1e-4ec...|        2|2024-01-13 09:37:23|  90.3927|       NaN|              Tungi|     Dhaka| 23.8672|     BD|    1| 13|   01|wh0rbbv|\n",
      "|0001ba9c-4631-4dd...|        1|2024-01-30 03:01:12|  90.6562|       NaN|          Narsingdi|     Dhaka| 23.7917|     BD|    1| 30|   01|wh0rqgj|\n",
      "|0001f599-df50-4af...|        3|2024-01-15 04:36:59|  91.0593|       NaN|            Laksham|Chittagong| 23.3522|     BD|    1| 15|   01|wh0ub55|\n",
      "|0001f599-df50-4af...|        1|2024-01-15 00:51:23|  90.3742|       NaN|            Azimpur|     Dhaka| 23.7018|     BD|    1| 15|   01|wh0qbdb|\n",
      "|0001f599-df50-4af...|        1|2024-01-31 14:59:30|  90.4096|       NaN|             Paltan|     Dhaka| 23.7948|     BD|    1| 31|   01|wh0r37d|\n",
      "|00023115-1804-478...|       16|2024-01-16 15:56:03|  90.3742|       NaN|            Azimpur|     Dhaka| 23.7018|     BD|    3| 19|   01|wh0qbdb|\n",
      "|00023115-1804-478...|        4|2024-01-12 14:21:31|   89.566|       NaN|             Khulna|    Khulna| 22.8159|     BD|    1| 12|   01|tup9y1e|\n",
      "|00023115-1804-478...|        2|2024-01-21 16:09:35|  90.4093|       NaN|             Paltan|     Dhaka| 23.7272|     BD|    2| 31|   01|wh0qcr6|\n",
      "|00023115-1804-478...|        1|2024-01-02 15:51:43|  89.3962|       NaN|Bhatpara Abhaynagar|    Khulna| 23.0361|     BD|    1| 02|   01|tupe438|\n",
      "|00023115-1804-478...|        2|2024-01-03 15:10:11|  90.0571|       NaN|          Madaripur|     Dhaka|  23.221|     BD|    1| 03|   01|wh0h173|\n",
      "|0002ccbe-1ede-4ca...|        1|2024-01-13 15:53:11|  90.4093|       NaN|             Paltan|     Dhaka| 23.7272|     BD|    1| 13|   01|wh0qcr6|\n",
      "|0002d395-e49b-45b...|       26|2024-01-07 08:44:26|  90.3657|       NaN|            Azimpur|     Dhaka| 23.7731|     BD|    2| 12|   01|wh0r0rf|\n",
      "|0002d395-e49b-45b...|        2|2024-01-06 22:40:00|    91.11|       NaN|            Laksham|Chittagong|    23.1|     BD|    1| 06|   01|wh0g3m0|\n",
      "|0002e96e-2bd5-464...|        3|2024-01-27 03:29:47|  90.4093|       NaN|             Paltan|     Dhaka| 23.7272|     BD|    3| 31|   01|wh0qcr6|\n",
      "|0004e826-a480-4ad...|        9|2024-01-12 18:06:00|  90.3742|       NaN|            Azimpur|     Dhaka| 23.7018|     BD|    4| 31|   01|wh0qbdb|\n",
      "|0004e826-a480-4ad...|        1|2024-01-14 04:59:26|   88.766|       NaN|           Rajshahi|  Rajshahi| 24.4459|     BD|    1| 14|   01|tur55fj|\n",
      "|000515f1-e2b9-456...|      218|2024-01-22 04:38:43|   89.566|       NaN|             Khulna|    Khulna| 22.8159|     BD|    3| 29|   01|tup9y1e|\n",
      "|000563e4-1735-43c...|        2|2024-01-14 11:23:16|  90.3722|       NaN|            Azimpur|     Dhaka| 23.7534|     BD|    1| 14|   01|wh0r0kp|\n",
      "+--------------------+---------+-------------------+---------+----------+-------------------+----------+--------+-------+-----+---+-----+-------+\n",
      "only showing top 20 rows"
     ]
    }
   ],
   "source": [
    "gps_df.show()"
   ]
  },
  {
   "cell_type": "code",
   "execution_count": 19,
   "id": "d1464057-c5b7-4173-a075-f8927d543801",
   "metadata": {
    "execution": {
     "iopub.execute_input": "2024-02-11T10:47:52.894485Z",
     "iopub.status.busy": "2024-02-11T10:47:52.894205Z",
     "iopub.status.idle": "2024-02-11T10:47:56.172927Z",
     "shell.execute_reply": "2024-02-11T10:47:56.172245Z",
     "shell.execute_reply.started": "2024-02-11T10:47:52.894456Z"
    },
    "tags": []
   },
   "outputs": [
    {
     "data": {
      "application/vnd.jupyter.widget-view+json": {
       "model_id": "635b8daf284843b1ad99b2a541cd31d4",
       "version_major": 2,
       "version_minor": 0
      },
      "text/plain": [
       "VBox()"
      ]
     },
     "metadata": {},
     "output_type": "display_data"
    },
    {
     "data": {
      "application/vnd.jupyter.widget-view+json": {
       "model_id": "",
       "version_major": 2,
       "version_minor": 0
      },
      "text/plain": [
       "FloatProgress(value=0.0, bar_style='info', description='Progress:', layout=Layout(height='25px', width='50%'),…"
      ]
     },
     "metadata": {},
     "output_type": "display_data"
    }
   ],
   "source": [
    "br=spark.read.csv('s3a://ada-dev/BD-DataScience/muntasir/barikoi/uttara.csv',header=True)"
   ]
  },
  {
   "cell_type": "code",
   "execution_count": 20,
   "id": "1c757ac6-ac56-458e-950f-01265d20341a",
   "metadata": {
    "execution": {
     "iopub.execute_input": "2024-02-11T10:47:56.174499Z",
     "iopub.status.busy": "2024-02-11T10:47:56.174224Z",
     "iopub.status.idle": "2024-02-11T10:47:56.430844Z",
     "shell.execute_reply": "2024-02-11T10:47:56.430165Z",
     "shell.execute_reply.started": "2024-02-11T10:47:56.174469Z"
    },
    "tags": []
   },
   "outputs": [
    {
     "data": {
      "application/vnd.jupyter.widget-view+json": {
       "model_id": "b9fed16513ae4e239ac4a0c7682be7b2",
       "version_major": 2,
       "version_minor": 0
      },
      "text/plain": [
       "VBox()"
      ]
     },
     "metadata": {},
     "output_type": "display_data"
    },
    {
     "data": {
      "application/vnd.jupyter.widget-view+json": {
       "model_id": "",
       "version_major": 2,
       "version_minor": 0
      },
      "text/plain": [
       "FloatProgress(value=0.0, bar_style='info', description='Progress:', layout=Layout(height='25px', width='50%'),…"
      ]
     },
     "metadata": {},
     "output_type": "display_data"
    }
   ],
   "source": [
    "join=br.join(gps_df,'geohash','inner')"
   ]
  },
  {
   "cell_type": "code",
   "execution_count": 21,
   "id": "3a87b8fe-0ff1-4da1-89d4-6730b120564f",
   "metadata": {
    "execution": {
     "iopub.execute_input": "2024-02-11T10:47:56.432097Z",
     "iopub.status.busy": "2024-02-11T10:47:56.431826Z",
     "iopub.status.idle": "2024-02-11T10:48:17.808781Z",
     "shell.execute_reply": "2024-02-11T10:48:17.808115Z",
     "shell.execute_reply.started": "2024-02-11T10:47:56.432069Z"
    },
    "tags": []
   },
   "outputs": [
    {
     "data": {
      "application/vnd.jupyter.widget-view+json": {
       "model_id": "af84bdfa7e3c4831bff4621981a6cd65",
       "version_major": 2,
       "version_minor": 0
      },
      "text/plain": [
       "VBox()"
      ]
     },
     "metadata": {},
     "output_type": "display_data"
    },
    {
     "data": {
      "application/vnd.jupyter.widget-view+json": {
       "model_id": "",
       "version_major": 2,
       "version_minor": 0
      },
      "text/plain": [
       "FloatProgress(value=0.0, bar_style='info', description='Progress:', layout=Layout(height='25px', width='50%'),…"
      ]
     },
     "metadata": {},
     "output_type": "display_data"
    },
    {
     "name": "stdout",
     "output_type": "stream",
     "text": [
      "+-------+--------------------+---------+-------------------+---------+----------+-----+-----+--------+-------+-----+---+-----+\n",
      "|geohash|                 ifa|brq_count|         first_seen|longitude|state_name| city|state|latitude|country|ndays|day|month|\n",
      "+-------+--------------------+---------+-------------------+---------+----------+-----+-----+--------+-------+-----+---+-----+\n",
      "|wh0rbbv|0000b54a-cf1e-4ec...|        2|2024-01-13 09:37:23|  90.3927|       NaN|Tungi|Dhaka| 23.8672|     BD|    1| 13|   01|\n",
      "|wh0rbbv|000563e4-1735-43c...|       87|2024-01-03 13:54:06|  90.3927|       NaN|Tungi|Dhaka| 23.8672|     BD|   13| 31|   01|\n",
      "|wh0rbbv|000d5bda-e31c-4d7...|       70|2024-01-05 13:16:33|  90.3927|       NaN|Tungi|Dhaka| 23.8672|     BD|   12| 31|   01|\n",
      "|wh0rbbv|0011f452-d165-482...|       11|2024-01-24 11:23:10|  90.3927|       NaN|Tungi|Dhaka| 23.8672|     BD|    1| 24|   01|\n",
      "|wh0rbbv|0015bc6b-faa2-4f7...|        6|2024-01-03 13:37:49|  90.3927|       NaN|Tungi|Dhaka| 23.8672|     BD|    5| 28|   01|\n",
      "|wh0rbbv|001af917-9e41-412...|        1|2024-01-30 17:34:59|  90.3927|       NaN|Tungi|Dhaka| 23.8672|     BD|    1| 30|   01|\n",
      "|wh0rbbv|001da225-1943-4a5...|        1|2024-01-10 20:12:26|  90.3927|       NaN|Tungi|Dhaka| 23.8672|     BD|    1| 10|   01|\n",
      "|wh0rbbv|001e9147-5a2c-4fe...|       16|2024-01-19 20:35:55|  90.3927|       NaN|Tungi|Dhaka| 23.8672|     BD|    2| 20|   01|\n",
      "|wh0rbbv|0025c88d-4ab7-461...|       35|2024-01-25 03:47:30|  90.3927|       NaN|Tungi|Dhaka| 23.8672|     BD|    2| 29|   01|\n",
      "|wh0rbbv|002bdc4a-92c9-488...|        2|2024-01-15 11:36:41|  90.3927|       NaN|Tungi|Dhaka| 23.8672|     BD|    2| 18|   01|\n",
      "|wh0rbbv|002d831f-24ff-4bc...|       10|2024-01-14 03:35:53|  90.3927|       NaN|Tungi|Dhaka| 23.8672|     BD|    4| 18|   01|\n",
      "|wh0rbbv|002eef2c-ce47-4e4...|        7|2024-01-18 05:15:57|  90.3927|       NaN|Tungi|Dhaka| 23.8672|     BD|    2| 28|   01|\n",
      "|wh0rbbv|00304472-2ba8-495...|        4|2024-01-27 03:22:04|  90.3927|       NaN|Tungi|Dhaka| 23.8672|     BD|    3| 30|   01|\n",
      "|wh0rbbv|0035faa2-6d8d-435...|        5|2024-01-20 08:32:59|  90.3927|       NaN|Tungi|Dhaka| 23.8672|     BD|    1| 20|   01|\n",
      "|wh0rbbv|0039684e-08a3-40f...|        6|2024-01-27 01:19:14|  90.3927|       NaN|Tungi|Dhaka| 23.8672|     BD|    2| 28|   01|\n",
      "|wh0rbbv|003a4c38-18c7-458...|       84|2024-01-07 12:00:26|  90.3927|       NaN|Tungi|Dhaka| 23.8672|     BD|    7| 26|   01|\n",
      "|wh0rbbv|003b6012-7711-468...|        5|2024-01-12 17:13:29|  90.3927|       NaN|Tungi|Dhaka| 23.8672|     BD|    1| 12|   01|\n",
      "|wh0rbbv|003b9a15-9d75-42b...|       17|2024-01-03 14:18:02|  90.3927|       NaN|Tungi|Dhaka| 23.8672|     BD|    3| 09|   01|\n",
      "|wh0rbbv|004005c1-bf03-402...|        6|2024-01-10 12:41:42|  90.3927|       NaN|Tungi|Dhaka| 23.8672|     BD|    1| 10|   01|\n",
      "|wh0rbbv|0042fdd8-cde2-47f...|        1|2024-01-29 13:11:30|  90.3927|       NaN|Tungi|Dhaka| 23.8672|     BD|    1| 29|   01|\n",
      "+-------+--------------------+---------+-------------------+---------+----------+-----+-----+--------+-------+-----+---+-----+\n",
      "only showing top 20 rows\n",
      "\n",
      "+--------------+\n",
      "|max(brq_count)|\n",
      "+--------------+\n",
      "|79726         |\n",
      "+--------------+\n",
      "\n",
      "+--------------+\n",
      "|min(brq_count)|\n",
      "+--------------+\n",
      "|1             |\n",
      "+--------------+\n",
      "\n",
      "+-----------------+\n",
      "|avg(brq_count)   |\n",
      "+-----------------+\n",
      "|35.72271303689251|\n",
      "+-----------------+"
     ]
    }
   ],
   "source": [
    "join.show()\n",
    "# Using max() function\n",
    "join.select(max(\"brq_count\")).show(truncate=False)\n",
    "# Using min() function\n",
    "join.select(min(\"brq_count\")).show(truncate=False)\n",
    "# Using mean() function\n",
    "join.select(mean(\"brq_count\")).show(truncate=False)"
   ]
  },
  {
   "cell_type": "code",
   "execution_count": 22,
   "id": "36f4753b-dbcb-43f4-a39d-4be732d1d058",
   "metadata": {
    "execution": {
     "iopub.execute_input": "2024-02-11T10:48:17.810028Z",
     "iopub.status.busy": "2024-02-11T10:48:17.809764Z",
     "iopub.status.idle": "2024-02-11T10:48:18.067224Z",
     "shell.execute_reply": "2024-02-11T10:48:18.066568Z",
     "shell.execute_reply.started": "2024-02-11T10:48:17.810000Z"
    },
    "tags": []
   },
   "outputs": [
    {
     "data": {
      "application/vnd.jupyter.widget-view+json": {
       "model_id": "7e330596c29d43ff9a2366fc6a20a40d",
       "version_major": 2,
       "version_minor": 0
      },
      "text/plain": [
       "VBox()"
      ]
     },
     "metadata": {},
     "output_type": "display_data"
    },
    {
     "data": {
      "application/vnd.jupyter.widget-view+json": {
       "model_id": "",
       "version_major": 2,
       "version_minor": 0
      },
      "text/plain": [
       "FloatProgress(value=0.0, bar_style='info', description='Progress:', layout=Layout(height='25px', width='50%'),…"
      ]
     },
     "metadata": {},
     "output_type": "display_data"
    }
   ],
   "source": [
    "from pyspark.sql.functions import when\n",
    "\n",
    "# Define conditions and values for the new column\n",
    "join = join.withColumn(\"Data Usage\", \n",
    "                    when(join[\"brq_count\"] <= 50, \"LOW\")\n",
    "                    .when((join[\"brq_count\"] >= 51) & (join[\"brq_count\"] <= 100), \"MID\")\n",
    "                    .when((join[\"brq_count\"] >= 101) & (join[\"brq_count\"] <= 150), \"HIGH\")\n",
    "                    .when(join[\"brq_count\"] >= 151, \"ULTRA HIGH\"))\n"
   ]
  },
  {
   "cell_type": "code",
   "execution_count": 23,
   "id": "71ff42a3-a6fc-41c9-9102-517c0556f006",
   "metadata": {
    "execution": {
     "iopub.execute_input": "2024-02-11T10:48:18.068443Z",
     "iopub.status.busy": "2024-02-11T10:48:18.068175Z",
     "iopub.status.idle": "2024-02-11T10:48:25.502851Z",
     "shell.execute_reply": "2024-02-11T10:48:25.493987Z",
     "shell.execute_reply.started": "2024-02-11T10:48:18.068415Z"
    },
    "tags": []
   },
   "outputs": [
    {
     "data": {
      "application/vnd.jupyter.widget-view+json": {
       "model_id": "e521ccf30bb746b78a35e7be27b9af79",
       "version_major": 2,
       "version_minor": 0
      },
      "text/plain": [
       "VBox()"
      ]
     },
     "metadata": {},
     "output_type": "display_data"
    },
    {
     "data": {
      "application/vnd.jupyter.widget-view+json": {
       "model_id": "",
       "version_major": 2,
       "version_minor": 0
      },
      "text/plain": [
       "FloatProgress(value=0.0, bar_style='info', description='Progress:', layout=Layout(height='25px', width='50%'),…"
      ]
     },
     "metadata": {},
     "output_type": "display_data"
    },
    {
     "name": "stdout",
     "output_type": "stream",
     "text": [
      "+-------+----------+-------+\n",
      "|geohash|Data Usage| number|\n",
      "+-------+----------+-------+\n",
      "|wh0rbbv|       LOW|5923297|\n",
      "|wh0rbbv|       MID| 405461|\n",
      "|wh0rbbv|ULTRA HIGH| 296817|\n",
      "|wh0rbbv|      HIGH| 159603|\n",
      "|wh0rc17|       LOW|  12018|\n",
      "|wh0r9pe|       LOW|   2904|\n",
      "|wh0rc45|       LOW|    372|\n",
      "|wh0rc17|       MID|    341|\n",
      "|wh0rc15|       LOW|    338|\n",
      "|wh0rc4h|       LOW|    322|\n",
      "|wh0rc1e|       LOW|    276|\n",
      "|wh0rbfh|       LOW|    270|\n",
      "|wh0rc07|       LOW|    253|\n",
      "|wh0rc06|       LOW|    239|\n",
      "|wh0rc17|ULTRA HIGH|    215|\n",
      "|wh0rc0g|       LOW|    192|\n",
      "|wh0r9pf|       LOW|    180|\n",
      "|wh0r9pg|       LOW|    168|\n",
      "|wh0rc0e|       LOW|    164|\n",
      "|wh0rc47|       LOW|    156|\n",
      "+-------+----------+-------+\n",
      "only showing top 20 rows"
     ]
    }
   ],
   "source": [
    "data=join.groupBy(\"geohash\",\"Data Usage\").agg(F.countDistinct('ifa').alias('number')).sort('number', ascending=False)\n",
    "data.show()"
   ]
  },
  {
   "cell_type": "code",
   "execution_count": 9,
   "id": "3f15aebe-9895-4fbc-b88d-59f277819117",
   "metadata": {
    "execution": {
     "iopub.execute_input": "2024-02-11T10:43:04.606797Z",
     "iopub.status.busy": "2024-02-11T10:43:04.606540Z",
     "iopub.status.idle": "2024-02-11T10:43:04.689099Z",
     "shell.execute_reply": "2024-02-11T10:43:04.688465Z",
     "shell.execute_reply.started": "2024-02-11T10:43:04.606770Z"
    }
   },
   "outputs": [
    {
     "data": {
      "application/vnd.jupyter.widget-view+json": {
       "model_id": "00da20ef6183458da49439d95f230b62",
       "version_major": 2,
       "version_minor": 0
      },
      "text/plain": [
       "VBox()"
      ]
     },
     "metadata": {},
     "output_type": "display_data"
    },
    {
     "data": {
      "application/vnd.jupyter.widget-view+json": {
       "model_id": "",
       "version_major": 2,
       "version_minor": 0
      },
      "text/plain": [
       "FloatProgress(value=0.0, bar_style='info', description='Progress:', layout=Layout(height='25px', width='50%'),…"
      ]
     },
     "metadata": {},
     "output_type": "display_data"
    }
   ],
   "source": [
    "# Find the largest number per geohash value and data usage\n",
    "data2=data.groupBy(\"geohash\") \\\n",
    "    .agg(max(\"number\").alias(\"number\"))"
   ]
  },
  {
   "cell_type": "code",
   "execution_count": 10,
   "id": "d4d35dc4-80a4-4cb4-b538-9a522ee96d89",
   "metadata": {
    "execution": {
     "iopub.execute_input": "2024-02-11T10:43:04.690285Z",
     "iopub.status.busy": "2024-02-11T10:43:04.690041Z",
     "iopub.status.idle": "2024-02-11T10:43:12.367302Z",
     "shell.execute_reply": "2024-02-11T10:43:12.366543Z",
     "shell.execute_reply.started": "2024-02-11T10:43:04.690259Z"
    },
    "tags": []
   },
   "outputs": [
    {
     "data": {
      "application/vnd.jupyter.widget-view+json": {
       "model_id": "d88c2c463a64428d89e133fdc9a60ef5",
       "version_major": 2,
       "version_minor": 0
      },
      "text/plain": [
       "VBox()"
      ]
     },
     "metadata": {},
     "output_type": "display_data"
    },
    {
     "data": {
      "application/vnd.jupyter.widget-view+json": {
       "model_id": "",
       "version_major": 2,
       "version_minor": 0
      },
      "text/plain": [
       "FloatProgress(value=0.0, bar_style='info', description='Progress:', layout=Layout(height='25px', width='50%'),…"
      ]
     },
     "metadata": {},
     "output_type": "display_data"
    },
    {
     "name": "stdout",
     "output_type": "stream",
     "text": [
      "+--------+-------+\n",
      "|geohash2| number|\n",
      "+--------+-------+\n",
      "| wh0rc02|     93|\n",
      "| wh0rc4q|     15|\n",
      "| wh0rc1h|    123|\n",
      "| wh0rc40|    149|\n",
      "| wh0rc1z|     76|\n",
      "| wh0rbcz|     59|\n",
      "| wh0rbbj|     61|\n",
      "| wh0rc01|     46|\n",
      "| wh0rc45|    372|\n",
      "| wh0rc0r|     86|\n",
      "| wh0r9pf|    180|\n",
      "| wh0rbcn|     75|\n",
      "| wh0rc0b|     81|\n",
      "| wh0rc0e|    164|\n",
      "| wh0rc62|     92|\n",
      "| wh0rc0n|     63|\n",
      "| wh0rbck|    109|\n",
      "| wh0rbbv|5923297|\n",
      "| wh0rc0v|     69|\n",
      "| wh0rc4h|    322|\n",
      "+--------+-------+\n",
      "only showing top 20 rows"
     ]
    }
   ],
   "source": [
    "\n",
    "# Rename the \"number\" column to \"usage_count\"\n",
    "data2 = data2.withColumnRenamed(\"geohash\", \"geohash2\")\n",
    "\n",
    "\n",
    "data2.show()"
   ]
  },
  {
   "cell_type": "code",
   "execution_count": 11,
   "id": "ccd187c4-ff5f-4715-8a20-5a7d12b6d5d2",
   "metadata": {
    "execution": {
     "iopub.execute_input": "2024-02-11T10:43:50.324722Z",
     "iopub.status.busy": "2024-02-11T10:43:50.324371Z",
     "iopub.status.idle": "2024-02-11T10:43:57.718132Z",
     "shell.execute_reply": "2024-02-11T10:43:57.674321Z",
     "shell.execute_reply.started": "2024-02-11T10:43:50.324691Z"
    }
   },
   "outputs": [
    {
     "data": {
      "application/vnd.jupyter.widget-view+json": {
       "model_id": "6188fb0ebcf74c85b216d729d6660e0a",
       "version_major": 2,
       "version_minor": 0
      },
      "text/plain": [
       "VBox()"
      ]
     },
     "metadata": {},
     "output_type": "display_data"
    },
    {
     "data": {
      "application/vnd.jupyter.widget-view+json": {
       "model_id": "",
       "version_major": 2,
       "version_minor": 0
      },
      "text/plain": [
       "FloatProgress(value=0.0, bar_style='info', description='Progress:', layout=Layout(height='25px', width='50%'),…"
      ]
     },
     "metadata": {},
     "output_type": "display_data"
    },
    {
     "name": "stdout",
     "output_type": "stream",
     "text": [
      "+------+-------+----------+--------+\n",
      "|number|geohash|Data Usage|geohash2|\n",
      "+------+-------+----------+--------+\n",
      "|    66|wh0rc1b|       LOW| wh0rc1b|\n",
      "|    66|wh0rc1b|       LOW| wh0rc43|\n",
      "|    38|wh0r9pt|       LOW| wh0r9pt|\n",
      "|    38|wh0r9pt|       LOW| wh0rbfr|\n",
      "|    59|wh0r8zz|       LOW| wh0rc13|\n",
      "|    59|wh0r8zz|       LOW| wh0r8zz|\n",
      "|    59|wh0r8zz|       LOW| wh0rbbu|\n",
      "|    59|wh0r8zz|       LOW| wh0rbcz|\n",
      "|    77|wh0rbbz|       LOW| wh0rc1u|\n",
      "|    77|wh0rbbz|       LOW| wh0rbbz|\n",
      "|   180|wh0r9pf|       LOW| wh0r9pf|\n",
      "|    54|wh0rc1k|       LOW| wh0rbcp|\n",
      "|    54|wh0rc1k|       LOW| wh0rc1k|\n",
      "|    54|wh0rc1k|       LOW| wh0rbby|\n",
      "|    54|wh0rc1k|       LOW| wh0rc0s|\n",
      "|    72|wh0rc18|       LOW| wh0rc18|\n",
      "|    72|wh0rc18|       LOW| wh0rc1j|\n",
      "|    72|wh0rc18|       LOW| wh0r9px|\n",
      "|    76|wh0rc1z|       LOW| wh0r9pb|\n",
      "|    76|wh0rc1z|       LOW| wh0rbcm|\n",
      "+------+-------+----------+--------+\n",
      "only showing top 20 rows"
     ]
    }
   ],
   "source": [
    "join2=data.join(data2,'number','inner')\n",
    "join2.show()"
   ]
  },
  {
   "cell_type": "code",
   "execution_count": 13,
   "id": "c8ad215c-de55-4364-9fce-184d944e28b9",
   "metadata": {
    "execution": {
     "iopub.execute_input": "2024-02-11T10:44:31.695922Z",
     "iopub.status.busy": "2024-02-11T10:44:31.695577Z",
     "iopub.status.idle": "2024-02-11T10:44:36.980940Z",
     "shell.execute_reply": "2024-02-11T10:44:36.980220Z",
     "shell.execute_reply.started": "2024-02-11T10:44:31.695892Z"
    },
    "tags": []
   },
   "outputs": [
    {
     "data": {
      "application/vnd.jupyter.widget-view+json": {
       "model_id": "442835331a1541028bb7f4fd196d9bc4",
       "version_major": 2,
       "version_minor": 0
      },
      "text/plain": [
       "VBox()"
      ]
     },
     "metadata": {},
     "output_type": "display_data"
    },
    {
     "data": {
      "application/vnd.jupyter.widget-view+json": {
       "model_id": "",
       "version_major": 2,
       "version_minor": 0
      },
      "text/plain": [
       "FloatProgress(value=0.0, bar_style='info', description='Progress:', layout=Layout(height='25px', width='50%'),…"
      ]
     },
     "metadata": {},
     "output_type": "display_data"
    },
    {
     "name": "stdout",
     "output_type": "stream",
     "text": [
      "+-------+-------+\n",
      "|geohash|  count|\n",
      "+-------+-------+\n",
      "|wh0rbbv|6785173|\n",
      "|wh0rc17|  12705|\n",
      "|wh0r9pe|   3079|\n",
      "|wh0rc45|    377|\n",
      "|wh0rc15|    343|\n",
      "|wh0rc4h|    330|\n",
      "|wh0rc1e|    280|\n",
      "|wh0rbfh|    275|\n",
      "|wh0rc07|    257|\n",
      "|wh0rc06|    240|\n",
      "|wh0rc0g|    195|\n",
      "|wh0r9pf|    181|\n",
      "|wh0r9pg|    170|\n",
      "|wh0rc0e|    164|\n",
      "|wh0rc47|    159|\n",
      "|wh0rbfj|    157|\n",
      "|wh0rc40|    150|\n",
      "|wh0rc1g|    148|\n",
      "|wh0rc42|    147|\n",
      "|wh0rc28|    141|\n",
      "+-------+-------+\n",
      "only showing top 20 rows"
     ]
    }
   ],
   "source": [
    "cnt=join.groupBy(\"geohash\").agg(F.countDistinct('ifa').alias('count')).sort('count', ascending=False)\n",
    "cnt.show()"
   ]
  },
  {
   "cell_type": "code",
   "execution_count": 15,
   "id": "2934ccaa-ba65-4e3c-960d-1d0f4e7a163c",
   "metadata": {
    "execution": {
     "iopub.execute_input": "2024-02-11T10:45:51.833656Z",
     "iopub.status.busy": "2024-02-11T10:45:51.833312Z",
     "iopub.status.idle": "2024-02-11T10:46:25.215770Z",
     "shell.execute_reply": "2024-02-11T10:46:25.215051Z",
     "shell.execute_reply.started": "2024-02-11T10:45:51.833625Z"
    },
    "tags": []
   },
   "outputs": [
    {
     "data": {
      "application/vnd.jupyter.widget-view+json": {
       "model_id": "a5d4e5ace37a477c9492a03f69ee93ef",
       "version_major": 2,
       "version_minor": 0
      },
      "text/plain": [
       "VBox()"
      ]
     },
     "metadata": {},
     "output_type": "display_data"
    },
    {
     "data": {
      "application/vnd.jupyter.widget-view+json": {
       "model_id": "",
       "version_major": 2,
       "version_minor": 0
      },
      "text/plain": [
       "FloatProgress(value=0.0, bar_style='info', description='Progress:', layout=Layout(height='25px', width='50%'),…"
      ]
     },
     "metadata": {},
     "output_type": "display_data"
    },
    {
     "name": "stdout",
     "output_type": "stream",
     "text": [
      "+-------+-----+------+----------+--------+\n",
      "|geohash|count|number|Data Usage|geohash2|\n",
      "+-------+-----+------+----------+--------+\n",
      "|wh0r8zv|   74|    74|       LOW| wh0r8zv|\n",
      "|wh0r8zy|   73|    73|       LOW| wh0r8zy|\n",
      "|wh0r8zy|   73|    73|       LOW| wh0rc38|\n",
      "|wh0r8zy|   73|    73|       LOW| wh0rc1p|\n",
      "|wh0r8zz|   60|    59|       LOW| wh0rc13|\n",
      "|wh0r8zz|   60|    59|       LOW| wh0r8zz|\n",
      "|wh0r8zz|   60|    59|       LOW| wh0rbbu|\n",
      "|wh0r8zz|   60|    59|       LOW| wh0rbcz|\n",
      "|wh0r9pb|   78|    76|       LOW| wh0r9pb|\n",
      "|wh0r9pb|   78|    76|       LOW| wh0rbcm|\n",
      "|wh0r9pb|   78|    76|       LOW| wh0rc1z|\n",
      "|wh0r9pc|   85|    85|       LOW| wh0r9pc|\n",
      "|wh0r9pc|   85|    85|       LOW| wh0rc2b|\n",
      "|wh0r9pd|  106|   105|       LOW| wh0r9pd|\n",
      "|wh0r9pe| 3079|  2904|       LOW| wh0r9pe|\n",
      "|wh0r9pe| 3079|    85|       MID| wh0r9pc|\n",
      "|wh0r9pe| 3079|    85|       MID| wh0rc2b|\n",
      "|wh0r9pe| 3079|    51|ULTRA HIGH| wh0r9py|\n",
      "|wh0r9pe| 3079|    51|ULTRA HIGH| wh0r9pu|\n",
      "|wh0r9pf|  181|   180|       LOW| wh0r9pf|\n",
      "+-------+-----+------+----------+--------+\n",
      "only showing top 20 rows"
     ]
    }
   ],
   "source": [
    "join_cnt=cnt.join(join2,'geohash','inner')\n",
    "join_cnt.show()"
   ]
  },
  {
   "cell_type": "code",
   "execution_count": null,
   "id": "2de420d1-9a09-4514-9207-f0a07b868a9c",
   "metadata": {},
   "outputs": [],
   "source": []
  }
 ],
 "metadata": {
  "kernelspec": {
   "display_name": "PySpark",
   "language": "",
   "name": "pysparkkernel"
  },
  "language_info": {
   "codemirror_mode": {
    "name": "python",
    "version": 3
   },
   "file_extension": ".py",
   "mimetype": "text/x-python",
   "name": "pyspark",
   "pygments_lexer": "python3"
  }
 },
 "nbformat": 4,
 "nbformat_minor": 5
}
