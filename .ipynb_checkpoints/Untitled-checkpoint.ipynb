{
 "cells": [
  {
   "cell_type": "code",
   "execution_count": 1,
   "metadata": {
    "execution": {
     "iopub.execute_input": "2024-01-29T10:15:46.229564Z",
     "iopub.status.busy": "2024-01-29T10:15:46.228999Z",
     "iopub.status.idle": "2024-01-29T10:16:11.716369Z",
     "shell.execute_reply": "2024-01-29T10:16:11.714891Z",
     "shell.execute_reply.started": "2024-01-29T10:15:46.229327Z"
    },
    "tags": []
   },
   "outputs": [
    {
     "data": {
      "application/vnd.jupyter.widget-view+json": {
       "model_id": "e6ee9ce88ff745129bf31b22b4b10d11",
       "version_major": 2,
       "version_minor": 0
      },
      "text/plain": [
       "VBox()"
      ]
     },
     "metadata": {},
     "output_type": "display_data"
    },
    {
     "name": "stdout",
     "output_type": "stream",
     "text": [
      "Starting Spark application\n"
     ]
    },
    {
     "data": {
      "text/html": [
       "<table>\n",
       "<tr><th>ID</th><th>YARN Application ID</th><th>Kind</th><th>State</th><th>Spark UI</th><th>Driver log</th><th>Current session?</th></tr><tr><td>3</td><td>application_1706521506277_0004</td><td>pyspark</td><td>idle</td><td><a target=\"_blank\" href=\"http://ip-172-22-130-32.ec2.internal:20888/proxy/application_1706521506277_0004/\">Link</a></td><td><a target=\"_blank\" href=\"http://ip-172-22-135-56.ec2.internal:8042/node/containerlogs/container_1706521506277_0004_01_000001/livy\">Link</a></td><td>✔</td></tr></table>"
      ],
      "text/plain": [
       "<IPython.core.display.HTML object>"
      ]
     },
     "metadata": {},
     "output_type": "display_data"
    },
    {
     "data": {
      "application/vnd.jupyter.widget-view+json": {
       "model_id": "",
       "version_major": 2,
       "version_minor": 0
      },
      "text/plain": [
       "FloatProgress(value=0.0, bar_style='info', description='Progress:', layout=Layout(height='25px', width='50%'),…"
      ]
     },
     "metadata": {},
     "output_type": "display_data"
    },
    {
     "name": "stdout",
     "output_type": "stream",
     "text": [
      "SparkSession available as 'spark'.\n"
     ]
    },
    {
     "data": {
      "application/vnd.jupyter.widget-view+json": {
       "model_id": "",
       "version_major": 2,
       "version_minor": 0
      },
      "text/plain": [
       "FloatProgress(value=0.0, bar_style='info', description='Progress:', layout=Layout(height='25px', width='50%'),…"
      ]
     },
     "metadata": {},
     "output_type": "display_data"
    }
   ],
   "source": [
    "from pyspark import SparkContext, SparkConf, HiveContext\n",
    "from pyspark.sql.functions import *\n",
    "from pyspark.sql.types import *\n",
    "import pyspark.sql.functions as F\n",
    "import pyspark.sql.types as T\n",
    "import csv\n",
    "# import pandas as pd\n",
    "# import numpy as np\n",
    "import sys\n",
    "from pyspark.sql import Window\n",
    "from pyspark.sql.functions import rank, col\n",
    "# import geohash2 as geohash\n",
    "# import pygeohash as pgh\n",
    "from functools import reduce\n",
    "from pyspark.sql import *\n"
   ]
  },
  {
   "cell_type": "code",
   "execution_count": 2,
   "metadata": {
    "execution": {
     "iopub.execute_input": "2024-01-29T10:16:11.718507Z",
     "iopub.status.busy": "2024-01-29T10:16:11.718187Z",
     "iopub.status.idle": "2024-01-29T10:16:19.688930Z",
     "shell.execute_reply": "2024-01-29T10:16:19.687096Z",
     "shell.execute_reply.started": "2024-01-29T10:16:11.718480Z"
    },
    "tags": []
   },
   "outputs": [
    {
     "data": {
      "application/vnd.jupyter.widget-view+json": {
       "model_id": "555cf5c004964045b59b4fbb3bc3d0e7",
       "version_major": 2,
       "version_minor": 0
      },
      "text/plain": [
       "VBox()"
      ]
     },
     "metadata": {},
     "output_type": "display_data"
    },
    {
     "data": {
      "application/vnd.jupyter.widget-view+json": {
       "model_id": "",
       "version_major": 2,
       "version_minor": 0
      },
      "text/plain": [
       "FloatProgress(value=0.0, bar_style='info', description='Progress:', layout=Layout(height='25px', width='50%'),…"
      ]
     },
     "metadata": {},
     "output_type": "display_data"
    }
   ],
   "source": [
    "df1=spark.read.csv('s3a://ada-dev/BD-DataScience/muntasir/baluka_third/output/fullview-geofence/*.csv',header=True)"
   ]
  },
  {
   "cell_type": "code",
   "execution_count": 3,
   "metadata": {
    "execution": {
     "iopub.execute_input": "2024-01-29T10:16:19.766869Z",
     "iopub.status.busy": "2024-01-29T10:16:19.691918Z",
     "iopub.status.idle": "2024-01-29T10:16:20.214270Z",
     "shell.execute_reply": "2024-01-29T10:16:20.212358Z",
     "shell.execute_reply.started": "2024-01-29T10:16:19.766808Z"
    },
    "tags": []
   },
   "outputs": [
    {
     "data": {
      "application/vnd.jupyter.widget-view+json": {
       "model_id": "5be27f6bf71a40e58cb95dc247e384e8",
       "version_major": 2,
       "version_minor": 0
      },
      "text/plain": [
       "VBox()"
      ]
     },
     "metadata": {},
     "output_type": "display_data"
    },
    {
     "data": {
      "application/vnd.jupyter.widget-view+json": {
       "model_id": "",
       "version_major": 2,
       "version_minor": 0
      },
      "text/plain": [
       "FloatProgress(value=0.0, bar_style='info', description='Progress:', layout=Layout(height='25px', width='50%'),…"
      ]
     },
     "metadata": {},
     "output_type": "display_data"
    },
    {
     "name": "stdout",
     "output_type": "stream",
     "text": [
      "root\n",
      " |-- dev_ifa: string (nullable = true)\n",
      " |-- dev_datetime_local: string (nullable = true)\n",
      " |-- dev_carrier: string (nullable = true)\n",
      " |-- dev_lat: string (nullable = true)\n",
      " |-- dev_lon: string (nullable = true)\n",
      " |-- poi_name: string (nullable = true)\n",
      " |-- distance: string (nullable = true)"
     ]
    }
   ],
   "source": [
    "df1.printSchema()"
   ]
  },
  {
   "cell_type": "code",
   "execution_count": 4,
   "metadata": {
    "execution": {
     "iopub.execute_input": "2024-01-29T10:16:20.218242Z",
     "iopub.status.busy": "2024-01-29T10:16:20.216980Z",
     "iopub.status.idle": "2024-01-29T10:16:28.689397Z",
     "shell.execute_reply": "2024-01-29T10:16:28.688206Z",
     "shell.execute_reply.started": "2024-01-29T10:16:20.218193Z"
    },
    "tags": []
   },
   "outputs": [
    {
     "data": {
      "application/vnd.jupyter.widget-view+json": {
       "model_id": "374891d581654e2aab16bc890c32ccca",
       "version_major": 2,
       "version_minor": 0
      },
      "text/plain": [
       "VBox()"
      ]
     },
     "metadata": {},
     "output_type": "display_data"
    },
    {
     "data": {
      "application/vnd.jupyter.widget-view+json": {
       "model_id": "",
       "version_major": 2,
       "version_minor": 0
      },
      "text/plain": [
       "FloatProgress(value=0.0, bar_style='info', description='Progress:', layout=Layout(height='25px', width='50%'),…"
      ]
     },
     "metadata": {},
     "output_type": "display_data"
    },
    {
     "name": "stdout",
     "output_type": "stream",
     "text": [
      "1267"
     ]
    }
   ],
   "source": [
    "df1=df1.select('dev_ifa')\n",
    "df1=df1.withColumnRenamed(\"dev_ifa\",\"ifa\")\n",
    "df1=df1.distinct()\n",
    "df1.count()"
   ]
  },
  {
   "cell_type": "code",
   "execution_count": 5,
   "metadata": {
    "execution": {
     "iopub.execute_input": "2024-01-29T10:16:28.768219Z",
     "iopub.status.busy": "2024-01-29T10:16:28.766418Z",
     "iopub.status.idle": "2024-01-29T10:16:31.765327Z",
     "shell.execute_reply": "2024-01-29T10:16:31.689937Z",
     "shell.execute_reply.started": "2024-01-29T10:16:28.768177Z"
    },
    "tags": []
   },
   "outputs": [
    {
     "data": {
      "application/vnd.jupyter.widget-view+json": {
       "model_id": "6e34d87bad494f07910f62ea5ab45355",
       "version_major": 2,
       "version_minor": 0
      },
      "text/plain": [
       "VBox()"
      ]
     },
     "metadata": {},
     "output_type": "display_data"
    },
    {
     "data": {
      "application/vnd.jupyter.widget-view+json": {
       "model_id": "",
       "version_major": 2,
       "version_minor": 0
      },
      "text/plain": [
       "FloatProgress(value=0.0, bar_style='info', description='Progress:', layout=Layout(height='25px', width='50%'),…"
      ]
     },
     "metadata": {},
     "output_type": "display_data"
    }
   ],
   "source": [
    "df2=spark.read.csv('s3a://ada-dev/BD-DataScience/muntasir/baluka_third/output2/fullview-geofence/*.csv',header=True)"
   ]
  },
  {
   "cell_type": "code",
   "execution_count": 6,
   "metadata": {
    "execution": {
     "iopub.execute_input": "2024-01-29T10:16:31.773777Z",
     "iopub.status.busy": "2024-01-29T10:16:31.768586Z",
     "iopub.status.idle": "2024-01-29T10:16:38.180575Z",
     "shell.execute_reply": "2024-01-29T10:16:38.178033Z",
     "shell.execute_reply.started": "2024-01-29T10:16:31.773729Z"
    },
    "tags": []
   },
   "outputs": [
    {
     "data": {
      "application/vnd.jupyter.widget-view+json": {
       "model_id": "3cac3684542b435885701e54e10efd8d",
       "version_major": 2,
       "version_minor": 0
      },
      "text/plain": [
       "VBox()"
      ]
     },
     "metadata": {},
     "output_type": "display_data"
    },
    {
     "data": {
      "application/vnd.jupyter.widget-view+json": {
       "model_id": "",
       "version_major": 2,
       "version_minor": 0
      },
      "text/plain": [
       "FloatProgress(value=0.0, bar_style='info', description='Progress:', layout=Layout(height='25px', width='50%'),…"
      ]
     },
     "metadata": {},
     "output_type": "display_data"
    },
    {
     "name": "stdout",
     "output_type": "stream",
     "text": [
      "342"
     ]
    }
   ],
   "source": [
    "df2=df2.select('dev_ifa')\n",
    "df2=df2.withColumnRenamed(\"dev_ifa\",\"ifa\")\n",
    "df2=df2.distinct()\n",
    "df2.count()"
   ]
  },
  {
   "cell_type": "code",
   "execution_count": 7,
   "metadata": {
    "execution": {
     "iopub.execute_input": "2024-01-29T10:16:38.192189Z",
     "iopub.status.busy": "2024-01-29T10:16:38.182818Z",
     "iopub.status.idle": "2024-01-29T10:16:38.890272Z",
     "shell.execute_reply": "2024-01-29T10:16:38.889115Z",
     "shell.execute_reply.started": "2024-01-29T10:16:38.192136Z"
    },
    "tags": []
   },
   "outputs": [
    {
     "data": {
      "application/vnd.jupyter.widget-view+json": {
       "model_id": "9da0fc562b884707ac3009e34ba64ed4",
       "version_major": 2,
       "version_minor": 0
      },
      "text/plain": [
       "VBox()"
      ]
     },
     "metadata": {},
     "output_type": "display_data"
    },
    {
     "data": {
      "application/vnd.jupyter.widget-view+json": {
       "model_id": "",
       "version_major": 2,
       "version_minor": 0
      },
      "text/plain": [
       "FloatProgress(value=0.0, bar_style='info', description='Progress:', layout=Layout(height='25px', width='50%'),…"
      ]
     },
     "metadata": {},
     "output_type": "display_data"
    }
   ],
   "source": [
    "df3=df1.join(df2,'ifa','outer')"
   ]
  },
  {
   "cell_type": "code",
   "execution_count": 8,
   "metadata": {
    "execution": {
     "iopub.execute_input": "2024-01-29T10:16:38.968447Z",
     "iopub.status.busy": "2024-01-29T10:16:38.898145Z",
     "iopub.status.idle": "2024-01-29T10:16:45.518745Z",
     "shell.execute_reply": "2024-01-29T10:16:45.517674Z",
     "shell.execute_reply.started": "2024-01-29T10:16:38.968397Z"
    },
    "tags": []
   },
   "outputs": [
    {
     "data": {
      "application/vnd.jupyter.widget-view+json": {
       "model_id": "5c4489a8b2554a8ab1a109f6826cbae1",
       "version_major": 2,
       "version_minor": 0
      },
      "text/plain": [
       "VBox()"
      ]
     },
     "metadata": {},
     "output_type": "display_data"
    },
    {
     "data": {
      "application/vnd.jupyter.widget-view+json": {
       "model_id": "",
       "version_major": 2,
       "version_minor": 0
      },
      "text/plain": [
       "FloatProgress(value=0.0, bar_style='info', description='Progress:', layout=Layout(height='25px', width='50%'),…"
      ]
     },
     "metadata": {},
     "output_type": "display_data"
    },
    {
     "name": "stdout",
     "output_type": "stream",
     "text": [
      "1587"
     ]
    }
   ],
   "source": [
    "\n",
    "df3=df3.withColumnRenamed(\"ifa\",\"Mobile Device ID\")\n",
    "df3=df3.distinct()\n",
    "\n",
    "df3.count()"
   ]
  },
  {
   "cell_type": "code",
   "execution_count": 9,
   "metadata": {
    "execution": {
     "iopub.execute_input": "2024-01-29T10:16:45.526722Z",
     "iopub.status.busy": "2024-01-29T10:16:45.526327Z",
     "iopub.status.idle": "2024-01-29T10:16:45.871638Z",
     "shell.execute_reply": "2024-01-29T10:16:45.866764Z",
     "shell.execute_reply.started": "2024-01-29T10:16:45.526690Z"
    }
   },
   "outputs": [
    {
     "data": {
      "application/vnd.jupyter.widget-view+json": {
       "model_id": "5a8a0b5e07154a478873942dafce55a7",
       "version_major": 2,
       "version_minor": 0
      },
      "text/plain": [
       "VBox()"
      ]
     },
     "metadata": {},
     "output_type": "display_data"
    },
    {
     "data": {
      "application/vnd.jupyter.widget-view+json": {
       "model_id": "",
       "version_major": 2,
       "version_minor": 0
      },
      "text/plain": [
       "FloatProgress(value=0.0, bar_style='info', description='Progress:', layout=Layout(height='25px', width='50%'),…"
      ]
     },
     "metadata": {},
     "output_type": "display_data"
    },
    {
     "name": "stdout",
     "output_type": "stream",
     "text": [
      "root\n",
      " |-- Mobile Device ID: string (nullable = true)"
     ]
    }
   ],
   "source": [
    "df3.printSchema()"
   ]
  },
  {
   "cell_type": "code",
   "execution_count": 10,
   "metadata": {
    "execution": {
     "iopub.execute_input": "2024-01-29T10:16:45.876404Z",
     "iopub.status.busy": "2024-01-29T10:16:45.875303Z",
     "iopub.status.idle": "2024-01-29T10:16:49.188418Z",
     "shell.execute_reply": "2024-01-29T10:16:49.187030Z",
     "shell.execute_reply.started": "2024-01-29T10:16:45.876356Z"
    },
    "tags": []
   },
   "outputs": [
    {
     "data": {
      "application/vnd.jupyter.widget-view+json": {
       "model_id": "a6d2fc729e864ca9933459b37c94dafc",
       "version_major": 2,
       "version_minor": 0
      },
      "text/plain": [
       "VBox()"
      ]
     },
     "metadata": {},
     "output_type": "display_data"
    },
    {
     "data": {
      "application/vnd.jupyter.widget-view+json": {
       "model_id": "",
       "version_major": 2,
       "version_minor": 0
      },
      "text/plain": [
       "FloatProgress(value=0.0, bar_style='info', description='Progress:', layout=Layout(height='25px', width='50%'),…"
      ]
     },
     "metadata": {},
     "output_type": "display_data"
    }
   ],
   "source": [
    "old_df1=spark.read.csv('s3a://ada-dev/BD-DataScience/muntasir/Baluka_DSR_931/final_ifa/final1/*.csv',header=True)\n",
    "\n",
    "old_df2=spark.read.csv('s3a://ada-dev/BD-DataScience/muntasir/Baluka_DSR_931/final_ifa/final2_uh/*.csv',header=True)\n",
    "\n"
   ]
  },
  {
   "cell_type": "code",
   "execution_count": 11,
   "metadata": {
    "execution": {
     "iopub.execute_input": "2024-01-29T10:16:49.192787Z",
     "iopub.status.busy": "2024-01-29T10:16:49.190401Z",
     "iopub.status.idle": "2024-01-29T10:16:49.877056Z",
     "shell.execute_reply": "2024-01-29T10:16:49.875851Z",
     "shell.execute_reply.started": "2024-01-29T10:16:49.192740Z"
    },
    "tags": []
   },
   "outputs": [
    {
     "data": {
      "application/vnd.jupyter.widget-view+json": {
       "model_id": "e60d545d2cae4387875311ccc923ec74",
       "version_major": 2,
       "version_minor": 0
      },
      "text/plain": [
       "VBox()"
      ]
     },
     "metadata": {},
     "output_type": "display_data"
    },
    {
     "data": {
      "application/vnd.jupyter.widget-view+json": {
       "model_id": "",
       "version_major": 2,
       "version_minor": 0
      },
      "text/plain": [
       "FloatProgress(value=0.0, bar_style='info', description='Progress:', layout=Layout(height='25px', width='50%'),…"
      ]
     },
     "metadata": {},
     "output_type": "display_data"
    },
    {
     "name": "stdout",
     "output_type": "stream",
     "text": [
      "root\n",
      " |-- Mobile Device ID: string (nullable = true)"
     ]
    }
   ],
   "source": [
    "old_df2.printSchema()"
   ]
  },
  {
   "cell_type": "code",
   "execution_count": 12,
   "metadata": {
    "execution": {
     "iopub.execute_input": "2024-01-29T10:16:49.879103Z",
     "iopub.status.busy": "2024-01-29T10:16:49.878410Z",
     "iopub.status.idle": "2024-01-29T10:16:50.669450Z",
     "shell.execute_reply": "2024-01-29T10:16:50.668234Z",
     "shell.execute_reply.started": "2024-01-29T10:16:49.879066Z"
    },
    "tags": []
   },
   "outputs": [
    {
     "data": {
      "application/vnd.jupyter.widget-view+json": {
       "model_id": "6c1be83f39aa4c9ca4524358bab85f45",
       "version_major": 2,
       "version_minor": 0
      },
      "text/plain": [
       "VBox()"
      ]
     },
     "metadata": {},
     "output_type": "display_data"
    },
    {
     "data": {
      "application/vnd.jupyter.widget-view+json": {
       "model_id": "",
       "version_major": 2,
       "version_minor": 0
      },
      "text/plain": [
       "FloatProgress(value=0.0, bar_style='info', description='Progress:', layout=Layout(height='25px', width='50%'),…"
      ]
     },
     "metadata": {},
     "output_type": "display_data"
    }
   ],
   "source": [
    "old=old_df1.join(old_df2,'Mobile Device ID','outer')"
   ]
  },
  {
   "cell_type": "code",
   "execution_count": 13,
   "metadata": {
    "execution": {
     "iopub.execute_input": "2024-01-29T10:16:50.674518Z",
     "iopub.status.busy": "2024-01-29T10:16:50.670958Z",
     "iopub.status.idle": "2024-01-29T10:16:52.766397Z",
     "shell.execute_reply": "2024-01-29T10:16:52.764754Z",
     "shell.execute_reply.started": "2024-01-29T10:16:50.674448Z"
    }
   },
   "outputs": [
    {
     "data": {
      "application/vnd.jupyter.widget-view+json": {
       "model_id": "de69d880df074cd2bb4e93f45e7aaa52",
       "version_major": 2,
       "version_minor": 0
      },
      "text/plain": [
       "VBox()"
      ]
     },
     "metadata": {},
     "output_type": "display_data"
    },
    {
     "data": {
      "application/vnd.jupyter.widget-view+json": {
       "model_id": "54c2b31304f64673a8e2b272a2a9bff0",
       "version_major": 2,
       "version_minor": 0
      },
      "text/plain": [
       "FloatProgress(value=0.0, bar_style='info', description='Progress:', layout=Layout(height='25px', width='50%'),…"
      ]
     },
     "metadata": {},
     "output_type": "display_data"
    },
    {
     "name": "stderr",
     "output_type": "stream",
     "text": [
      "An error was encountered:\n",
      "Error sending http request and maximum retry encountered.\n"
     ]
    }
   ],
   "source": [
    "old.count()"
   ]
  },
  {
   "cell_type": "code",
   "execution_count": 14,
   "metadata": {
    "execution": {
     "iopub.execute_input": "2024-01-29T10:16:52.769109Z",
     "iopub.status.busy": "2024-01-29T10:16:52.768380Z",
     "iopub.status.idle": "2024-01-29T10:16:52.871308Z",
     "shell.execute_reply": "2024-01-29T10:16:52.870221Z",
     "shell.execute_reply.started": "2024-01-29T10:16:52.769068Z"
    }
   },
   "outputs": [
    {
     "data": {
      "application/vnd.jupyter.widget-view+json": {
       "model_id": "f8176a32e6c44213b9ee9734e1ed12c4",
       "version_major": 2,
       "version_minor": 0
      },
      "text/plain": [
       "VBox()"
      ]
     },
     "metadata": {},
     "output_type": "display_data"
    },
    {
     "name": "stderr",
     "output_type": "stream",
     "text": [
      "An error was encountered:\n",
      "Error sending http request and maximum retry encountered.\n"
     ]
    }
   ],
   "source": [
    "old_2nd=spark.read.csv('s3a://ada-dev/BD-DataScience/muntasir/bhalukaRefresh/test/*.csv',header=True)\n"
   ]
  },
  {
   "cell_type": "code",
   "execution_count": 15,
   "metadata": {
    "execution": {
     "iopub.execute_input": "2024-01-29T10:16:52.875794Z",
     "iopub.status.busy": "2024-01-29T10:16:52.873244Z",
     "iopub.status.idle": "2024-01-29T10:16:53.000263Z",
     "shell.execute_reply": "2024-01-29T10:16:52.998428Z",
     "shell.execute_reply.started": "2024-01-29T10:16:52.875753Z"
    },
    "tags": []
   },
   "outputs": [
    {
     "data": {
      "application/vnd.jupyter.widget-view+json": {
       "model_id": "2bdce3ed40794ef18254baf26175b357",
       "version_major": 2,
       "version_minor": 0
      },
      "text/plain": [
       "VBox()"
      ]
     },
     "metadata": {},
     "output_type": "display_data"
    },
    {
     "name": "stderr",
     "output_type": "stream",
     "text": [
      "An error was encountered:\n",
      "Error sending http request and maximum retry encountered.\n"
     ]
    }
   ],
   "source": [
    "old_2nd.count()"
   ]
  },
  {
   "cell_type": "code",
   "execution_count": null,
   "metadata": {},
   "outputs": [],
   "source": []
  }
 ],
 "metadata": {
  "kernelspec": {
   "display_name": "PySpark",
   "language": "",
   "name": "pysparkkernel"
  },
  "language_info": {
   "codemirror_mode": {
    "name": "python",
    "version": 2
   },
   "mimetype": "text/x-python",
   "name": "pyspark",
   "pygments_lexer": "python2"
  }
 },
 "nbformat": 4,
 "nbformat_minor": 4
}
