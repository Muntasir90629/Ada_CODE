{
 "cells": [
  {
   "cell_type": "code",
   "execution_count": 1,
   "id": "174058c9-9c06-4ec8-a437-a7e9c6bba4ff",
   "metadata": {
    "execution": {
     "iopub.execute_input": "2024-02-22T06:44:12.555288Z",
     "iopub.status.busy": "2024-02-22T06:44:12.554861Z",
     "iopub.status.idle": "2024-02-22T06:44:36.158876Z",
     "shell.execute_reply": "2024-02-22T06:44:36.157708Z",
     "shell.execute_reply.started": "2024-02-22T06:44:12.555244Z"
    },
    "tags": []
   },
   "outputs": [
    {
     "data": {
      "application/vnd.jupyter.widget-view+json": {
       "model_id": "14bd3df992694dd89156b8bf27e36fbf",
       "version_major": 2,
       "version_minor": 0
      },
      "text/plain": [
       "VBox()"
      ]
     },
     "metadata": {},
     "output_type": "display_data"
    },
    {
     "name": "stdout",
     "output_type": "stream",
     "text": [
      "Starting Spark application\n"
     ]
    },
    {
     "data": {
      "text/html": [
       "<table>\n",
       "<tr><th>ID</th><th>YARN Application ID</th><th>Kind</th><th>State</th><th>Spark UI</th><th>Driver log</th><th>Current session?</th></tr><tr><td>3</td><td>application_1708583512133_0004</td><td>pyspark</td><td>idle</td><td></td><td></td><td>✔</td></tr></table>"
      ],
      "text/plain": [
       "<IPython.core.display.HTML object>"
      ]
     },
     "metadata": {},
     "output_type": "display_data"
    },
    {
     "data": {
      "application/vnd.jupyter.widget-view+json": {
       "model_id": "",
       "version_major": 2,
       "version_minor": 0
      },
      "text/plain": [
       "FloatProgress(value=0.0, bar_style='info', description='Progress:', layout=Layout(height='25px', width='50%'),…"
      ]
     },
     "metadata": {},
     "output_type": "display_data"
    },
    {
     "name": "stdout",
     "output_type": "stream",
     "text": [
      "SparkSession available as 'spark'.\n"
     ]
    },
    {
     "data": {
      "application/vnd.jupyter.widget-view+json": {
       "model_id": "",
       "version_major": 2,
       "version_minor": 0
      },
      "text/plain": [
       "FloatProgress(value=0.0, bar_style='info', description='Progress:', layout=Layout(height='25px', width='50%'),…"
      ]
     },
     "metadata": {},
     "output_type": "display_data"
    }
   ],
   "source": [
    "from pyspark import SparkContext, SparkConf, HiveContext\n",
    "from pyspark.sql.functions import *\n",
    "from pyspark.sql.types import *\n",
    "import pyspark.sql.functions as F\n",
    "import pyspark.sql.types as T\n",
    "import csv\n",
    "# import pandas as pd\n",
    "# import numpy as np\n",
    "import sys\n",
    "from pyspark.sql import Window\n",
    "from pyspark.sql.functions import rank, col\n",
    "# import geohash2 as geohash\n",
    "# import pygeohash as pgh\n",
    "from functools import reduce\n",
    "from pyspark.sql import *"
   ]
  },
  {
   "cell_type": "code",
   "execution_count": 2,
   "id": "5e8d80fd-e6a6-4f85-b6a7-29822cc0cc4f",
   "metadata": {
    "execution": {
     "iopub.execute_input": "2024-02-22T06:44:36.160811Z",
     "iopub.status.busy": "2024-02-22T06:44:36.160300Z",
     "iopub.status.idle": "2024-02-22T06:44:44.065731Z",
     "shell.execute_reply": "2024-02-22T06:44:44.061908Z",
     "shell.execute_reply.started": "2024-02-22T06:44:36.160770Z"
    },
    "tags": []
   },
   "outputs": [
    {
     "data": {
      "application/vnd.jupyter.widget-view+json": {
       "model_id": "c8575b1b369048e0bbb2ec5648f4eee9",
       "version_major": 2,
       "version_minor": 0
      },
      "text/plain": [
       "VBox()"
      ]
     },
     "metadata": {},
     "output_type": "display_data"
    },
    {
     "data": {
      "application/vnd.jupyter.widget-view+json": {
       "model_id": "",
       "version_major": 2,
       "version_minor": 0
      },
      "text/plain": [
       "FloatProgress(value=0.0, bar_style='info', description='Progress:', layout=Layout(height='25px', width='50%'),…"
      ]
     },
     "metadata": {},
     "output_type": "display_data"
    }
   ],
   "source": [
    "brq = spark.read.parquet('s3a://ada-prod-data/etl/data/brq/agg/agg_brq/monthly/KH/{202311,202312,202401}/*.parquet')"
   ]
  },
  {
   "cell_type": "code",
   "execution_count": 3,
   "id": "e950e22b-a834-4c84-906a-cea49f275256",
   "metadata": {
    "execution": {
     "iopub.execute_input": "2024-02-22T06:44:44.070319Z",
     "iopub.status.busy": "2024-02-22T06:44:44.069908Z",
     "iopub.status.idle": "2024-02-22T06:44:44.566839Z",
     "shell.execute_reply": "2024-02-22T06:44:44.565192Z",
     "shell.execute_reply.started": "2024-02-22T06:44:44.070274Z"
    },
    "tags": []
   },
   "outputs": [
    {
     "data": {
      "application/vnd.jupyter.widget-view+json": {
       "model_id": "6826ee3b2a7d4fb79b52f2f6c8042528",
       "version_major": 2,
       "version_minor": 0
      },
      "text/plain": [
       "VBox()"
      ]
     },
     "metadata": {},
     "output_type": "display_data"
    },
    {
     "data": {
      "application/vnd.jupyter.widget-view+json": {
       "model_id": "",
       "version_major": 2,
       "version_minor": 0
      },
      "text/plain": [
       "FloatProgress(value=0.0, bar_style='info', description='Progress:', layout=Layout(height='25px', width='50%'),…"
      ]
     },
     "metadata": {},
     "output_type": "display_data"
    },
    {
     "name": "stdout",
     "output_type": "stream",
     "text": [
      "root\n",
      " |-- ifa: string (nullable = true)\n",
      " |-- bundle: string (nullable = true)\n",
      " |-- asn: string (nullable = true)\n",
      " |-- brq_count: long (nullable = true)"
     ]
    }
   ],
   "source": [
    "brq2 = brq.select('ifa', F.explode('app')).select('ifa', 'col.*')\n",
    "brq2 = brq2.select('ifa','bundle','asn','brq_count')\n",
    "brq2.printSchema()"
   ]
  },
  {
   "cell_type": "code",
   "execution_count": 4,
   "id": "c6c61b07-d676-41e4-94bc-e48b2a56d88f",
   "metadata": {
    "execution": {
     "iopub.execute_input": "2024-02-22T06:44:44.573992Z",
     "iopub.status.busy": "2024-02-22T06:44:44.572259Z",
     "iopub.status.idle": "2024-02-22T06:44:44.913887Z",
     "shell.execute_reply": "2024-02-22T06:44:44.911683Z",
     "shell.execute_reply.started": "2024-02-22T06:44:44.573942Z"
    },
    "tags": []
   },
   "outputs": [
    {
     "data": {
      "application/vnd.jupyter.widget-view+json": {
       "model_id": "6a74f5c82a6943a8b4193381638e977e",
       "version_major": 2,
       "version_minor": 0
      },
      "text/plain": [
       "VBox()"
      ]
     },
     "metadata": {},
     "output_type": "display_data"
    },
    {
     "data": {
      "application/vnd.jupyter.widget-view+json": {
       "model_id": "",
       "version_major": 2,
       "version_minor": 0
      },
      "text/plain": [
       "FloatProgress(value=0.0, bar_style='info', description='Progress:', layout=Layout(height='25px', width='50%'),…"
      ]
     },
     "metadata": {},
     "output_type": "display_data"
    },
    {
     "name": "stdout",
     "output_type": "stream",
     "text": [
      "root\n",
      " |-- ifa: string (nullable = true)\n",
      " |-- bundle: string (nullable = true)\n",
      " |-- asn: string (nullable = true)\n",
      " |-- brq_count: long (nullable = true)"
     ]
    }
   ],
   "source": [
    "brq2.printSchema()"
   ]
  },
  {
   "cell_type": "code",
   "execution_count": 5,
   "id": "0b215999-c615-47d7-b576-30bb283614d9",
   "metadata": {
    "execution": {
     "iopub.execute_input": "2024-02-22T06:44:44.916798Z",
     "iopub.status.busy": "2024-02-22T06:44:44.916514Z",
     "iopub.status.idle": "2024-02-22T06:44:52.901456Z",
     "shell.execute_reply": "2024-02-22T06:44:52.900042Z",
     "shell.execute_reply.started": "2024-02-22T06:44:44.916770Z"
    },
    "tags": []
   },
   "outputs": [
    {
     "data": {
      "application/vnd.jupyter.widget-view+json": {
       "model_id": "b719ea71cc204960b0aa2cc6f2b3ba23",
       "version_major": 2,
       "version_minor": 0
      },
      "text/plain": [
       "VBox()"
      ]
     },
     "metadata": {},
     "output_type": "display_data"
    },
    {
     "data": {
      "application/vnd.jupyter.widget-view+json": {
       "model_id": "",
       "version_major": 2,
       "version_minor": 0
      },
      "text/plain": [
       "FloatProgress(value=0.0, bar_style='info', description='Progress:', layout=Layout(height='25px', width='50%'),…"
      ]
     },
     "metadata": {},
     "output_type": "display_data"
    },
    {
     "name": "stdout",
     "output_type": "stream",
     "text": [
      "root\n",
      " |-- bundle: string (nullable = true)\n",
      " |-- app_level_id: string (nullable = true)\n",
      " |-- app_lifestage_id: string (nullable = true)\n",
      " |-- demographic_age: string (nullable = true)\n",
      " |-- demographic_gender: string (nullable = true)\n",
      " |-- language: string (nullable = true)\n",
      " |-- tags: string (nullable = true)\n",
      " |-- created_date: string (nullable = true)\n",
      " |-- updated_date: string (nullable = true)\n",
      " |-- user_id: string (nullable = true)\n",
      "\n",
      "root\n",
      " |-- app_level_id: string (nullable = true)\n",
      " |-- app_l1_name: string (nullable = true)\n",
      " |-- app_l2_name: string (nullable = true)\n",
      " |-- app_l3_name: string (nullable = true)\n",
      " |-- created_date: string (nullable = true)\n",
      " |-- updated_date: string (nullable = true)\n",
      " |-- user_id: string (nullable = true)\n",
      "\n",
      "root\n",
      " |-- app_lifestage_id: string (nullable = true)\n",
      " |-- lifestage_type: string (nullable = true)\n",
      " |-- lifestage_status: string (nullable = true)\n",
      " |-- lifestage_name: string (nullable = true)\n",
      " |-- created_date: string (nullable = true)\n",
      " |-- updated_date: string (nullable = true)\n",
      " |-- user_id: string (nullable = true)"
     ]
    }
   ],
   "source": [
    "#load app , life stage reffrence data\n",
    "master_df = spark.read.csv('s3a://ada-dev/BD-DataScience/app_ref/master_df/*', header=True)\n",
    "master_df.printSchema()\n",
    "level_df = spark.read.csv('s3a://ada-dev/BD-DataScience/app_ref/level_df*', header=True)\n",
    "level_df.printSchema()\n",
    "lifestage_df = spark.read.csv('s3a://ada-dev/BD-DataScience/app_ref/lifestage_df*', header=True)\n",
    "lifestage_df.printSchema()\n",
    "\n",
    "#joining table\n",
    "join_df1 = master_df.join(level_df, on='app_level_id', how='left').cache()\n",
    "join_df2 = join_df1.join(lifestage_df, on='app_lifestage_id', how='left').cache()\n",
    "select_columns = ['bundle', 'app_l1_name', 'app_l2_name', 'app_l3_name', 'lifestage_name']\n",
    "finalapp_df = join_df2.select(*select_columns)"
   ]
  },
  {
   "cell_type": "code",
   "execution_count": 6,
   "id": "c1e6abd9-2595-43f8-903a-d7b4d0d58481",
   "metadata": {
    "execution": {
     "iopub.execute_input": "2024-02-22T06:44:52.904363Z",
     "iopub.status.busy": "2024-02-22T06:44:52.903662Z",
     "iopub.status.idle": "2024-02-22T06:45:00.896572Z",
     "shell.execute_reply": "2024-02-22T06:45:00.857341Z",
     "shell.execute_reply.started": "2024-02-22T06:44:52.904319Z"
    },
    "tags": []
   },
   "outputs": [
    {
     "data": {
      "application/vnd.jupyter.widget-view+json": {
       "model_id": "ce27a65a10a64393a68d7d13c8289197",
       "version_major": 2,
       "version_minor": 0
      },
      "text/plain": [
       "VBox()"
      ]
     },
     "metadata": {},
     "output_type": "display_data"
    },
    {
     "data": {
      "application/vnd.jupyter.widget-view+json": {
       "model_id": "",
       "version_major": 2,
       "version_minor": 0
      },
      "text/plain": [
       "FloatProgress(value=0.0, bar_style='info', description='Progress:', layout=Layout(height='25px', width='50%'),…"
      ]
     },
     "metadata": {},
     "output_type": "display_data"
    },
    {
     "name": "stdout",
     "output_type": "stream",
     "text": [
      "+--------------------+-----------+--------------------+-----------+--------------------+\n",
      "|              bundle|app_l1_name|         app_l2_name|app_l3_name|      lifestage_name|\n",
      "+--------------------+-----------+--------------------+-----------+--------------------+\n",
      "|          1017938107|  Parenting|   Newborn Parenting|       null|Parents with Kids...|\n",
      "|          1017938107|  Parenting|   Newborn Parenting|       null|Parents with Kids...|\n",
      "|          1017938107|  Parenting|   Newborn Parenting|       null|Parents with Kids...|\n",
      "|          1017938107|  Parenting|   Newborn Parenting|       null|Parents with Kids...|\n",
      "|          1024728612|    Medical|Medical General Info|       null|                null|\n",
      "|          1024728612|    Medical|Medical General Info|       null|                null|\n",
      "|          1024728612|    Medical|Medical General Info|       null|                null|\n",
      "|          1024728612|    Medical|Medical General Info|       null|                null|\n",
      "|com.grand.robot.t...|      Games|    Simulation Games|       null|                null|\n",
      "|com.grand.robot.t...|      Games|    Simulation Games|       null|                null|\n",
      "|com.grand.robot.t...|      Games|    Simulation Games|       null|                null|\n",
      "|com.grand.robot.t...|      Games|    Simulation Games|       null|                null|\n",
      "| com.worldlivenewstv|       News|          World News|       null|                null|\n",
      "| com.worldlivenewstv|       News|          World News|       null|                null|\n",
      "| com.worldlivenewstv|       News|          World News|       null|                null|\n",
      "| com.worldlivenewstv|       News|          World News|       null|                null|\n",
      "|           625001689| Dating App|    Religious Dating|       null|              Single|\n",
      "|           625001689| Dating App|    Religious Dating|       null|              Single|\n",
      "|           625001689| Dating App|    Religious Dating|       null|              Single|\n",
      "|           625001689| Dating App|    Religious Dating|       null|              Single|\n",
      "+--------------------+-----------+--------------------+-----------+--------------------+\n",
      "only showing top 20 rows"
     ]
    }
   ],
   "source": [
    "finalapp_df.show()"
   ]
  },
  {
   "cell_type": "code",
   "execution_count": 7,
   "id": "39560431-df61-42e8-ab07-74be3030f6a4",
   "metadata": {
    "execution": {
     "iopub.execute_input": "2024-02-22T06:45:00.899107Z",
     "iopub.status.busy": "2024-02-22T06:45:00.898403Z",
     "iopub.status.idle": "2024-02-22T06:45:07.060648Z",
     "shell.execute_reply": "2024-02-22T06:45:07.058981Z",
     "shell.execute_reply.started": "2024-02-22T06:45:00.899061Z"
    },
    "tags": []
   },
   "outputs": [
    {
     "data": {
      "application/vnd.jupyter.widget-view+json": {
       "model_id": "f123452c660e43d0998ee901098e15c5",
       "version_major": 2,
       "version_minor": 0
      },
      "text/plain": [
       "VBox()"
      ]
     },
     "metadata": {},
     "output_type": "display_data"
    },
    {
     "data": {
      "application/vnd.jupyter.widget-view+json": {
       "model_id": "",
       "version_major": 2,
       "version_minor": 0
      },
      "text/plain": [
       "FloatProgress(value=0.0, bar_style='info', description='Progress:', layout=Layout(height='25px', width='50%'),…"
      ]
     },
     "metadata": {},
     "output_type": "display_data"
    },
    {
     "name": "stdout",
     "output_type": "stream",
     "text": [
      "+--------------------+\n",
      "|         app_l1_name|\n",
      "+--------------------+\n",
      "|              Career|\n",
      "|             Finance|\n",
      "|               Games|\n",
      "|              Events|\n",
      "|  Sports and Fitness|\n",
      "|       Auto Vehicles|\n",
      "|   Food and Beverage|\n",
      "|             Medical|\n",
      "|           Parenting|\n",
      "|                News|\n",
      "|           Education|\n",
      "|     Video Streaming|\n",
      "|          Dating App|\n",
      "|              Travel|\n",
      "|Personal Producti...|\n",
      "|       Call and Chat|\n",
      "|      Religious Apps|\n",
      "|         Photo Video|\n",
      "|               Music|\n",
      "|              Beauty|\n",
      "+--------------------+\n",
      "only showing top 20 rows"
     ]
    }
   ],
   "source": [
    "l1=finalapp_df.select('app_l1_name')\n",
    "l1=l1.distinct()\n",
    "l1.show()"
   ]
  },
  {
   "cell_type": "code",
   "execution_count": 8,
   "id": "37ac9135-92c6-4b13-bba9-9cfef446b483",
   "metadata": {
    "execution": {
     "iopub.execute_input": "2024-02-22T06:45:07.065516Z",
     "iopub.status.busy": "2024-02-22T06:45:07.064865Z",
     "iopub.status.idle": "2024-02-22T06:45:17.510090Z",
     "shell.execute_reply": "2024-02-22T06:45:17.509117Z",
     "shell.execute_reply.started": "2024-02-22T06:45:07.065473Z"
    },
    "tags": []
   },
   "outputs": [
    {
     "data": {
      "application/vnd.jupyter.widget-view+json": {
       "model_id": "6c8da70aa2384ae3bc5fdf515d4a8f3e",
       "version_major": 2,
       "version_minor": 0
      },
      "text/plain": [
       "VBox()"
      ]
     },
     "metadata": {},
     "output_type": "display_data"
    },
    {
     "data": {
      "application/vnd.jupyter.widget-view+json": {
       "model_id": "",
       "version_major": 2,
       "version_minor": 0
      },
      "text/plain": [
       "FloatProgress(value=0.0, bar_style='info', description='Progress:', layout=Layout(height='25px', width='50%'),…"
      ]
     },
     "metadata": {},
     "output_type": "display_data"
    },
    {
     "name": "stdout",
     "output_type": "stream",
     "text": [
      "2339870"
     ]
    }
   ],
   "source": [
    "brq = spark.read.parquet('s3a://ada-prod-data/etl/data/brq/agg/agg_brq/monthly/KH/{202311,202312,202401}/*.parquet')\n",
    "df2=brq .select('ifa','device.device_vendor','device.device_name','device.device_year_of_release','device.device_model','device.device_model','device.major_os','device.platform')\n",
    "df3=df2.withColumn(\"year\", substring(col(\"device_year_of_release\"),0,4))\n",
    "df3=df3.select('ifa','device_vendor','major_os','year')\n",
    "# Add a new column with a single value\n",
    "new_value = \"2024\"\n",
    "df3= df3.withColumn(\"today\", lit(new_value))\n",
    "# Convert string column to integer column\n",
    "df3 = df3.withColumn(\"year\", col(\"year\").cast(\"int\"))\n",
    "df3= df3.withColumn(\"today\", col(\"today\").cast(\"int\"))\n",
    "df3 = df3.withColumn(\"duration\", col(\"today\") - col(\"year\"))\n",
    "# Filter rows where Age is greater than 30\n",
    "switcher= df3.filter(df3['duration'] < 4)\n",
    "\n",
    "switcher=switcher.select('ifa')\n",
    "switcher=switcher.distinct()\n",
    "switcher.count()"
   ]
  },
  {
   "cell_type": "code",
   "execution_count": 9,
   "id": "a913edfe-5943-42a2-a020-8fcd7136333e",
   "metadata": {
    "execution": {
     "iopub.execute_input": "2024-02-22T06:45:17.516106Z",
     "iopub.status.busy": "2024-02-22T06:45:17.515809Z",
     "iopub.status.idle": "2024-02-22T06:45:21.717057Z",
     "shell.execute_reply": "2024-02-22T06:45:21.711017Z",
     "shell.execute_reply.started": "2024-02-22T06:45:17.516079Z"
    },
    "tags": []
   },
   "outputs": [
    {
     "data": {
      "application/vnd.jupyter.widget-view+json": {
       "model_id": "59740cc922bc44dd89c46097dd87b90a",
       "version_major": 2,
       "version_minor": 0
      },
      "text/plain": [
       "VBox()"
      ]
     },
     "metadata": {},
     "output_type": "display_data"
    },
    {
     "data": {
      "application/vnd.jupyter.widget-view+json": {
       "model_id": "",
       "version_major": 2,
       "version_minor": 0
      },
      "text/plain": [
       "FloatProgress(value=0.0, bar_style='info', description='Progress:', layout=Layout(height='25px', width='50%'),…"
      ]
     },
     "metadata": {},
     "output_type": "display_data"
    },
    {
     "name": "stdout",
     "output_type": "stream",
     "text": [
      "+--------------------+--------------------+\n",
      "|                 ifa|     mm_carrier_name|\n",
      "+--------------------+--------------------+\n",
      "|0005aad4-adc4-4c8...|Smart Axiata Co.,Ltd|\n",
      "|00080397-8265-40b...|        Smart Axiata|\n",
      "|00080397-8265-40b...|        Smart Axiata|\n",
      "|001e428c-0532-408...|Smart Axiata Co.,Ltd|\n",
      "|001e428c-0532-408...|        Smart Axiata|\n",
      "|001e428c-0532-408...|Smart Axiata Co.,Ltd|\n",
      "|001e428c-0532-408...|        Smart Axiata|\n",
      "|001e428c-0532-408...|        Smart Axiata|\n",
      "|00245426-aa2d-4c1...|        Smart Axiata|\n",
      "|00245426-aa2d-4c1...|        Smart Axiata|\n",
      "|00291589-2fb6-4c4...|Smart Axiata Co.,Ltd|\n",
      "|002945b3-9b77-47c...|Smart Axiata Co.,Ltd|\n",
      "|002945b3-9b77-47c...|        Smart Axiata|\n",
      "|002945b3-9b77-47c...|Smart Axiata Co.,Ltd|\n",
      "|002945b3-9b77-47c...|        Smart Axiata|\n",
      "|002945b3-9b77-47c...|Smart Axiata Co.,Ltd|\n",
      "|00415f71-2eec-410...|        Smart Axiata|\n",
      "|004e6f4f-3643-4c1...|Smart Axiata Co.,Ltd|\n",
      "|004e6f4f-3643-4c1...|Smart Axiata Co.,Ltd|\n",
      "|004e6f4f-3643-4c1...|Smart Axiata Co.,Ltd|\n",
      "+--------------------+--------------------+\n",
      "only showing top 20 rows"
     ]
    }
   ],
   "source": [
    "brq = spark.read.parquet('s3a://ada-prod-data/etl/data/brq/agg/agg_brq/monthly/KH/{202311,202312,202401}/*.parquet')\n",
    "connection= brq.select('ifa', F.explode('connection')).select('ifa', 'col.*')\n",
    "# Define the list to filter against\n",
    "filter_list = [\"Smart Axiata\", \"Smart Axiata Co.,Ltd\"]\n",
    "connection=connection.select('ifa','mm_carrier_name')\n",
    "# Filter DataFrame where Name is in the filter_list\n",
    "connection = connection.filter(col(\"mm_carrier_name\").isin(filter_list))\n",
    "# Show the filtered DataFrame\n",
    "connection.show()\n",
    "\n",
    "# connection=connection.select('ifa')\n",
    "# connection=connection.distinct()\n",
    "# connection.count()"
   ]
  },
  {
   "cell_type": "code",
   "execution_count": 10,
   "id": "ebb7ee43-bc18-4fca-95e3-18868b8676a1",
   "metadata": {
    "execution": {
     "iopub.execute_input": "2024-02-22T06:45:21.719937Z",
     "iopub.status.busy": "2024-02-22T06:45:21.719152Z",
     "iopub.status.idle": "2024-02-22T06:45:34.771304Z",
     "shell.execute_reply": "2024-02-22T06:45:34.770122Z",
     "shell.execute_reply.started": "2024-02-22T06:45:21.719859Z"
    },
    "tags": []
   },
   "outputs": [
    {
     "data": {
      "application/vnd.jupyter.widget-view+json": {
       "model_id": "673a5ef5b2f9433a92362af8f4286b72",
       "version_major": 2,
       "version_minor": 0
      },
      "text/plain": [
       "VBox()"
      ]
     },
     "metadata": {},
     "output_type": "display_data"
    },
    {
     "data": {
      "application/vnd.jupyter.widget-view+json": {
       "model_id": "",
       "version_major": 2,
       "version_minor": 0
      },
      "text/plain": [
       "FloatProgress(value=0.0, bar_style='info', description='Progress:', layout=Layout(height='25px', width='50%'),…"
      ]
     },
     "metadata": {},
     "output_type": "display_data"
    },
    {
     "name": "stdout",
     "output_type": "stream",
     "text": [
      "+--------------------+--------------------+\n",
      "|                 ifa|     mm_carrier_name|\n",
      "+--------------------+--------------------+\n",
      "|0000da74-2e61-494...|        Smart Axiata|\n",
      "|000467f7-b920-496...|Smart Axiata Co.,Ltd|\n",
      "|000cd9bd-35bb-437...|        Smart Axiata|\n",
      "|000cd9bd-35bb-437...|Smart Axiata Co.,Ltd|\n",
      "|000cd9bd-35bb-437...|        Smart Axiata|\n",
      "|0010a72d-9a55-4c2...|Smart Axiata Co.,Ltd|\n",
      "|0010a72d-9a55-4c2...|        Smart Axiata|\n",
      "|0010a72d-9a55-4c2...|Smart Axiata Co.,Ltd|\n",
      "|0010a72d-9a55-4c2...|Smart Axiata Co.,Ltd|\n",
      "|0010a72d-9a55-4c2...|        Smart Axiata|\n",
      "|0010a72d-9a55-4c2...|Smart Axiata Co.,Ltd|\n",
      "|0010a72d-9a55-4c2...|        Smart Axiata|\n",
      "|0010a72d-9a55-4c2...|        Smart Axiata|\n",
      "|0010a72d-9a55-4c2...|Smart Axiata Co.,Ltd|\n",
      "|0010a72d-9a55-4c2...|Smart Axiata Co.,Ltd|\n",
      "|0010a72d-9a55-4c2...|        Smart Axiata|\n",
      "|0010a72d-9a55-4c2...|Smart Axiata Co.,Ltd|\n",
      "|0010a72d-9a55-4c2...|Smart Axiata Co.,Ltd|\n",
      "|0010a72d-9a55-4c2...|Smart Axiata Co.,Ltd|\n",
      "|0010a72d-9a55-4c2...|        Smart Axiata|\n",
      "+--------------------+--------------------+\n",
      "only showing top 20 rows\n",
      "\n",
      "root\n",
      " |-- ifa: string (nullable = true)\n",
      " |-- bundle: string (nullable = true)\n",
      " |-- asn: string (nullable = true)\n",
      " |-- brq_count: long (nullable = true)"
     ]
    }
   ],
   "source": [
    "switcher_smart=switcher.join(connection,'ifa', 'inner')\n",
    "\n",
    "switcher_smart.show()\n",
    "\n",
    "brq = spark.read.parquet('s3a://ada-prod-data/etl/data/brq/agg/agg_brq/monthly/KH/{202311,202312,202401}/*.parquet')\n",
    "brq2 = brq.select('ifa', F.explode('app')).select('ifa', 'col.*')\n",
    "brq2 = brq2.select('ifa','bundle','asn','brq_count')\n",
    "brq2.printSchema()"
   ]
  },
  {
   "cell_type": "code",
   "execution_count": 11,
   "id": "6ce89a17-6296-4be5-83f0-aab482cdc10b",
   "metadata": {
    "execution": {
     "iopub.execute_input": "2024-02-22T06:45:34.773710Z",
     "iopub.status.busy": "2024-02-22T06:45:34.772985Z",
     "iopub.status.idle": "2024-02-22T06:45:35.101202Z",
     "shell.execute_reply": "2024-02-22T06:45:35.100217Z",
     "shell.execute_reply.started": "2024-02-22T06:45:34.773667Z"
    },
    "tags": []
   },
   "outputs": [
    {
     "data": {
      "application/vnd.jupyter.widget-view+json": {
       "model_id": "c76a573843234a2396bf2fbeb3c68241",
       "version_major": 2,
       "version_minor": 0
      },
      "text/plain": [
       "VBox()"
      ]
     },
     "metadata": {},
     "output_type": "display_data"
    },
    {
     "data": {
      "application/vnd.jupyter.widget-view+json": {
       "model_id": "",
       "version_major": 2,
       "version_minor": 0
      },
      "text/plain": [
       "FloatProgress(value=0.0, bar_style='info', description='Progress:', layout=Layout(height='25px', width='50%'),…"
      ]
     },
     "metadata": {},
     "output_type": "display_data"
    }
   ],
   "source": [
    "switcher_smart_brq=brq2.join(switcher_smart,'ifa', 'inner')\n"
   ]
  },
  {
   "cell_type": "code",
   "execution_count": 12,
   "id": "a867d9d5-af0d-42dc-af55-68c7499a05d9",
   "metadata": {
    "execution": {
     "iopub.execute_input": "2024-02-22T06:45:35.105577Z",
     "iopub.status.busy": "2024-02-22T06:45:35.105301Z",
     "iopub.status.idle": "2024-02-22T06:45:47.695814Z",
     "shell.execute_reply": "2024-02-22T06:45:47.622639Z",
     "shell.execute_reply.started": "2024-02-22T06:45:35.105550Z"
    },
    "tags": []
   },
   "outputs": [
    {
     "data": {
      "application/vnd.jupyter.widget-view+json": {
       "model_id": "305218a6c90b459f9fa99e3f680a6aa3",
       "version_major": 2,
       "version_minor": 0
      },
      "text/plain": [
       "VBox()"
      ]
     },
     "metadata": {},
     "output_type": "display_data"
    },
    {
     "data": {
      "application/vnd.jupyter.widget-view+json": {
       "model_id": "",
       "version_major": 2,
       "version_minor": 0
      },
      "text/plain": [
       "FloatProgress(value=0.0, bar_style='info', description='Progress:', layout=Layout(height='25px', width='50%'),…"
      ]
     },
     "metadata": {},
     "output_type": "display_data"
    },
    {
     "name": "stdout",
     "output_type": "stream",
     "text": [
      "+--------------------+--------------------+--------------------+---------+--------------------+\n",
      "|                 ifa|              bundle|                 asn|brq_count|     mm_carrier_name|\n",
      "+--------------------+--------------------+--------------------+---------+--------------------+\n",
      "|000467f7-b920-496...|com.tht.toilet.fr...|                 NaN|       10|Smart Axiata Co.,Ltd|\n",
      "|000467f7-b920-496...|qr123.hus.cbb098....|                 NaN|        2|Smart Axiata Co.,Ltd|\n",
      "|000467f7-b920-496...|com.fc.tt.pl.supe...|                 NaN|        3|Smart Axiata Co.,Ltd|\n",
      "|000467f7-b920-496...|com.mobadu.Blocky...|Blocky Farm Racin...|        7|Smart Axiata Co.,Ltd|\n",
      "|000467f7-b920-496...|com.higame.par.bu...|                 NaN|        4|Smart Axiata Co.,Ltd|\n",
      "|000467f7-b920-496...|   com.cdtg.gunsound|                 NaN|        4|Smart Axiata Co.,Ltd|\n",
      "|00151de2-031a-436...|com.piriform.ccle...|CCleaner: Memory ...|        3|Smart Axiata Co.,Ltd|\n",
      "|00151de2-031a-436...|com.piriform.ccle...|CCleaner: Memory ...|        3|Smart Axiata Co.,Ltd|\n",
      "|00151de2-031a-436...|com.piriform.ccle...|CCleaner: Memory ...|        2|Smart Axiata Co.,Ltd|\n",
      "|00151de2-031a-436...|com.piriform.ccle...|CCleaner: Memory ...|        2|Smart Axiata Co.,Ltd|\n",
      "|001dea43-b450-445...|com.dencreak.dlca...|ClevCalc - Calcul...|        2|Smart Axiata Co.,Ltd|\n",
      "|001dea43-b450-445...|com.dencreak.dlca...|ClevCalc - Calcul...|        2|Smart Axiata Co.,Ltd|\n",
      "|002869ee-5c99-42f...|doaxs.showme.vivi...|                 NaN|        4|        Smart Axiata|\n",
      "|00320a8c-754c-488...|com.lemon.lvoverseas|CapCut - Video Ed...|        5|Smart Axiata Co.,Ltd|\n",
      "|00320a8c-754c-488...|com.lemon.lvoverseas|CapCut - Video Ed...|        5|        Smart Axiata|\n",
      "|00320a8c-754c-488...|com.lemon.lvoverseas|CapCut - Video Ed...|        5|Smart Axiata Co.,Ltd|\n",
      "|00320a8c-754c-488...|  com.picsart.studio|PicsArt Photo Edi...|       40|Smart Axiata Co.,Ltd|\n",
      "|00320a8c-754c-488...|  com.picsart.studio|PicsArt Photo Edi...|       40|        Smart Axiata|\n",
      "|00320a8c-754c-488...|  com.picsart.studio|PicsArt Photo Edi...|       40|Smart Axiata Co.,Ltd|\n",
      "|00320a8c-754c-488...|  com.simejikeyboard|Facemoji Emoji Ke...|        1|Smart Axiata Co.,Ltd|\n",
      "+--------------------+--------------------+--------------------+---------+--------------------+\n",
      "only showing top 20 rows"
     ]
    }
   ],
   "source": [
    "switcher_smart_brq.show()"
   ]
  },
  {
   "cell_type": "code",
   "execution_count": 13,
   "id": "c6efc826-b148-4885-92ba-6e6b9996e89c",
   "metadata": {
    "execution": {
     "iopub.execute_input": "2024-02-22T06:45:47.702038Z",
     "iopub.status.busy": "2024-02-22T06:45:47.698604Z",
     "iopub.status.idle": "2024-02-22T06:45:48.418957Z",
     "shell.execute_reply": "2024-02-22T06:45:48.417828Z",
     "shell.execute_reply.started": "2024-02-22T06:45:47.701918Z"
    },
    "tags": []
   },
   "outputs": [
    {
     "data": {
      "application/vnd.jupyter.widget-view+json": {
       "model_id": "35a8bf13207045ffa1e6c33a3959e1ec",
       "version_major": 2,
       "version_minor": 0
      },
      "text/plain": [
       "VBox()"
      ]
     },
     "metadata": {},
     "output_type": "display_data"
    },
    {
     "data": {
      "application/vnd.jupyter.widget-view+json": {
       "model_id": "",
       "version_major": 2,
       "version_minor": 0
      },
      "text/plain": [
       "FloatProgress(value=0.0, bar_style='info', description='Progress:', layout=Layout(height='25px', width='50%'),…"
      ]
     },
     "metadata": {},
     "output_type": "display_data"
    }
   ],
   "source": [
    "# switcher_smart_brq=switcher_smart_brq.select('ifa')\n",
    "\n",
    "# switcher_smart_brq=switcher_smart_brq.distinct()\n",
    "\n",
    "# switcher_smart_brq.count()"
   ]
  },
  {
   "cell_type": "code",
   "execution_count": null,
   "id": "d0072fe7-ece1-4388-bd7c-05ee3aed8a22",
   "metadata": {
    "execution": {
     "iopub.execute_input": "2024-02-22T06:45:48.423596Z",
     "iopub.status.busy": "2024-02-22T06:45:48.420512Z"
    }
   },
   "outputs": [
    {
     "data": {
      "application/vnd.jupyter.widget-view+json": {
       "model_id": "55d231656c0f407ba39e87ed4dfca89a",
       "version_major": 2,
       "version_minor": 0
      },
      "text/plain": [
       "VBox()"
      ]
     },
     "metadata": {},
     "output_type": "display_data"
    },
    {
     "data": {
      "application/vnd.jupyter.widget-view+json": {
       "model_id": "da99afa9a1a34af9a27dc55b7e709d5f",
       "version_major": 2,
       "version_minor": 0
      },
      "text/plain": [
       "FloatProgress(value=0.0, bar_style='info', description='Progress:', layout=Layout(height='25px', width='50%'),…"
      ]
     },
     "metadata": {},
     "output_type": "display_data"
    }
   ],
   "source": [
    "# Using max() function\n",
    "switcher_smart_brq.select(max(\"brq_count\")).show(truncate=False)\n",
    "switcher_smart_brq.select(min(\"brq_count\")).show(truncate=False)\n",
    "# Using mean() function\n",
    "switcher_smart_brq.select(mean(\"brq_count\")).show(truncate=False)"
   ]
  },
  {
   "cell_type": "code",
   "execution_count": null,
   "id": "6764e2b6-4a39-4a34-87ed-6012cdde0aaf",
   "metadata": {},
   "outputs": [],
   "source": [
    "switcher_smart_brq= switcher_smart_brq.filter(switcher_smart_brq['brq_count'] < 20)"
   ]
  },
  {
   "cell_type": "code",
   "execution_count": null,
   "id": "7f765fde-b4c8-4bf0-adc1-19bdc353ce0b",
   "metadata": {},
   "outputs": [],
   "source": [
    "switcher_smart_brq=switcher_smart_brq.select('ifa')\n",
    "switcher_smart_brq=switcher_smart_brq.distinct()\n",
    "switcher_smart_brq.count()\n"
   ]
  },
  {
   "cell_type": "code",
   "execution_count": null,
   "id": "3173b3bc-58d3-4276-b02b-f0841a7135c1",
   "metadata": {},
   "outputs": [],
   "source": []
  }
 ],
 "metadata": {
  "kernelspec": {
   "display_name": "PySpark",
   "language": "",
   "name": "pysparkkernel"
  },
  "language_info": {
   "codemirror_mode": {
    "name": "python",
    "version": 2
   },
   "mimetype": "text/x-python",
   "name": "pyspark",
   "pygments_lexer": "python2"
  }
 },
 "nbformat": 4,
 "nbformat_minor": 5
}
