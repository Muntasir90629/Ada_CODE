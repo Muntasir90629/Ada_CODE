{
 "cells": [
  {
   "cell_type": "code",
   "execution_count": null,
   "metadata": {},
   "outputs": [
    {
     "data": {
      "application/vnd.jupyter.widget-view+json": {
       "model_id": "217c0229fd8e4fd0805797a87238c124",
       "version_major": 2,
       "version_minor": 0
      },
      "text/plain": [
       "VBox()"
      ]
     },
     "metadata": {},
     "output_type": "display_data"
    },
    {
     "name": "stdout",
     "output_type": "stream",
     "text": [
      "Starting Spark application\n"
     ]
    },
    {
     "data": {
      "text/html": [
       "<table>\n",
       "<tbody><tr><th>ID</th><th>YARN Application ID</th><th>Kind</th><th>State</th><th>Spark UI</th><th>Driver log</th><th>User</th><th>Current session?</th></tr><tr><td>0</td><td>application_1707717459446_0001</td><td>pyspark</td><td>idle</td><td><a target=\"_blank\" href=\"http://ip-172-22-131-79.ec2.internal:20888/proxy/application_1707717459446_0001/\" class=\"emr-proxy-link j-3TEFWSUEECZ26 application_1707717459446_0001\" emr-resource=\"j-3TEFWSUEECZ26\n",
       "\" application-id=\"application_1707717459446_0001\">Link</a></td><td><a target=\"_blank\" href=\"http://ip-172-22-135-51.ec2.internal:8042/node/containerlogs/container_1707717459446_0001_01_000001/livy\">Link</a></td><td>None</td><td>✔</td></tr></tbody></table>"
      ],
      "text/plain": [
       "<IPython.core.display.HTML object>"
      ]
     },
     "metadata": {},
     "output_type": "display_data"
    },
    {
     "data": {
      "application/vnd.jupyter.widget-view+json": {
       "model_id": "",
       "version_major": 2,
       "version_minor": 0
      },
      "text/plain": [
       "FloatProgress(value=0.0, bar_style='info', description='Progress:', layout=Layout(height='25px', width='50%'),…"
      ]
     },
     "metadata": {},
     "output_type": "display_data"
    },
    {
     "name": "stdout",
     "output_type": "stream",
     "text": [
      "SparkSession available as 'spark'.\n"
     ]
    },
    {
     "data": {
      "application/vnd.jupyter.widget-view+json": {
       "model_id": "",
       "version_major": 2,
       "version_minor": 0
      },
      "text/plain": [
       "FloatProgress(value=0.0, bar_style='info', description='Progress:', layout=Layout(height='25px', width='50%'),…"
      ]
     },
     "metadata": {},
     "output_type": "display_data"
    }
   ],
   "source": [
    "from pyspark import SparkContext, SparkConf, HiveContext\n",
    "from pyspark.sql.functions import *\n",
    "from pyspark.sql.types import *\n",
    "import pyspark.sql.functions as F\n",
    "import pyspark.sql.types as T\n",
    "import csv\n",
    "# import pandas as pd\n",
    "# import numpy as np\n",
    "import sys\n",
    "from pyspark.sql import Window\n",
    "from pyspark.sql.functions import rank, col\n",
    "# import geohash2 as geohash\n",
    "# import pygeohash as pgh\n",
    "from functools import reduce\n",
    "from pyspark.sql import *"
   ]
  },
  {
   "cell_type": "code",
   "execution_count": null,
   "metadata": {},
   "outputs": [],
   "source": []
  },
  {
   "cell_type": "code",
   "execution_count": null,
   "metadata": {},
   "outputs": [
    {
     "data": {
      "application/vnd.jupyter.widget-view+json": {
       "model_id": "5b936f2d092e45e79a7961083e6b87d5",
       "version_major": 2,
       "version_minor": 0
      },
      "text/plain": [
       "VBox()"
      ]
     },
     "metadata": {},
     "output_type": "display_data"
    },
    {
     "data": {
      "application/vnd.jupyter.widget-view+json": {
       "model_id": "",
       "version_major": 2,
       "version_minor": 0
      },
      "text/plain": [
       "FloatProgress(value=0.0, bar_style='info', description='Progress:', layout=Layout(height='25px', width='50%'),…"
      ]
     },
     "metadata": {},
     "output_type": "display_data"
    }
   ],
   "source": [
    "brq = spark.read.parquet('s3a://ada-prod-data/etl/data/brq/agg/agg_brq/monthly/BD/2023{10,11,12}/*.parquet')"
   ]
  },
  {
   "cell_type": "code",
   "execution_count": null,
   "metadata": {},
   "outputs": [
    {
     "data": {
      "application/vnd.jupyter.widget-view+json": {
       "model_id": "11ac097924ac4032870f27eedb7e02cf",
       "version_major": 2,
       "version_minor": 0
      },
      "text/plain": [
       "VBox()"
      ]
     },
     "metadata": {},
     "output_type": "display_data"
    },
    {
     "data": {
      "application/vnd.jupyter.widget-view+json": {
       "model_id": "",
       "version_major": 2,
       "version_minor": 0
      },
      "text/plain": [
       "FloatProgress(value=0.0, bar_style='info', description='Progress:', layout=Layout(height='25px', width='50%'),…"
      ]
     },
     "metadata": {},
     "output_type": "display_data"
    },
    {
     "name": "stdout",
     "output_type": "stream",
     "text": [
      "root\n",
      " |-- ifa: string (nullable = true)\n",
      " |-- device: struct (nullable = true)\n",
      " |    |-- device_vendor: string (nullable = true)\n",
      " |    |-- device_name: string (nullable = true)\n",
      " |    |-- device_manufacturer: string (nullable = true)\n",
      " |    |-- device_model: string (nullable = true)\n",
      " |    |-- device_year_of_release: string (nullable = true)\n",
      " |    |-- platform: string (nullable = true)\n",
      " |    |-- major_os: string (nullable = true)\n",
      " |    |-- device_category: string (nullable = true)\n",
      " |-- connection: array (nullable = true)\n",
      " |    |-- element: struct (containsNull = true)\n",
      " |    |    |-- mm_con_type_desc: string (nullable = true)\n",
      " |    |    |-- mm_carrier_name: string (nullable = true)\n",
      " |    |    |-- req_con_type: integer (nullable = true)\n",
      " |    |    |-- req_carrier_mnc: string (nullable = true)\n",
      " |    |    |-- req_carrier_name: string (nullable = true)\n",
      " |    |    |-- req_carrier_code: string (nullable = true)\n",
      " |    |    |-- req_carrier_mcc: string (nullable = true)\n",
      " |    |    |-- brq_count: long (nullable = true)\n",
      " |    |    |-- first_seen: timestamp (nullable = true)\n",
      " |    |    |-- last_seen: timestamp (nullable = true)\n",
      " |    |    |-- user_agent: string (nullable = true)\n",
      " |    |    |-- req_con_type_desc: string (nullable = true)\n",
      " |    |    |-- ndays: long (nullable = true)\n",
      " |-- app: array (nullable = true)\n",
      " |    |-- element: struct (containsNull = true)\n",
      " |    |    |-- bundle: string (nullable = true)\n",
      " |    |    |-- brq_count: long (nullable = true)\n",
      " |    |    |-- first_seen: timestamp (nullable = true)\n",
      " |    |    |-- last_seen: timestamp (nullable = true)\n",
      " |    |    |-- platform: string (nullable = true)\n",
      " |    |    |-- asn: string (nullable = true)\n",
      " |    |    |-- ndays: long (nullable = true)\n",
      " |-- maxmind: array (nullable = true)\n",
      " |    |-- element: struct (containsNull = true)\n",
      " |    |    |-- geohash: string (nullable = true)\n",
      " |    |    |-- brq_count: long (nullable = true)\n",
      " |    |    |-- first_seen: timestamp (nullable = true)\n",
      " |    |    |-- last_seen: timestamp (nullable = true)\n",
      " |    |    |-- longitude: float (nullable = true)\n",
      " |    |    |-- state_name: string (nullable = true)\n",
      " |    |    |-- city: string (nullable = true)\n",
      " |    |    |-- state: string (nullable = true)\n",
      " |    |    |-- latitude: float (nullable = true)\n",
      " |    |    |-- country: string (nullable = true)\n",
      " |    |    |-- ndays: long (nullable = true)\n",
      " |-- gps: array (nullable = true)\n",
      " |    |-- element: struct (containsNull = true)\n",
      " |    |    |-- geohash: string (nullable = true)\n",
      " |    |    |-- brq_count: long (nullable = true)\n",
      " |    |    |-- first_seen: timestamp (nullable = true)\n",
      " |    |    |-- last_seen: timestamp (nullable = true)\n",
      " |    |    |-- longitude: float (nullable = true)\n",
      " |    |    |-- state_name: string (nullable = true)\n",
      " |    |    |-- city: string (nullable = true)\n",
      " |    |    |-- state: string (nullable = true)\n",
      " |    |    |-- latitude: float (nullable = true)\n",
      " |    |    |-- country: string (nullable = true)\n",
      " |    |    |-- ndays: long (nullable = true)\n",
      " |-- user: struct (nullable = true)\n",
      " |    |-- gender: string (nullable = true)\n",
      " |    |-- yob: integer (nullable = true)\n",
      " |    |-- age: integer (nullable = true)\n",
      " |-- brq_count: long (nullable = true)"
     ]
    }
   ],
   "source": [
    "brq.printSchema()"
   ]
  },
  {
   "cell_type": "code",
   "execution_count": null,
   "metadata": {},
   "outputs": [
    {
     "data": {
      "application/vnd.jupyter.widget-view+json": {
       "model_id": "6dbed22290da4820a574dbf48aa77252",
       "version_major": 2,
       "version_minor": 0
      },
      "text/plain": [
       "VBox()"
      ]
     },
     "metadata": {},
     "output_type": "display_data"
    },
    {
     "data": {
      "application/vnd.jupyter.widget-view+json": {
       "model_id": "",
       "version_major": 2,
       "version_minor": 0
      },
      "text/plain": [
       "FloatProgress(value=0.0, bar_style='info', description='Progress:', layout=Layout(height='25px', width='50%'),…"
      ]
     },
     "metadata": {},
     "output_type": "display_data"
    }
   ],
   "source": [
    "brq2 = brq.select('ifa', F.explode('gps')).select('ifa', 'col.*')\n",
    "gps_df=brq2.withColumn(\"day\", date_format('last_seen', 'dd'))\n",
    "gps_df=gps_df.withColumn(\"month\", date_format('last_seen', 'MM'))\n",
    "gps_df=gps_df.drop(gps_df.last_seen)\n",
    "gps_df=gps_df.withColumn(\"new_geohash\", substring(col(\"geohash\"),1,7))\n",
    "gps_df=gps_df.drop(gps_df.geohash)\n",
    "gps_df=gps_df.withColumnRenamed(\"new_geohash\",\"geohash\")"
   ]
  },
  {
   "cell_type": "code",
   "execution_count": null,
   "metadata": {},
   "outputs": [
    {
     "data": {
      "application/vnd.jupyter.widget-view+json": {
       "model_id": "b58039bb14df471886843e13c51d561b",
       "version_major": 2,
       "version_minor": 0
      },
      "text/plain": [
       "VBox()"
      ]
     },
     "metadata": {},
     "output_type": "display_data"
    },
    {
     "data": {
      "application/vnd.jupyter.widget-view+json": {
       "model_id": "",
       "version_major": 2,
       "version_minor": 0
      },
      "text/plain": [
       "FloatProgress(value=0.0, bar_style='info', description='Progress:', layout=Layout(height='25px', width='50%'),…"
      ]
     },
     "metadata": {},
     "output_type": "display_data"
    },
    {
     "name": "stdout",
     "output_type": "stream",
     "text": [
      "+--------------------+---------+-------------------+---------+----------+-------------------+--------+--------+-------+-----+---+-----+-------+\n",
      "|                 ifa|brq_count|         first_seen|longitude|state_name|               city|   state|latitude|country|ndays|day|month|geohash|\n",
      "+--------------------+---------+-------------------+---------+----------+-------------------+--------+--------+-------+-----+---+-----+-------+\n",
      "|0000b54a-cf1e-4ec...|        4|2023-12-01 03:49:41|  90.3657|       NaN|            Azimpur|   Dhaka| 23.7731|     BD|    2| 11|   12|wh0r0rf|\n",
      "|0000b54a-cf1e-4ec...|        1|2023-12-10 08:23:31|   90.382|       NaN|            Azimpur|   Dhaka|  23.746|     BD|    1| 10|   12|wh0r0dy|\n",
      "|0000b54a-cf1e-4ec...|       11|2023-12-09 03:13:45|   90.404|       NaN|             Paltan|   Dhaka| 23.7571|     BD|    1| 09|   12|wh0r1hy|\n",
      "|0000bd4d-0ca9-446...|       18|2023-12-01 09:47:15|   89.566|       NaN|             Khulna|  Khulna| 22.8159|     BD|    3| 11|   12|tup9y1e|\n",
      "|0000bd4d-0ca9-446...|        1|2023-12-01 08:55:38|  90.4287|       NaN|              Dhaka|   Dhaka| 23.7004|     BD|    1| 01|   12|wh0qcf8|\n",
      "|0000bd4d-0ca9-446...|       71|2023-12-03 11:29:39|  90.4093|       NaN|             Paltan|   Dhaka| 23.7272|     BD|    2| 04|   12|wh0qcr6|\n",
      "|00023115-1804-478...|        1|2023-12-01 04:30:21|  88.7186|       NaN|           Rajshahi|Rajshahi| 24.4491|     BD|    1| 01|   12|tur54ff|\n",
      "|00023115-1804-478...|        4|2023-12-01 04:30:36|   88.766|       NaN|           Rajshahi|Rajshahi| 24.4459|     BD|    1| 01|   12|tur55fj|\n",
      "|00023115-1804-478...|       17|2023-12-16 14:32:42|  90.3742|       NaN|            Azimpur|   Dhaka| 23.7018|     BD|    5| 27|   12|wh0qbdb|\n",
      "|00023115-1804-478...|       12|2023-12-08 15:29:53|  89.2627|       NaN|            Jessore|  Khulna| 23.1579|     BD|    4| 26|   12|tup7xpz|\n",
      "|00023115-1804-478...|       10|2023-12-15 04:33:46|  89.3962|       NaN|Bhatpara Abhaynagar|  Khulna| 23.0361|     BD|    1| 15|   12|tupe438|\n",
      "|00023115-1804-478...|       46|2023-12-15 12:46:55|  90.4287|       NaN|              Dhaka|   Dhaka| 23.7004|     BD|    6| 30|   12|wh0qcf8|\n",
      "|00023115-1804-478...|        9|2023-12-29 08:52:18|  90.0571|       NaN|          Madaripur|   Dhaka|  23.221|     BD|    1| 29|   12|wh0h173|\n",
      "|00023115-1804-478...|        5|2023-12-22 12:14:18|  90.4026|       NaN|             Paltan|   Dhaka| 23.7257|     BD|    2| 27|   12|wh0qcpj|\n",
      "|00023115-1804-478...|        4|2023-12-29 08:59:11|  89.2349|       NaN|           Kesabpur|  Khulna| 23.0256|     BD|    2| 31|   12|tup6yxd|\n",
      "|00023115-1804-478...|        1|2023-12-25 06:22:29|  89.2162|       NaN|            Jessore|  Khulna| 23.1694|     BD|    1| 25|   12|tup7y1v|\n",
      "|00023115-1804-478...|       34|2023-12-08 15:30:41|   89.566|       NaN|             Khulna|  Khulna| 22.8159|     BD|    9| 31|   12|tup9y1e|\n",
      "|0002ccbe-1ede-4ca...|       39|2023-12-07 02:15:24|  90.4093|       NaN|             Paltan|   Dhaka| 23.7272|     BD|    5| 16|   12|wh0qcr6|\n",
      "|0002d395-e49b-45b...|        2|2023-12-06 17:15:35|  90.4093|       NaN|             Paltan|   Dhaka| 23.7272|     BD|    2| 10|   12|wh0qcr6|\n",
      "|0002d395-e49b-45b...|        2|2023-12-26 03:05:56|  90.4026|       NaN|             Paltan|   Dhaka| 23.7257|     BD|    1| 26|   12|wh0qcpj|\n",
      "+--------------------+---------+-------------------+---------+----------+-------------------+--------+--------+-------+-----+---+-----+-------+\n",
      "only showing top 20 rows"
     ]
    }
   ],
   "source": [
    "gps_df.show()"
   ]
  },
  {
   "cell_type": "code",
   "execution_count": null,
   "metadata": {},
   "outputs": [
    {
     "data": {
      "application/vnd.jupyter.widget-view+json": {
       "model_id": "0d25886562614fbcb92a2e2719f9399f",
       "version_major": 2,
       "version_minor": 0
      },
      "text/plain": [
       "VBox()"
      ]
     },
     "metadata": {},
     "output_type": "display_data"
    },
    {
     "data": {
      "application/vnd.jupyter.widget-view+json": {
       "model_id": "",
       "version_major": 2,
       "version_minor": 0
      },
      "text/plain": [
       "FloatProgress(value=0.0, bar_style='info', description='Progress:', layout=Layout(height='25px', width='50%'),…"
      ]
     },
     "metadata": {},
     "output_type": "display_data"
    }
   ],
   "source": [
    "# br= spark.read.parquet('s3a://ada-prod-data/etl/data/brq/agg/agg_brq/monthly/BD/2024{01}/*.parquet')"
   ]
  },
  {
   "cell_type": "code",
   "execution_count": null,
   "metadata": {},
   "outputs": [
    {
     "data": {
      "application/vnd.jupyter.widget-view+json": {
       "model_id": "64a198aad89349149ef6d151d07523b1",
       "version_major": 2,
       "version_minor": 0
      },
      "text/plain": [
       "VBox()"
      ]
     },
     "metadata": {},
     "output_type": "display_data"
    },
    {
     "data": {
      "application/vnd.jupyter.widget-view+json": {
       "model_id": "",
       "version_major": 2,
       "version_minor": 0
      },
      "text/plain": [
       "FloatProgress(value=0.0, bar_style='info', description='Progress:', layout=Layout(height='25px', width='50%'),…"
      ]
     },
     "metadata": {},
     "output_type": "display_data"
    }
   ],
   "source": [
    "# brq2 = br.select('ifa', F.explode('gps')).select('ifa', 'col.*')\n",
    "# gps_df2=brq2.withColumn(\"day\", date_format('last_seen', 'dd'))\n",
    "# gps_df=gps_df2.withColumn(\"month\", date_format('last_seen', 'MM'))\n",
    "# gps_df2=gps_df2.drop(gps_df.last_seen)\n",
    "# gps_df2=gps_df2.withColumn(\"new_geohash\", substring(col(\"geohash\"),1,6))\n",
    "# gps_df2=gps_df2.drop(gps_df.geohash)\n",
    "# gps_df2=gps_df2.withColumnRenamed(\"new_geohash\",\"geohash\")"
   ]
  },
  {
   "cell_type": "code",
   "execution_count": null,
   "metadata": {},
   "outputs": [
    {
     "data": {
      "application/vnd.jupyter.widget-view+json": {
       "model_id": "6f10db8ac4524c1fbe7849a54b425f44",
       "version_major": 2,
       "version_minor": 0
      },
      "text/plain": [
       "VBox()"
      ]
     },
     "metadata": {},
     "output_type": "display_data"
    },
    {
     "data": {
      "application/vnd.jupyter.widget-view+json": {
       "model_id": "",
       "version_major": 2,
       "version_minor": 0
      },
      "text/plain": [
       "FloatProgress(value=0.0, bar_style='info', description='Progress:', layout=Layout(height='25px', width='50%'),…"
      ]
     },
     "metadata": {},
     "output_type": "display_data"
    }
   ],
   "source": [
    "br=spark.read.csv('s3a://ada-dev/BD-DataScience/muntasir/barikoi/uttara.csv',header=True)"
   ]
  },
  {
   "cell_type": "code",
   "execution_count": null,
   "metadata": {},
   "outputs": [
    {
     "data": {
      "application/vnd.jupyter.widget-view+json": {
       "model_id": "e6455de8e29c4966bb3a779054511415",
       "version_major": 2,
       "version_minor": 0
      },
      "text/plain": [
       "VBox()"
      ]
     },
     "metadata": {},
     "output_type": "display_data"
    },
    {
     "data": {
      "application/vnd.jupyter.widget-view+json": {
       "model_id": "",
       "version_major": 2,
       "version_minor": 0
      },
      "text/plain": [
       "FloatProgress(value=0.0, bar_style='info', description='Progress:', layout=Layout(height='25px', width='50%'),…"
      ]
     },
     "metadata": {},
     "output_type": "display_data"
    },
    {
     "name": "stdout",
     "output_type": "stream",
     "text": [
      "root\n",
      " |-- geohash: string (nullable = true)"
     ]
    }
   ],
   "source": [
    "br.printSchema()"
   ]
  },
  {
   "cell_type": "code",
   "execution_count": null,
   "metadata": {},
   "outputs": [
    {
     "data": {
      "application/vnd.jupyter.widget-view+json": {
       "model_id": "f5053cfc2c6348078ef54ce8ea3207ba",
       "version_major": 2,
       "version_minor": 0
      },
      "text/plain": [
       "VBox()"
      ]
     },
     "metadata": {},
     "output_type": "display_data"
    },
    {
     "data": {
      "application/vnd.jupyter.widget-view+json": {
       "model_id": "",
       "version_major": 2,
       "version_minor": 0
      },
      "text/plain": [
       "FloatProgress(value=0.0, bar_style='info', description='Progress:', layout=Layout(height='25px', width='50%'),…"
      ]
     },
     "metadata": {},
     "output_type": "display_data"
    },
    {
     "name": "stdout",
     "output_type": "stream",
     "text": [
      "root\n",
      " |-- geohash: string (nullable = true)\n",
      " |-- ifa: string (nullable = true)\n",
      " |-- brq_count: long (nullable = true)\n",
      " |-- first_seen: timestamp (nullable = true)\n",
      " |-- longitude: float (nullable = true)\n",
      " |-- state_name: string (nullable = true)\n",
      " |-- city: string (nullable = true)\n",
      " |-- state: string (nullable = true)\n",
      " |-- latitude: float (nullable = true)\n",
      " |-- country: string (nullable = true)\n",
      " |-- ndays: long (nullable = true)\n",
      " |-- day: string (nullable = true)\n",
      " |-- month: string (nullable = true)\n",
      "\n",
      "+-------+--------------------+---------+-------------------+---------+----------+-----+-----+--------+-------+-----+---+-----+\n",
      "|geohash|                 ifa|brq_count|         first_seen|longitude|state_name| city|state|latitude|country|ndays|day|month|\n",
      "+-------+--------------------+---------+-------------------+---------+----------+-----+-----+--------+-------+-----+---+-----+\n",
      "|wh0rbbv|000563e4-1735-43c...|        3|2023-12-06 08:18:22|  90.3927|       NaN|Tungi|Dhaka| 23.8672|     BD|    2| 24|   12|\n",
      "|wh0rbbv|000b6888-1b07-417...|        1|2023-12-04 14:53:15|  90.3927|       NaN|Tungi|Dhaka| 23.8672|     BD|    1| 04|   12|\n",
      "|wh0rbbv|000d5bda-e31c-4d7...|       38|2023-12-01 01:05:36|  90.3927|       NaN|Tungi|Dhaka| 23.8672|     BD|    7| 31|   12|\n",
      "|wh0rbbv|0014aa47-6b37-402...|        9|2023-12-13 09:30:50|  90.3927|       NaN|Tungi|Dhaka| 23.8672|     BD|    1| 13|   12|\n",
      "|wh0rbbv|0015bc6b-faa2-4f7...|      179|2023-12-19 15:09:39|  90.3927|       NaN|Tungi|Dhaka| 23.8672|     BD|   12| 31|   12|\n",
      "|wh0rbbv|0016003c-bda2-428...|        8|2023-12-14 00:31:30|  90.3927|       NaN|Tungi|Dhaka| 23.8672|     BD|    3| 19|   12|\n",
      "|wh0rbbv|001644a6-234c-4c9...|        2|2023-12-10 08:50:08|  90.3927|       NaN|Tungi|Dhaka| 23.8672|     BD|    2| 12|   12|\n",
      "|wh0rbbv|001938dd-6a90-463...|        2|2023-12-31 11:59:00|  90.3927|       NaN|Tungi|Dhaka| 23.8672|     BD|    1| 31|   12|\n",
      "|wh0rbbv|001da225-1943-4a5...|       22|2023-12-21 12:36:42|  90.3927|       NaN|Tungi|Dhaka| 23.8672|     BD|    3| 27|   12|\n",
      "|wh0rbbv|001e9147-5a2c-4fe...|       29|2023-12-11 19:19:31|  90.3927|       NaN|Tungi|Dhaka| 23.8672|     BD|    1| 11|   12|\n",
      "|wh0rbbv|0025c88d-4ab7-461...|        4|2023-12-02 08:19:04|  90.3927|       NaN|Tungi|Dhaka| 23.8672|     BD|    3| 27|   12|\n",
      "|wh0rbbv|00273b60-61be-4d0...|       11|2023-12-01 14:33:29|  90.3927|       NaN|Tungi|Dhaka| 23.8672|     BD|    2| 18|   12|\n",
      "|wh0rbbv|00289530-2ac1-49a...|        1|2023-12-30 04:20:26|  90.3927|       NaN|Tungi|Dhaka| 23.8672|     BD|    1| 30|   12|\n",
      "|wh0rbbv|002b4bad-8015-436...|        1|2023-12-26 07:20:23|  90.3927|       NaN|Tungi|Dhaka| 23.8672|     BD|    1| 26|   12|\n",
      "|wh0rbbv|0030071b-7c9c-4aa...|        1|2023-12-15 23:38:18|  90.3927|       NaN|Tungi|Dhaka| 23.8672|     BD|    1| 15|   12|\n",
      "|wh0rbbv|00304472-2ba8-495...|       46|2023-12-26 11:43:35|  90.3927|       NaN|Tungi|Dhaka| 23.8672|     BD|    2| 31|   12|\n",
      "|wh0rbbv|0035faa2-6d8d-435...|        2|2023-12-17 02:56:37|  90.3927|       NaN|Tungi|Dhaka| 23.8672|     BD|    1| 17|   12|\n",
      "|wh0rbbv|003a4c38-18c7-458...|        5|2023-12-15 11:09:13|  90.3927|       NaN|Tungi|Dhaka| 23.8672|     BD|    1| 15|   12|\n",
      "|wh0rbbv|003b6012-7711-468...|       16|2023-12-03 01:08:50|  90.3927|       NaN|Tungi|Dhaka| 23.8672|     BD|    3| 30|   12|\n",
      "|wh0rbbv|003b9a15-9d75-42b...|       27|2023-12-25 06:41:45|  90.3927|       NaN|Tungi|Dhaka| 23.8672|     BD|    4| 30|   12|\n",
      "+-------+--------------------+---------+-------------------+---------+----------+-----+-----+--------+-------+-----+---+-----+\n",
      "only showing top 20 rows"
     ]
    }
   ],
   "source": [
    "join=br.join(gps_df,'geohash','inner')\n",
    "# join=join.select('ifa')\n",
    "# join=join.distinct()\n",
    "# join.count()\n",
    "\n",
    "join.printSchema()\n",
    "\n",
    "join.show()"
   ]
  },
  {
   "cell_type": "code",
   "execution_count": null,
   "metadata": {},
   "outputs": [
    {
     "data": {
      "application/vnd.jupyter.widget-view+json": {
       "model_id": "42b46802ae4e4f71a1f4c153a9acff06",
       "version_major": 2,
       "version_minor": 0
      },
      "text/plain": [
       "VBox()"
      ]
     },
     "metadata": {},
     "output_type": "display_data"
    },
    {
     "data": {
      "application/vnd.jupyter.widget-view+json": {
       "model_id": "",
       "version_major": 2,
       "version_minor": 0
      },
      "text/plain": [
       "FloatProgress(value=0.0, bar_style='info', description='Progress:', layout=Layout(height='25px', width='50%'),…"
      ]
     },
     "metadata": {},
     "output_type": "display_data"
    },
    {
     "name": "stdout",
     "output_type": "stream",
     "text": [
      "+--------------+\n",
      "|max(brq_count)|\n",
      "+--------------+\n",
      "|168893        |\n",
      "+--------------+\n",
      "\n",
      "+--------------+\n",
      "|min(brq_count)|\n",
      "+--------------+\n",
      "|1             |\n",
      "+--------------+\n",
      "\n",
      "+-----------------+\n",
      "|avg(brq_count)   |\n",
      "+-----------------+\n",
      "|37.73024815731787|\n",
      "+-----------------+"
     ]
    }
   ],
   "source": [
    "# Using max() function\n",
    "join.select(max(\"brq_count\")).show(truncate=False)\n",
    "# Using min() function\n",
    "join.select(min(\"brq_count\")).show(truncate=False)\n",
    "# Using mean() function\n",
    "join.select(mean(\"brq_count\")).show(truncate=False)"
   ]
  },
  {
   "cell_type": "code",
   "execution_count": null,
   "metadata": {},
   "outputs": [
    {
     "data": {
      "application/vnd.jupyter.widget-view+json": {
       "model_id": "e4502b36ed084dc3afdf4cb66c9a9ca0",
       "version_major": 2,
       "version_minor": 0
      },
      "text/plain": [
       "VBox()"
      ]
     },
     "metadata": {},
     "output_type": "display_data"
    },
    {
     "data": {
      "application/vnd.jupyter.widget-view+json": {
       "model_id": "",
       "version_major": 2,
       "version_minor": 0
      },
      "text/plain": [
       "FloatProgress(value=0.0, bar_style='info', description='Progress:', layout=Layout(height='25px', width='50%'),…"
      ]
     },
     "metadata": {},
     "output_type": "display_data"
    }
   ],
   "source": [
    "# from pyspark.sql.functions import when\n",
    "\n",
    "# # Define conditions and values for the new column\n",
    "# join = join.withColumn(\"Data Usage\", \n",
    "#                     when(join[\"brq_count\"] <= 20, \"LOW\")\n",
    "#                     .when((join[\"brq_count\"] >= 21) & (join[\"brq_count\"] <= 70), \"MID\")\n",
    "#                     .when((join[\"brq_count\"] >= 71) & (join[\"brq_count\"] <= 150), \"HIGH\")\n",
    "#                     .when(join[\"brq_count\"] >= 151, \"ULTRA HIGH\"))\n",
    "\n"
   ]
  },
  {
   "cell_type": "code",
   "execution_count": null,
   "metadata": {},
   "outputs": [
    {
     "data": {
      "application/vnd.jupyter.widget-view+json": {
       "model_id": "f28a40a37b154266a1e7f758d98aa538",
       "version_major": 2,
       "version_minor": 0
      },
      "text/plain": [
       "VBox()"
      ]
     },
     "metadata": {},
     "output_type": "display_data"
    },
    {
     "data": {
      "application/vnd.jupyter.widget-view+json": {
       "model_id": "",
       "version_major": 2,
       "version_minor": 0
      },
      "text/plain": [
       "FloatProgress(value=0.0, bar_style='info', description='Progress:', layout=Layout(height='25px', width='50%'),…"
      ]
     },
     "metadata": {},
     "output_type": "display_data"
    },
    {
     "name": "stdout",
     "output_type": "stream",
     "text": [
      "+-------+-------------+\n",
      "|geohash|brq_count_sum|\n",
      "+-------+-------------+\n",
      "|wh0rbbv|    707621904|\n",
      "|wh0rc17|      1075302|\n",
      "|wh0r9pe|       418352|\n",
      "|wh0rc0d|       119849|\n",
      "|wh0rc4h|        49661|\n",
      "|wh0r9pc|        38769|\n",
      "|wh0rc30|        29620|\n",
      "|wh0r9pb|        28891|\n",
      "|wh0rc0v|        23736|\n",
      "|wh0rc18|        22421|\n",
      "|wh0rc06|        18999|\n",
      "|wh0rbcz|        18035|\n",
      "|wh0r9pf|        17765|\n",
      "|wh0rc0s|        17010|\n",
      "|wh0rbfp|        16265|\n",
      "|wh0rc45|        16094|\n",
      "|wh0rc07|        15113|\n",
      "|wh0rc15|        14053|\n",
      "|wh0rbbh|        13559|\n",
      "|wh0rbfh|        11357|\n",
      "+-------+-------------+\n",
      "only showing top 20 rows"
     ]
    }
   ],
   "source": [
    "data=join.groupBy(\"geohash\").agg(F.sum('brq_count').alias('brq_count_sum')).sort('brq_count_sum', ascending=False)\n",
    "data.show()"
   ]
  },
  {
   "cell_type": "code",
   "execution_count": null,
   "metadata": {},
   "outputs": [
    {
     "data": {
      "application/vnd.jupyter.widget-view+json": {
       "model_id": "b100db4547004f42a700cdf4ba97b182",
       "version_major": 2,
       "version_minor": 0
      },
      "text/plain": [
       "VBox()"
      ]
     },
     "metadata": {},
     "output_type": "display_data"
    },
    {
     "data": {
      "application/vnd.jupyter.widget-view+json": {
       "model_id": "",
       "version_major": 2,
       "version_minor": 0
      },
      "text/plain": [
       "FloatProgress(value=0.0, bar_style='info', description='Progress:', layout=Layout(height='25px', width='50%'),…"
      ]
     },
     "metadata": {},
     "output_type": "display_data"
    },
    {
     "name": "stdout",
     "output_type": "stream",
     "text": [
      "root\n",
      " |-- geohash: string (nullable = true)\n",
      " |-- brq_count_sum: long (nullable = true)"
     ]
    }
   ],
   "source": [
    "data.printSchema()"
   ]
  },
  {
   "cell_type": "code",
   "execution_count": null,
   "metadata": {},
   "outputs": [
    {
     "data": {
      "application/vnd.jupyter.widget-view+json": {
       "model_id": "822fb2e430024664acf305c96071c145",
       "version_major": 2,
       "version_minor": 0
      },
      "text/plain": [
       "VBox()"
      ]
     },
     "metadata": {},
     "output_type": "display_data"
    },
    {
     "data": {
      "application/vnd.jupyter.widget-view+json": {
       "model_id": "",
       "version_major": 2,
       "version_minor": 0
      },
      "text/plain": [
       "FloatProgress(value=0.0, bar_style='info', description='Progress:', layout=Layout(height='25px', width='50%'),…"
      ]
     },
     "metadata": {},
     "output_type": "display_data"
    }
   ],
   "source": [
    "cnt=join.groupBy(\"geohash\").agg(F.countDistinct('ifa').alias('count')).sort('count', ascending=False)"
   ]
  },
  {
   "cell_type": "code",
   "execution_count": null,
   "metadata": {},
   "outputs": [
    {
     "data": {
      "application/vnd.jupyter.widget-view+json": {
       "model_id": "8439b9e5282e402486907b19a35cadf8",
       "version_major": 2,
       "version_minor": 0
      },
      "text/plain": [
       "VBox()"
      ]
     },
     "metadata": {},
     "output_type": "display_data"
    },
    {
     "data": {
      "application/vnd.jupyter.widget-view+json": {
       "model_id": "",
       "version_major": 2,
       "version_minor": 0
      },
      "text/plain": [
       "FloatProgress(value=0.0, bar_style='info', description='Progress:', layout=Layout(height='25px', width='50%'),…"
      ]
     },
     "metadata": {},
     "output_type": "display_data"
    },
    {
     "name": "stdout",
     "output_type": "stream",
     "text": [
      "+-------+--------+\n",
      "|geohash|   count|\n",
      "+-------+--------+\n",
      "|wh0rbbv|13154108|\n",
      "|wh0rc17|   30301|\n",
      "|wh0r9pe|    8991|\n",
      "|wh0rc4h|    1134|\n",
      "|wh0rc45|    1075|\n",
      "|wh0rc15|     979|\n",
      "|wh0rc1e|     810|\n",
      "|wh0rc07|     760|\n",
      "|wh0rc06|     658|\n",
      "|wh0rbfh|     616|\n",
      "|wh0rc0g|     599|\n",
      "|wh0rc47|     498|\n",
      "|wh0rc1g|     492|\n",
      "|wh0r9pg|     487|\n",
      "|wh0rc0e|     456|\n",
      "|wh0r9pf|     431|\n",
      "|wh0rc40|     395|\n",
      "|wh0rc0f|     385|\n",
      "|wh0rbfj|     385|\n",
      "|wh0rc42|     370|\n",
      "+-------+--------+\n",
      "only showing top 20 rows"
     ]
    }
   ],
   "source": [
    "cnt.show()"
   ]
  },
  {
   "cell_type": "code",
   "execution_count": null,
   "metadata": {},
   "outputs": [
    {
     "data": {
      "application/vnd.jupyter.widget-view+json": {
       "model_id": "935b5cbc099e4c35b4fde48f25afe3a2",
       "version_major": 2,
       "version_minor": 0
      },
      "text/plain": [
       "VBox()"
      ]
     },
     "metadata": {},
     "output_type": "display_data"
    },
    {
     "data": {
      "application/vnd.jupyter.widget-view+json": {
       "model_id": "",
       "version_major": 2,
       "version_minor": 0
      },
      "text/plain": [
       "FloatProgress(value=0.0, bar_style='info', description='Progress:', layout=Layout(height='25px', width='50%'),…"
      ]
     },
     "metadata": {},
     "output_type": "display_data"
    }
   ],
   "source": [
    "colab=cnt.join(data,'geohash','inner')"
   ]
  },
  {
   "cell_type": "code",
   "execution_count": null,
   "metadata": {},
   "outputs": [
    {
     "data": {
      "application/vnd.jupyter.widget-view+json": {
       "model_id": "ba11235843794b24a7df1f4155b4ea24",
       "version_major": 2,
       "version_minor": 0
      },
      "text/plain": [
       "VBox()"
      ]
     },
     "metadata": {},
     "output_type": "display_data"
    },
    {
     "data": {
      "application/vnd.jupyter.widget-view+json": {
       "model_id": "",
       "version_major": 2,
       "version_minor": 0
      },
      "text/plain": [
       "FloatProgress(value=0.0, bar_style='info', description='Progress:', layout=Layout(height='25px', width='50%'),…"
      ]
     },
     "metadata": {},
     "output_type": "display_data"
    },
    {
     "name": "stdout",
     "output_type": "stream",
     "text": [
      "+-------+--------+-------------+\n",
      "|geohash|   count|brq_count_sum|\n",
      "+-------+--------+-------------+\n",
      "|wh0rc02|     214|         7486|\n",
      "|wh0rc1h|     257|         5237|\n",
      "|wh0rc40|     395|         5563|\n",
      "|wh0rc1z|     184|         4243|\n",
      "|wh0rc45|    1075|        16094|\n",
      "|wh0rc0e|     456|        10432|\n",
      "|wh0rc0n|     149|         7205|\n",
      "|wh0rbbv|13154108|    707621904|\n",
      "|wh0rc0v|     162|        23736|\n",
      "|wh0rc4h|    1134|        49661|\n",
      "|wh0rc10|     146|         2825|\n",
      "|wh0rc20|     266|         5492|\n",
      "|wh0rbcm|     223|         5183|\n",
      "|wh0rc1f|     139|         1623|\n",
      "|wh0rc1n|     200|         4262|\n",
      "|wh0rc0k|     157|         3237|\n",
      "|wh0rbbr|     163|         5047|\n",
      "|wh0rbbq|     166|         2567|\n",
      "|wh0rc30|     213|        29620|\n",
      "|wh0rbbs|     142|         2986|\n",
      "+-------+--------+-------------+\n",
      "only showing top 20 rows"
     ]
    }
   ],
   "source": [
    "colab.show()"
   ]
  },
  {
   "cell_type": "code",
   "execution_count": null,
   "metadata": {},
   "outputs": [
    {
     "data": {
      "application/vnd.jupyter.widget-view+json": {
       "model_id": "6565042862c549a98d23e9a50da6c024",
       "version_major": 2,
       "version_minor": 0
      },
      "text/plain": [
       "VBox()"
      ]
     },
     "metadata": {},
     "output_type": "display_data"
    },
    {
     "data": {
      "application/vnd.jupyter.widget-view+json": {
       "model_id": "",
       "version_major": 2,
       "version_minor": 0
      },
      "text/plain": [
       "FloatProgress(value=0.0, bar_style='info', description='Progress:', layout=Layout(height='25px', width='50%'),…"
      ]
     },
     "metadata": {},
     "output_type": "display_data"
    }
   ],
   "source": [
    "colab.coalesce(1).write.csv('s3a://ada-dev/BD-DataScience/muntasir/barikoi2/', mode='overwrite', header=True)"
   ]
  },
  {
   "cell_type": "code",
   "execution_count": null,
   "metadata": {},
   "outputs": [],
   "source": []
  },
  {
   "cell_type": "code",
   "execution_count": null,
   "metadata": {},
   "outputs": [],
   "source": []
  }
 ],
 "metadata": {
  "kernelspec": {
   "display_name": "PySpark",
   "language": "",
   "name": "pysparkkernel"
  },
  "language_info": {
   "name": ""
  }
 },
 "nbformat": 4,
 "nbformat_minor": 4
}
